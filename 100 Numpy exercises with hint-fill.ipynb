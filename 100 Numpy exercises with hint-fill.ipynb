{
 "cells": [
  {
   "cell_type": "markdown",
   "metadata": {
    "nbpresent": {
     "id": "630044c2-4deb-410c-b735-2d63d5d7cb4b"
    }
   },
   "source": [
    "# 100 numpy exercises with hint\n",
    "\n",
    "This is a collection of exercises that have been collected in the numpy mailing list, on stack overflow and in the numpy documentation. The goal of this collection is to offer a quick reference for both old and new users but also to provide a set of exercises for those who teach.\n",
    "\n",
    "\n",
    "If you find an error or think you've a better way to solve some of them, feel free to open an issue at <https://github.com/rougier/numpy-100>"
   ]
  },
  {
   "cell_type": "markdown",
   "metadata": {
    "nbpresent": {
     "id": "146d97c8-1c5f-449a-936b-3fe1c04c5a86"
    }
   },
   "source": [
    "#### 1. Import the numpy package under the name `np` (★☆☆) \n",
    "(**hint**: import … as …)"
   ]
  },
  {
   "cell_type": "code",
   "execution_count": 1,
   "metadata": {
    "nbpresent": {
     "id": "374088f8-5a15-45af-9f1c-6076565d98f8"
    }
   },
   "outputs": [],
   "source": [
    "import numpy as np"
   ]
  },
  {
   "cell_type": "markdown",
   "metadata": {
    "nbpresent": {
     "id": "7ef58cac-8434-433d-bd8e-0ccaa4d0db0e"
    }
   },
   "source": [
    "#### 2. Print the numpy version and the configuration (★☆☆) \n",
    "(**hint**: np.\\_\\_version\\_\\_, np.show\\_config)"
   ]
  },
  {
   "cell_type": "code",
   "execution_count": 2,
   "metadata": {
    "nbpresent": {
     "id": "fd51d9ac-fa53-4277-900c-41e6beb088fe"
    }
   },
   "outputs": [
    {
     "name": "stdout",
     "output_type": "stream",
     "text": [
      "1.13.3\n",
      "mkl_info:\n",
      "    libraries = ['mkl_rt', 'pthread']\n",
      "    library_dirs = ['/Users/rockroku/anaconda3/lib']\n",
      "    define_macros = [('SCIPY_MKL_H', None), ('HAVE_CBLAS', None)]\n",
      "    include_dirs = ['/Users/rockroku/anaconda3/include']\n",
      "blas_mkl_info:\n",
      "    libraries = ['mkl_rt', 'pthread']\n",
      "    library_dirs = ['/Users/rockroku/anaconda3/lib']\n",
      "    define_macros = [('SCIPY_MKL_H', None), ('HAVE_CBLAS', None)]\n",
      "    include_dirs = ['/Users/rockroku/anaconda3/include']\n",
      "blas_opt_info:\n",
      "    libraries = ['mkl_rt', 'pthread']\n",
      "    library_dirs = ['/Users/rockroku/anaconda3/lib']\n",
      "    define_macros = [('SCIPY_MKL_H', None), ('HAVE_CBLAS', None)]\n",
      "    include_dirs = ['/Users/rockroku/anaconda3/include']\n",
      "lapack_mkl_info:\n",
      "    libraries = ['mkl_rt', 'pthread']\n",
      "    library_dirs = ['/Users/rockroku/anaconda3/lib']\n",
      "    define_macros = [('SCIPY_MKL_H', None), ('HAVE_CBLAS', None)]\n",
      "    include_dirs = ['/Users/rockroku/anaconda3/include']\n",
      "lapack_opt_info:\n",
      "    libraries = ['mkl_rt', 'pthread']\n",
      "    library_dirs = ['/Users/rockroku/anaconda3/lib']\n",
      "    define_macros = [('SCIPY_MKL_H', None), ('HAVE_CBLAS', None)]\n",
      "    include_dirs = ['/Users/rockroku/anaconda3/include']\n"
     ]
    }
   ],
   "source": [
    "print(np.__version__)\n",
    "np.show_config()"
   ]
  },
  {
   "cell_type": "markdown",
   "metadata": {
    "nbpresent": {
     "id": "4d9f93d4-7523-4b49-927c-59470f868659"
    }
   },
   "source": [
    "#### 3. Create a null vector of size 10 (★☆☆) \n",
    "(**hint**: np.zeros)"
   ]
  },
  {
   "cell_type": "code",
   "execution_count": 3,
   "metadata": {
    "nbpresent": {
     "id": "cee1d70d-388c-4c48-bcd2-a5f952891941"
    }
   },
   "outputs": [
    {
     "data": {
      "text/plain": [
       "array([ 0.,  0.,  0.,  0.,  0.,  0.,  0.,  0.,  0.,  0.])"
      ]
     },
     "execution_count": 3,
     "metadata": {},
     "output_type": "execute_result"
    }
   ],
   "source": [
    "zero_3 = np.zeros(10)\n",
    "zero_3"
   ]
  },
  {
   "cell_type": "markdown",
   "metadata": {
    "nbpresent": {
     "id": "81c664d3-c62b-4a13-a9bc-d6762c18371c"
    }
   },
   "source": [
    "#### 4.  How to find the memory size of any array (★☆☆) \n",
    "(**hint**: size, itemsize)"
   ]
  },
  {
   "cell_type": "code",
   "execution_count": 4,
   "metadata": {
    "nbpresent": {
     "id": "6fab47c5-6ca3-4d37-9675-caf8cf551881"
    }
   },
   "outputs": [
    {
     "name": "stdout",
     "output_type": "stream",
     "text": [
      "10\n",
      "8\n"
     ]
    }
   ],
   "source": [
    "print(zero_3.size)\n",
    "print(zero_3.itemsize)\n"
   ]
  },
  {
   "cell_type": "markdown",
   "metadata": {
    "nbpresent": {
     "id": "22336289-83bb-4b15-bbb7-1f25f8055b6c"
    }
   },
   "source": [
    "#### 5.  How to get the documentation of the numpy add function from the command line? (★☆☆) \n",
    "(**hint**: np.info)"
   ]
  },
  {
   "cell_type": "code",
   "execution_count": 5,
   "metadata": {
    "nbpresent": {
     "id": "f1b4be16-7382-4314-94b5-427ce445eb7f"
    }
   },
   "outputs": [
    {
     "name": "stdout",
     "output_type": "stream",
     "text": [
      "add(x1, x2, /, out=None, *, where=True, casting='same_kind', order='K', dtype=None, subok=True[, signature, extobj])\n",
      "\n",
      "Add arguments element-wise.\n",
      "\n",
      "Parameters\n",
      "----------\n",
      "x1, x2 : array_like\n",
      "    The arrays to be added.  If ``x1.shape != x2.shape``, they must be\n",
      "    broadcastable to a common shape (which may be the shape of one or\n",
      "    the other).\n",
      "out : ndarray, None, or tuple of ndarray and None, optional\n",
      "    A location into which the result is stored. If provided, it must have\n",
      "    a shape that the inputs broadcast to. If not provided or `None`,\n",
      "    a freshly-allocated array is returned. A tuple (possible only as a\n",
      "    keyword argument) must have length equal to the number of outputs.\n",
      "where : array_like, optional\n",
      "    Values of True indicate to calculate the ufunc at that position, values\n",
      "    of False indicate to leave the value in the output alone.\n",
      "**kwargs\n",
      "    For other keyword-only arguments, see the\n",
      "    :ref:`ufunc docs <ufuncs.kwargs>`.\n",
      "\n",
      "Returns\n",
      "-------\n",
      "add : ndarray or scalar\n",
      "    The sum of `x1` and `x2`, element-wise.  Returns a scalar if\n",
      "    both  `x1` and `x2` are scalars.\n",
      "\n",
      "Notes\n",
      "-----\n",
      "Equivalent to `x1` + `x2` in terms of array broadcasting.\n",
      "\n",
      "Examples\n",
      "--------\n",
      ">>> np.add(1.0, 4.0)\n",
      "5.0\n",
      ">>> x1 = np.arange(9.0).reshape((3, 3))\n",
      ">>> x2 = np.arange(3.0)\n",
      ">>> np.add(x1, x2)\n",
      "array([[  0.,   2.,   4.],\n",
      "       [  3.,   5.,   7.],\n",
      "       [  6.,   8.,  10.]])\n"
     ]
    }
   ],
   "source": [
    "np.info(np.add)"
   ]
  },
  {
   "cell_type": "markdown",
   "metadata": {
    "nbpresent": {
     "id": "33bdcc3b-1d75-4782-a5d6-b9d9aae4c330"
    }
   },
   "source": [
    "#### 6.  Create a null vector of size 10 but the fifth value which is 1 (★☆☆) \n",
    "(**hint**: array\\[4\\])"
   ]
  },
  {
   "cell_type": "code",
   "execution_count": 6,
   "metadata": {
    "nbpresent": {
     "id": "1476cd56-04a4-4504-9710-02f6f5426300"
    }
   },
   "outputs": [
    {
     "data": {
      "text/plain": [
       "array([ 0.,  0.,  0.,  0.,  1.,  0.,  0.,  0.,  0.,  0.])"
      ]
     },
     "execution_count": 6,
     "metadata": {},
     "output_type": "execute_result"
    }
   ],
   "source": [
    "temp6 = np.zeros(10)\n",
    "temp6[4] = 1\n",
    "temp6"
   ]
  },
  {
   "cell_type": "markdown",
   "metadata": {
    "nbpresent": {
     "id": "c851a2fa-dcdc-471a-a0aa-5bbe9794881e"
    }
   },
   "source": [
    "#### 7.  Create a vector with values ranging from 10 to 49 (★☆☆) \n",
    "(**hint**: np.arange)"
   ]
  },
  {
   "cell_type": "code",
   "execution_count": 7,
   "metadata": {
    "nbpresent": {
     "id": "3370e320-81e2-4f54-afb6-4a7b8e1afb47"
    }
   },
   "outputs": [],
   "source": [
    "temp7 = np.arange(10, 49)"
   ]
  },
  {
   "cell_type": "markdown",
   "metadata": {
    "nbpresent": {
     "id": "de748085-2b02-4028-82f3-ae9bbfdc66f3"
    }
   },
   "source": [
    "#### 8.  Reverse a vector (first element becomes last) (★☆☆) \n",
    "(**hint**: array\\[::-1\\])"
   ]
  },
  {
   "cell_type": "code",
   "execution_count": 8,
   "metadata": {
    "nbpresent": {
     "id": "058320b7-f7c3-462d-b1f2-55d864e92dad"
    }
   },
   "outputs": [
    {
     "data": {
      "text/plain": [
       "array([48, 47, 46, 45, 44, 43, 42, 41, 40, 39, 38, 37, 36, 35, 34, 33, 32,\n",
       "       31, 30, 29, 28, 27, 26, 25, 24, 23, 22, 21, 20, 19, 18, 17, 16, 15,\n",
       "       14, 13, 12, 11, 10])"
      ]
     },
     "execution_count": 8,
     "metadata": {},
     "output_type": "execute_result"
    }
   ],
   "source": [
    "temp7[::-1]"
   ]
  },
  {
   "cell_type": "markdown",
   "metadata": {
    "nbpresent": {
     "id": "1da2ca1e-fd94-4126-bcf8-ab650d3ec8ca"
    }
   },
   "source": [
    "#### 9.  Create a 3x3 matrix with values ranging from 0 to 8 (★☆☆) \n",
    "(**hint**: reshape)"
   ]
  },
  {
   "cell_type": "code",
   "execution_count": 9,
   "metadata": {
    "nbpresent": {
     "id": "c6c51dbc-16e1-4940-8e21-4c9152a23c51"
    }
   },
   "outputs": [
    {
     "data": {
      "text/plain": [
       "array([[0, 1, 2],\n",
       "       [3, 4, 5],\n",
       "       [6, 7, 8]])"
      ]
     },
     "execution_count": 9,
     "metadata": {},
     "output_type": "execute_result"
    }
   ],
   "source": [
    "temp9 = np.arange(0, 9)\n",
    "temp9.reshape(3, 3)"
   ]
  },
  {
   "cell_type": "markdown",
   "metadata": {
    "nbpresent": {
     "id": "63097ac5-b3b5-4830-a1a4-52a080991b4d"
    }
   },
   "source": [
    "#### 10. Find indices of non-zero elements from \\[1,2,0,0,4,0\\] (★☆☆) \n",
    "(**hint**: np.nonzero)"
   ]
  },
  {
   "cell_type": "code",
   "execution_count": 10,
   "metadata": {
    "nbpresent": {
     "id": "5489465f-0e47-4d5b-ad26-e3373cd9feb2"
    }
   },
   "outputs": [
    {
     "data": {
      "text/plain": [
       "(array([0, 1, 4]),)"
      ]
     },
     "execution_count": 10,
     "metadata": {},
     "output_type": "execute_result"
    }
   ],
   "source": [
    "temp10 = np.array([1,2,0,0,4,0])\n",
    "np.nonzero(temp10)"
   ]
  },
  {
   "cell_type": "markdown",
   "metadata": {
    "nbpresent": {
     "id": "c023062a-69b0-4d4d-a40b-6fff34a85d2d"
    }
   },
   "source": [
    "#### 11. Create a 3x3 identity matrix (★☆☆) \n",
    "(**hint**: np.eye)"
   ]
  },
  {
   "cell_type": "code",
   "execution_count": 11,
   "metadata": {
    "nbpresent": {
     "id": "5d5d2881-61a0-4c2c-8a46-e03efd6166d6"
    }
   },
   "outputs": [
    {
     "data": {
      "text/plain": [
       "array([[ 1.,  0.,  0.],\n",
       "       [ 0.,  1.,  0.],\n",
       "       [ 0.,  0.,  1.]])"
      ]
     },
     "execution_count": 11,
     "metadata": {},
     "output_type": "execute_result"
    }
   ],
   "source": [
    "np.eye(3,3)"
   ]
  },
  {
   "cell_type": "markdown",
   "metadata": {
    "nbpresent": {
     "id": "964f5663-f8ef-4425-a427-71908bb69793"
    }
   },
   "source": [
    "#### 12. Create a 3x3x3 array with random values (★☆☆) \n",
    "(**hint**: np.random.random)"
   ]
  },
  {
   "cell_type": "code",
   "execution_count": 12,
   "metadata": {
    "nbpresent": {
     "id": "5de83c45-59dd-4d3d-9565-71ddbaf92062"
    }
   },
   "outputs": [
    {
     "data": {
      "text/plain": [
       "array([[[ 0.95968364,  0.40481597,  0.09996774],\n",
       "        [ 0.94214633,  0.11216732,  0.44101104],\n",
       "        [ 0.48493005,  0.2634123 ,  0.02108366]],\n",
       "\n",
       "       [[ 0.23294968,  0.864453  ,  0.33477099],\n",
       "        [ 0.45457379,  0.68087369,  0.2718201 ],\n",
       "        [ 0.15931496,  0.35201839,  0.59681961]],\n",
       "\n",
       "       [[ 0.7449454 ,  0.0923767 ,  0.26671136],\n",
       "        [ 0.58348848,  0.11991414,  0.13028256],\n",
       "        [ 0.86863926,  0.77155708,  0.60337989]]])"
      ]
     },
     "execution_count": 12,
     "metadata": {},
     "output_type": "execute_result"
    }
   ],
   "source": [
    "np.random.random((3, 3, 3))"
   ]
  },
  {
   "cell_type": "markdown",
   "metadata": {
    "nbpresent": {
     "id": "70413773-791e-4995-b555-9a2e751688f4"
    }
   },
   "source": [
    "#### 13. Create a 10x10 array with random values and find the minimum and maximum values (★☆☆) \n",
    "(**hint**: min, max)"
   ]
  },
  {
   "cell_type": "code",
   "execution_count": 13,
   "metadata": {
    "nbpresent": {
     "id": "615a69df-31a5-42f2-8227-c2da355ab9ec"
    }
   },
   "outputs": [
    {
     "name": "stdout",
     "output_type": "stream",
     "text": [
      "[[ 0.1160032   0.68013057  0.20008046  0.64554852  0.99619945  0.61700092\n",
      "   0.60069193  0.62621966  0.30352536  0.3410383 ]\n",
      " [ 0.06336425  0.54577066  0.26589037  0.2592128   0.50990413  0.76604745\n",
      "   0.9113363   0.70918944  0.83762957  0.36053212]\n",
      " [ 0.9154729   0.56299093  0.60510134  0.03199107  0.79490161  0.23540532\n",
      "   0.67313637  0.17520682  0.74641687  0.807998  ]\n",
      " [ 0.00670089  0.52193881  0.30666095  0.60742916  0.34452124  0.97363395\n",
      "   0.51976591  0.01345133  0.99518957  0.54881306]\n",
      " [ 0.06806947  0.03046024  0.08782303  0.20709463  0.56446515  0.10371754\n",
      "   0.43068042  0.01794097  0.20358623  0.44021486]\n",
      " [ 0.16640769  0.58887091  0.11842569  0.72737111  0.85542266  0.80569825\n",
      "   0.24440433  0.28383994  0.96185033  0.5672596 ]\n",
      " [ 0.21384072  0.18826523  0.83578128  0.67235723  0.4656837   0.11008196\n",
      "   0.24277151  0.22365452  0.09537998  0.14833478]\n",
      " [ 0.58165299  0.34765933  0.95983317  0.46972627  0.59134641  0.44217788\n",
      "   0.18305106  0.77496291  0.76463914  0.2156726 ]\n",
      " [ 0.79436881  0.74700179  0.26500286  0.80143777  0.47111767  0.43472791\n",
      "   0.75233028  0.05956266  0.83599732  0.33083683]\n",
      " [ 0.05821072  0.88006102  0.06559112  0.79703206  0.94593298  0.36696573\n",
      "   0.27981343  0.69620272  0.42335545  0.17825729]]\n",
      "min: 0.00670089458319\n",
      "max: 0.996199448535\n"
     ]
    }
   ],
   "source": [
    "temp13 = np.random.random((10, 10))\n",
    "print(temp13)\n",
    "print(\"min:\", np.min(temp13))\n",
    "print(\"max:\", np.max(temp13))"
   ]
  },
  {
   "cell_type": "markdown",
   "metadata": {
    "nbpresent": {
     "id": "a0b7626b-2e7d-40f9-b89d-1f4e40552a99"
    }
   },
   "source": [
    "#### 14. Create a random vector of size 30 and find the mean value (★☆☆) \n",
    "(**hint**: mean)"
   ]
  },
  {
   "cell_type": "code",
   "execution_count": 14,
   "metadata": {
    "nbpresent": {
     "id": "0109ae6d-ad58-473c-a99e-201383b227ee"
    }
   },
   "outputs": [
    {
     "name": "stdout",
     "output_type": "stream",
     "text": [
      "[ 0.387184    0.22978595  0.30879942  0.36490024  0.68633086  0.20262765\n",
      "  0.57735136  0.43385437  0.71667624  0.75859408  0.28591072  0.69396561\n",
      "  0.13988665  0.42163507  0.6066778   0.66854835  0.63501678  0.25858819\n",
      "  0.09341995  0.78617332  0.96966791  0.16409524  0.30717045  0.31003386\n",
      "  0.90413915  0.14816507  0.93443354  0.47758506  0.23684201  0.3375606 ]\n",
      "mean: 0.468187316327\n"
     ]
    }
   ],
   "source": [
    "temp14 = np.random.random((30))\n",
    "print(temp14)\n",
    "print(\"mean:\", np.mean(temp14))"
   ]
  },
  {
   "cell_type": "markdown",
   "metadata": {
    "nbpresent": {
     "id": "db4c335f-d198-4bb0-8bd1-06c69acf4d84"
    }
   },
   "source": [
    "#### 15. Create a 2d array with 1 on the border and 0 inside (★☆☆) \n",
    "(**hint**: array\\[1:-1, 1:-1\\])"
   ]
  },
  {
   "cell_type": "code",
   "execution_count": 15,
   "metadata": {
    "nbpresent": {
     "id": "672c138a-875e-486c-ba6c-2bf05a2da511"
    }
   },
   "outputs": [
    {
     "data": {
      "text/plain": [
       "array([[ 1.,  1.,  1.,  1.,  1.],\n",
       "       [ 1.,  0.,  0.,  0.,  1.],\n",
       "       [ 1.,  0.,  0.,  0.,  1.],\n",
       "       [ 1.,  0.,  0.,  0.,  1.],\n",
       "       [ 1.,  1.,  1.,  1.,  1.]])"
      ]
     },
     "execution_count": 15,
     "metadata": {},
     "output_type": "execute_result"
    }
   ],
   "source": [
    "temp15 = np.ones((5, 5))\n",
    "temp15[1:-1, 1:-1] = 0\n",
    "temp15"
   ]
  },
  {
   "cell_type": "markdown",
   "metadata": {
    "nbpresent": {
     "id": "3bfcfbbf-5037-4cab-abd7-01280e000818"
    }
   },
   "source": [
    "#### 16. How to add a border (filled with 0's) around an existing array? (★☆☆) \n",
    "(**hint**: np.pad)"
   ]
  },
  {
   "cell_type": "code",
   "execution_count": 16,
   "metadata": {
    "nbpresent": {
     "id": "016e1d61-528e-4ed8-8f30-112d7999556e"
    }
   },
   "outputs": [
    {
     "name": "stdout",
     "output_type": "stream",
     "text": [
      "[[ 1.  1.  1.  1.  1.]\n",
      " [ 1.  1.  1.  1.  1.]\n",
      " [ 1.  1.  1.  1.  1.]\n",
      " [ 1.  1.  1.  1.  1.]\n",
      " [ 1.  1.  1.  1.  1.]]\n",
      "[[ 0.  0.  0.  0.  0.  0.  0.]\n",
      " [ 0.  1.  1.  1.  1.  1.  0.]\n",
      " [ 0.  1.  1.  1.  1.  1.  0.]\n",
      " [ 0.  1.  1.  1.  1.  1.  0.]\n",
      " [ 0.  1.  1.  1.  1.  1.  0.]\n",
      " [ 0.  1.  1.  1.  1.  1.  0.]\n",
      " [ 0.  0.  0.  0.  0.  0.  0.]]\n"
     ]
    }
   ],
   "source": [
    "temp16 = np.ones((5, 5))\n",
    "print(temp16)\n",
    "print(np.pad(temp16, 1, mode='constant'))"
   ]
  },
  {
   "cell_type": "markdown",
   "metadata": {
    "nbpresent": {
     "id": "def22c24-4f8c-4813-af5d-204529fd352d"
    }
   },
   "source": [
    "#### 17. What is the result of the following expression? (★☆☆) \n",
    "(**hint**: NaN = not a number, inf = infinity)"
   ]
  },
  {
   "cell_type": "markdown",
   "metadata": {
    "nbpresent": {
     "id": "98dc3808-fd6d-444c-a93d-6ffac1499eea"
    }
   },
   "source": [
    "```python\n",
    "0 * np.nan\n",
    "np.nan == np.nan\n",
    "np.inf > np.nan\n",
    "np.nan - np.nan\n",
    "0.3 == 3 * 0.1\n",
    "```"
   ]
  },
  {
   "cell_type": "code",
   "execution_count": 17,
   "metadata": {
    "nbpresent": {
     "id": "bdb29ed8-0b61-477d-aae1-a0a607a845c7"
    }
   },
   "outputs": [
    {
     "name": "stdout",
     "output_type": "stream",
     "text": [
      "nan\n",
      "False\n",
      "False\n",
      "False\n",
      "nan\n",
      "False\n"
     ]
    }
   ],
   "source": [
    "print(0 * np.nan)\n",
    "print(np.nan == np.nan)\n",
    "print(np.inf == np.nan)\n",
    "print(np.inf > np.nan)\n",
    "print(np.nan - np.nan)\n",
    "print(0.3 == 3 * 0.1)"
   ]
  },
  {
   "cell_type": "code",
   "execution_count": 18,
   "metadata": {
    "nbpresent": {
     "id": "cc43cb35-cc58-47cc-b155-47eb0008a431"
    }
   },
   "outputs": [
    {
     "data": {
      "text/plain": [
       "0.30000000000000004"
      ]
     },
     "execution_count": 18,
     "metadata": {},
     "output_type": "execute_result"
    }
   ],
   "source": [
    "3*0.1"
   ]
  },
  {
   "cell_type": "markdown",
   "metadata": {
    "nbpresent": {
     "id": "8901842d-2096-4f9e-8ad9-186371700e3a"
    }
   },
   "source": [
    "#### 18. Create a 5x5 matrix with values 1,2,3,4 just below the diagonal (★☆☆) \n",
    "(**hint**: np.diag)"
   ]
  },
  {
   "cell_type": "code",
   "execution_count": 19,
   "metadata": {
    "nbpresent": {
     "id": "4e10bad5-7d02-413a-b2d0-84944ae747f2"
    }
   },
   "outputs": [
    {
     "name": "stdout",
     "output_type": "stream",
     "text": [
      "[[0 0 0 0 0]\n",
      " [1 0 0 0 0]\n",
      " [0 2 0 0 0]\n",
      " [0 0 3 0 0]\n",
      " [0 0 0 4 0]]\n"
     ]
    }
   ],
   "source": [
    "temp18 = np.diag([1,2,3,4], k=-1)\n",
    "print(temp18)"
   ]
  },
  {
   "cell_type": "markdown",
   "metadata": {
    "nbpresent": {
     "id": "31d1b9ca-acff-46e6-9857-d3efda7e19ac"
    }
   },
   "source": [
    "#### 19. Create a 8x8 matrix and fill it with a checkerboard pattern (★☆☆) \n",
    "(**hint**: array\\[::2\\])"
   ]
  },
  {
   "cell_type": "code",
   "execution_count": 20,
   "metadata": {
    "nbpresent": {
     "id": "8c47d675-f920-46a2-91a0-30a0a3dc9b8b"
    }
   },
   "outputs": [
    {
     "name": "stdout",
     "output_type": "stream",
     "text": [
      "[[ 0.  0.  0.  0.  0.  0.  0.  0.]\n",
      " [ 0.  0.  0.  0.  0.  0.  0.  0.]\n",
      " [ 0.  0.  0.  0.  0.  0.  0.  0.]\n",
      " [ 0.  0.  0.  0.  0.  0.  0.  0.]\n",
      " [ 0.  0.  0.  0.  0.  0.  0.  0.]\n",
      " [ 0.  0.  0.  0.  0.  0.  0.  0.]\n",
      " [ 0.  0.  0.  0.  0.  0.  0.  0.]\n",
      " [ 0.  0.  0.  0.  0.  0.  0.  0.]]\n",
      "\n",
      "[[ 0.  0.  0.  0.  0.  0.  0.  0.]\n",
      " [ 1.  0.  1.  0.  1.  0.  1.  0.]\n",
      " [ 0.  0.  0.  0.  0.  0.  0.  0.]\n",
      " [ 1.  0.  1.  0.  1.  0.  1.  0.]\n",
      " [ 0.  0.  0.  0.  0.  0.  0.  0.]\n",
      " [ 1.  0.  1.  0.  1.  0.  1.  0.]\n",
      " [ 0.  0.  0.  0.  0.  0.  0.  0.]\n",
      " [ 1.  0.  1.  0.  1.  0.  1.  0.]]\n",
      "\n",
      "[[ 0.  1.  0.  1.  0.  1.  0.  1.]\n",
      " [ 1.  0.  1.  0.  1.  0.  1.  0.]\n",
      " [ 0.  1.  0.  1.  0.  1.  0.  1.]\n",
      " [ 1.  0.  1.  0.  1.  0.  1.  0.]\n",
      " [ 0.  1.  0.  1.  0.  1.  0.  1.]\n",
      " [ 1.  0.  1.  0.  1.  0.  1.  0.]\n",
      " [ 0.  1.  0.  1.  0.  1.  0.  1.]\n",
      " [ 1.  0.  1.  0.  1.  0.  1.  0.]]\n"
     ]
    }
   ],
   "source": [
    "temp19 = np.zeros((8,8))\n",
    "print(temp19, end=\"\\n\\n\")\n",
    "temp19[1::2,::2] = 1\n",
    "print(temp19, end=\"\\n\\n\")\n",
    "temp19[::2,1::2] = 1\n",
    "print(temp19)"
   ]
  },
  {
   "cell_type": "markdown",
   "metadata": {
    "nbpresent": {
     "id": "1b3b009b-8175-4b60-947f-ef41b59661c2"
    }
   },
   "source": [
    "#### 20. Consider a (6,7,8) shape array, what is the index (x,y,z) of the 100th element? \n",
    "(**hint**: np.unravel_index)"
   ]
  },
  {
   "cell_type": "code",
   "execution_count": 21,
   "metadata": {
    "nbpresent": {
     "id": "c2727cf5-49f7-4382-90b8-de1006037b1a"
    }
   },
   "outputs": [
    {
     "data": {
      "text/plain": [
       "(1, 5, 4)"
      ]
     },
     "execution_count": 21,
     "metadata": {},
     "output_type": "execute_result"
    }
   ],
   "source": [
    "np.unravel_index(100,(6,7,8))"
   ]
  },
  {
   "cell_type": "markdown",
   "metadata": {
    "nbpresent": {
     "id": "7b9f7d3c-0734-47fb-bb8a-cbc37c0d36d8"
    }
   },
   "source": [
    "#### 21. Create a checkerboard 8x8 matrix using the tile function (★☆☆) \n",
    "(**hint**: np.tile)"
   ]
  },
  {
   "cell_type": "code",
   "execution_count": 22,
   "metadata": {
    "nbpresent": {
     "id": "c2c6cfcb-27be-4219-87f5-edf045a1d941"
    }
   },
   "outputs": [
    {
     "data": {
      "text/plain": [
       "array([[0, 1, 0, 1, 0, 1, 0, 1],\n",
       "       [1, 0, 1, 0, 1, 0, 1, 0],\n",
       "       [0, 1, 0, 1, 0, 1, 0, 1],\n",
       "       [1, 0, 1, 0, 1, 0, 1, 0],\n",
       "       [0, 1, 0, 1, 0, 1, 0, 1],\n",
       "       [1, 0, 1, 0, 1, 0, 1, 0],\n",
       "       [0, 1, 0, 1, 0, 1, 0, 1],\n",
       "       [1, 0, 1, 0, 1, 0, 1, 0]])"
      ]
     },
     "execution_count": 22,
     "metadata": {},
     "output_type": "execute_result"
    }
   ],
   "source": [
    "np.tile(np.array([[0,1],[1,0]]), (4,4))"
   ]
  },
  {
   "cell_type": "markdown",
   "metadata": {
    "nbpresent": {
     "id": "f5b42f00-c100-4796-b50f-2f35075ffcda"
    }
   },
   "source": [
    "#### 22. Normalize a 5x5 random matrix (★☆☆) \n",
    "(**hint**: (x - min) / (max - min))"
   ]
  },
  {
   "cell_type": "code",
   "execution_count": 23,
   "metadata": {
    "nbpresent": {
     "id": "156c4723-747a-474d-939b-80467e41a013"
    }
   },
   "outputs": [
    {
     "name": "stdout",
     "output_type": "stream",
     "text": [
      "[[ 14.8083062    3.11398928  85.88789171   1.4725867   94.59557407]\n",
      " [ 67.4470749   41.22414382  43.05135179  60.53075497  30.89857639]\n",
      " [ 45.95912245  82.98332127  42.07506497   3.45777439  12.19808128]\n",
      " [ 69.4106773   63.66598007  86.77366789  19.34905735   0.20865822]\n",
      " [ 34.74554011  17.36747591  61.33741394   9.70762127  30.98700223]]\n"
     ]
    },
    {
     "data": {
      "text/plain": [
       "array([[ 0.15467873,  0.03078108,  0.90774482,  0.01339093,  1.        ],\n",
       "       [ 0.7123701 ,  0.43454631,  0.45390501,  0.63909384,  0.32515013],\n",
       "       [ 0.48471193,  0.8769718 ,  0.44356155,  0.03442337,  0.12702421],\n",
       "       [ 0.73317386,  0.67231058,  0.91712934,  0.20278657,  0.        ],\n",
       "       [ 0.36590752,  0.18179233,  0.64764014,  0.10063856,  0.32608698]])"
      ]
     },
     "execution_count": 23,
     "metadata": {},
     "output_type": "execute_result"
    }
   ],
   "source": [
    "temp22 = np.random.random((5,5)) * 100\n",
    "print(temp22)\n",
    "temp22_min = temp22.min()\n",
    "temp22_max = temp22.max()\n",
    "temp22_normal = (temp22-temp22_min) / (temp22_max-temp22_min)\n",
    "temp22_normal"
   ]
  },
  {
   "cell_type": "markdown",
   "metadata": {
    "nbpresent": {
     "id": "49ecc87c-b82d-4ede-a8c2-8c562a2e0d1a"
    }
   },
   "source": [
    "#### 23. Create a custom dtype that describes a color as four unsigned bytes (RGBA) (★☆☆) \n",
    "(**hint**: np.dtype)"
   ]
  },
  {
   "cell_type": "code",
   "execution_count": 24,
   "metadata": {
    "nbpresent": {
     "id": "6d26fd48-42e3-4c80-ad25-47c9f7f66b2d"
    }
   },
   "outputs": [
    {
     "data": {
      "text/plain": [
       "dtype([('r', 'u1'), ('g', 'u1'), ('b', 'u1'), ('a', 'u1')])"
      ]
     },
     "execution_count": 24,
     "metadata": {},
     "output_type": "execute_result"
    }
   ],
   "source": [
    "color = np.dtype([(\"r\", np.ubyte, 1),\n",
    "                  (\"g\", np.ubyte, 1),\n",
    "                  (\"b\", np.ubyte, 1),\n",
    "                  (\"a\", np.ubyte, 1)])\n",
    "color"
   ]
  },
  {
   "cell_type": "markdown",
   "metadata": {
    "nbpresent": {
     "id": "53d9d927-e4c5-4f14-9e1f-fd81f1a24d44"
    }
   },
   "source": [
    "#### 24. Multiply a 5x3 matrix by a 3x2 matrix (real matrix product) (★☆☆) \n",
    "(**hint**: np.dot | @)"
   ]
  },
  {
   "cell_type": "code",
   "execution_count": 25,
   "metadata": {
    "nbpresent": {
     "id": "1edf4d34-63d5-46b7-9559-bab032d61958"
    }
   },
   "outputs": [
    {
     "name": "stdout",
     "output_type": "stream",
     "text": [
      "[[ 9.76855687  8.90504698  3.93799195]\n",
      " [ 1.67193114  2.70981851  5.56689843]\n",
      " [ 0.04503996  9.09830087  6.62712439]\n",
      " [ 0.75106432  7.4081224   5.40203276]\n",
      " [ 7.64836374  3.01418964  9.60433686]]\n",
      "\n",
      "[[ 9.96803412  1.48055165]\n",
      " [ 9.24150848  3.52311223]\n",
      " [ 7.76475101  6.51746683]]\n",
      "\n",
      "[[ 210.24690229   71.50206481]\n",
      " [  84.93425763   48.30445102]\n",
      " [ 135.98895534   75.31308249]\n",
      " [ 117.89430006   62.41920553]\n",
      " [ 178.67009423   84.53907286]]\n",
      "\n"
     ]
    }
   ],
   "source": [
    "temp24_1 = np.random.random((5, 3)) * 10\n",
    "print(temp24_1, end=\"\\n\\n\")\n",
    "temp24_2 = np.random.random((3, 2)) * 10\n",
    "print(temp24_2, end=\"\\n\\n\")\n",
    "temp24_3 = np.dot(temp24_1, temp24_2)\n",
    "print(temp24_3, end=\"\\n\\n\")\n"
   ]
  },
  {
   "cell_type": "markdown",
   "metadata": {
    "nbpresent": {
     "id": "cf26d135-2ef3-4388-9e69-5c0e3e5b3715"
    }
   },
   "source": [
    "#### 25. Given a 1D array, negate all elements which are between 3 and 8, in place. (★☆☆) \n",
    "(**hint**: >, <=)"
   ]
  },
  {
   "cell_type": "code",
   "execution_count": 26,
   "metadata": {
    "nbpresent": {
     "id": "d17d6f6a-0727-45ef-a8d6-813d9f0cec72"
    }
   },
   "outputs": [
    {
     "data": {
      "text/plain": [
       "array([ 3, -4, -5, -6, -7, -8])"
      ]
     },
     "execution_count": 26,
     "metadata": {},
     "output_type": "execute_result"
    }
   ],
   "source": [
    "temp25 = np.arange(3, 9)\n",
    "temp25[(3 < temp25) & (temp25 <= 8)] *= -1\n",
    "temp25"
   ]
  },
  {
   "cell_type": "markdown",
   "metadata": {
    "nbpresent": {
     "id": "89d2b7cc-2efb-4fd6-aafe-190fe809b5d1"
    }
   },
   "source": [
    "#### 26. What is the output of the following script? (★☆☆) \n",
    "(**hint**: np.sum)"
   ]
  },
  {
   "cell_type": "markdown",
   "metadata": {
    "nbpresent": {
     "id": "d9abd3d3-f34b-44af-b83d-8f610f562939"
    }
   },
   "source": [
    "```python\n",
    "# Author: Jake VanderPlas\n",
    "\n",
    "print(sum(range(5),-1))\n",
    "from numpy import *\n",
    "print(sum(range(5),-1))\n",
    "```"
   ]
  },
  {
   "cell_type": "code",
   "execution_count": 27,
   "metadata": {
    "nbpresent": {
     "id": "ba5600f5-8106-4cc5-88f3-8fc039f198e3"
    }
   },
   "outputs": [
    {
     "name": "stdout",
     "output_type": "stream",
     "text": [
      "9\n",
      "10\n"
     ]
    }
   ],
   "source": [
    "print(sum(range(5), -1))\n",
    "from numpy import *\n",
    "print(sum(range(5), -1))"
   ]
  },
  {
   "cell_type": "markdown",
   "metadata": {
    "nbpresent": {
     "id": "f685c500-ea13-4337-a355-5117c518f354"
    }
   },
   "source": [
    "#### 27. Consider an integer vector Z, which of these expressions are legal? (★☆☆)"
   ]
  },
  {
   "cell_type": "markdown",
   "metadata": {
    "nbpresent": {
     "id": "a7bba9bd-9e0a-4eb7-9149-029ddd890573"
    }
   },
   "source": [
    "```python\n",
    "Z**Z\n",
    "2 << Z >> 2\n",
    "Z <- Z\n",
    "1j*Z\n",
    "Z/1/1\n",
    "Z<Z>Z\n",
    "```"
   ]
  },
  {
   "cell_type": "code",
   "execution_count": 28,
   "metadata": {
    "nbpresent": {
     "id": "494b5430-8d80-4ec2-b828-88c5dbd3335c"
    }
   },
   "outputs": [
    {
     "data": {
      "text/plain": [
       "array([ 0.,  1.,  2.,  3.,  4.,  5.,  6.,  7.])"
      ]
     },
     "execution_count": 28,
     "metadata": {},
     "output_type": "execute_result"
    }
   ],
   "source": [
    "Z = arange(8)\n",
    "Z**Z\n",
    "2 << Z >> 2\n",
    "Z <- Z\n",
    "1j*Z\n",
    "Z/1/1\n",
    "#Z<Z>Z"
   ]
  },
  {
   "cell_type": "markdown",
   "metadata": {
    "nbpresent": {
     "id": "b7149f10-d28c-46c9-8cb6-6f362737219b"
    }
   },
   "source": [
    "#### 28. What are the result of the following expressions?"
   ]
  },
  {
   "cell_type": "markdown",
   "metadata": {
    "nbpresent": {
     "id": "9c78fd00-7dc3-413b-8074-feb84b09f9e5"
    }
   },
   "source": [
    "```python\n",
    "np.array(0) / np.array(0)\n",
    "np.array(0) // np.array(0)\n",
    "np.array([np.nan]).astype(int).astype(float)\n",
    "```"
   ]
  },
  {
   "cell_type": "code",
   "execution_count": 29,
   "metadata": {
    "nbpresent": {
     "id": "a0b7e29d-c75e-4ed1-b6fb-0a9950a3bbc2"
    }
   },
   "outputs": [
    {
     "name": "stdout",
     "output_type": "stream",
     "text": [
      "nan\n",
      "0\n",
      "[-9223372036854775808]\n",
      "[ -9.22337204e+18]\n"
     ]
    },
    {
     "name": "stderr",
     "output_type": "stream",
     "text": [
      "/Users/rockroku/anaconda3/lib/python3.6/site-packages/ipykernel/__main__.py:1: RuntimeWarning: invalid value encountered in true_divide\n",
      "  if __name__ == '__main__':\n",
      "/Users/rockroku/anaconda3/lib/python3.6/site-packages/ipykernel/__main__.py:2: RuntimeWarning: divide by zero encountered in floor_divide\n",
      "  from ipykernel import kernelapp as app\n"
     ]
    }
   ],
   "source": [
    "print(np.array(0) / np.array(0))\n",
    "print(np.array(0) // np.array(0))\n",
    "print(np.array([np.nan]).astype(int))\n",
    "print(np.array([np.nan]).astype(int).astype(float))"
   ]
  },
  {
   "cell_type": "markdown",
   "metadata": {
    "nbpresent": {
     "id": "63b537c1-7813-44e0-9036-03c88bd1bc01"
    }
   },
   "source": [
    "#### 29. How to round away from zero a float array ? (★☆☆) \n",
    "(**hint**: np.uniform, np.copysign, np.ceil, np.abs)"
   ]
  },
  {
   "cell_type": "code",
   "execution_count": 30,
   "metadata": {
    "nbpresent": {
     "id": "14e9cd41-d3c7-4081-bd52-1d164e6cfa03"
    }
   },
   "outputs": [
    {
     "name": "stdout",
     "output_type": "stream",
     "text": [
      "[-0.64121648  6.95862472 -6.28489247 -5.84423065  5.44199924  0.7105155\n",
      "  1.79480466 -7.0339107  -7.98993631  9.53818909]\n",
      "\n",
      "[-0.  6. -6. -5.  5.  0.  1. -7. -7.  9.]\n"
     ]
    }
   ],
   "source": [
    "temp29 = np.random.uniform(-10,+10,10)\n",
    "print(temp29, end=\"\\n\\n\")\n",
    "temp29 = np.copysign(np.floor(np.abs(temp29)), temp29)\n",
    "print(temp29)"
   ]
  },
  {
   "cell_type": "markdown",
   "metadata": {
    "nbpresent": {
     "id": "02b6f578-7bb4-4aa0-8803-a58d6708fd39"
    }
   },
   "source": [
    "#### 30. How to find common values between two arrays? (★☆☆) \n",
    "(**hint**: np.intersect1d)"
   ]
  },
  {
   "cell_type": "code",
   "execution_count": 31,
   "metadata": {
    "nbpresent": {
     "id": "6c2645d0-f639-4325-9238-dc003e39d8a5"
    }
   },
   "outputs": [],
   "source": [
    "temp30_1 = np.arange(1, 5)\n",
    "temp30_2 = np.arange(3, 6)"
   ]
  },
  {
   "cell_type": "code",
   "execution_count": 32,
   "metadata": {
    "nbpresent": {
     "id": "115f6b92-b3e6-4d10-bbfb-00ece75db759"
    }
   },
   "outputs": [
    {
     "name": "stdout",
     "output_type": "stream",
     "text": [
      "CPU times: user 5 µs, sys: 1e+03 ns, total: 6 µs\n",
      "Wall time: 11 µs\n",
      "[3 4]\n"
     ]
    }
   ],
   "source": [
    "%time\n",
    "print(np.intersect1d(temp30_1, temp30_2))"
   ]
  },
  {
   "cell_type": "code",
   "execution_count": 33,
   "metadata": {
    "nbpresent": {
     "id": "5d6cd059-393e-46db-af6f-ce7e9cdd5d2c"
    }
   },
   "outputs": [
    {
     "name": "stdout",
     "output_type": "stream",
     "text": [
      "CPU times: user 4 µs, sys: 1 µs, total: 5 µs\n",
      "Wall time: 9.06 µs\n",
      "{3, 4}\n"
     ]
    }
   ],
   "source": [
    "%time\n",
    "print(set(temp30_1) & set(temp30_2))"
   ]
  },
  {
   "cell_type": "markdown",
   "metadata": {
    "nbpresent": {
     "id": "59a33462-7b5e-4a4c-8403-2f78253389fb"
    }
   },
   "source": [
    "#### 31. How to ignore all numpy warnings (not recommended)? (★☆☆) \n",
    "(**hint**: np.seterr, np.errstate)"
   ]
  },
  {
   "cell_type": "code",
   "execution_count": 34,
   "metadata": {
    "nbpresent": {
     "id": "03d3b51e-5f1f-4ffb-abb0-fcc2200b027e"
    }
   },
   "outputs": [
    {
     "name": "stderr",
     "output_type": "stream",
     "text": [
      "/Users/rockroku/anaconda3/lib/python3.6/site-packages/ipykernel/__main__.py:1: RuntimeWarning: overflow encountered in short_scalars\n",
      "  if __name__ == '__main__':\n"
     ]
    },
    {
     "data": {
      "text/plain": [
       "30464"
      ]
     },
     "execution_count": 34,
     "metadata": {},
     "output_type": "execute_result"
    }
   ],
   "source": [
    "np.int16(32000) * np.int16(3)"
   ]
  },
  {
   "cell_type": "code",
   "execution_count": 35,
   "metadata": {
    "nbpresent": {
     "id": "1479f9ed-7573-426d-aea0-1bd1880374d5"
    }
   },
   "outputs": [
    {
     "data": {
      "text/plain": [
       "{'divide': 'warn', 'invalid': 'warn', 'over': 'warn', 'under': 'ignore'}"
      ]
     },
     "execution_count": 35,
     "metadata": {},
     "output_type": "execute_result"
    }
   ],
   "source": [
    "default_setting = np.seterr()\n",
    "default_setting"
   ]
  },
  {
   "cell_type": "code",
   "execution_count": 36,
   "metadata": {
    "nbpresent": {
     "id": "2d42769c-8cfb-4c75-85fc-2fbfea2863f1"
    }
   },
   "outputs": [
    {
     "data": {
      "text/plain": [
       "{'divide': 'warn', 'invalid': 'warn', 'over': 'warn', 'under': 'ignore'}"
      ]
     },
     "execution_count": 36,
     "metadata": {},
     "output_type": "execute_result"
    }
   ],
   "source": [
    "old_settings = np.seterr(all='ignore')\n",
    "old_settings"
   ]
  },
  {
   "cell_type": "code",
   "execution_count": 37,
   "metadata": {
    "nbpresent": {
     "id": "98dc1224-4fcb-4879-9ebd-12ef86048016"
    }
   },
   "outputs": [
    {
     "data": {
      "text/plain": [
       "30464"
      ]
     },
     "execution_count": 37,
     "metadata": {},
     "output_type": "execute_result"
    }
   ],
   "source": [
    "np.int16(32000) * np.int16(3)"
   ]
  },
  {
   "cell_type": "code",
   "execution_count": 38,
   "metadata": {
    "nbpresent": {
     "id": "7ee1d783-1bce-4ebb-b6a6-af9e10342dad"
    }
   },
   "outputs": [
    {
     "name": "stderr",
     "output_type": "stream",
     "text": [
      "/Users/rockroku/anaconda3/lib/python3.6/site-packages/ipykernel/__main__.py:2: RuntimeWarning: overflow encountered in short_scalars\n",
      "  from ipykernel import kernelapp as app\n"
     ]
    },
    {
     "data": {
      "text/plain": [
       "30464"
      ]
     },
     "execution_count": 38,
     "metadata": {},
     "output_type": "execute_result"
    }
   ],
   "source": [
    "old_settings = np.seterr(**default_setting)  #seterr to known value\n",
    "np.int16(32000) * np.int16(3)"
   ]
  },
  {
   "cell_type": "code",
   "execution_count": 39,
   "metadata": {
    "nbpresent": {
     "id": "fb4fdd11-894d-48d9-bc66-800ba83fd799"
    }
   },
   "outputs": [],
   "source": [
    "with np.errstate(over='ignore'):\n",
    "    np.int16(32000) * np.int16(3)"
   ]
  },
  {
   "cell_type": "markdown",
   "metadata": {
    "nbpresent": {
     "id": "9f7e510a-9812-4f48-b67a-3d11053141f8"
    }
   },
   "source": [
    "#### 32. Is the following expressions true? (★☆☆) \n",
    "(**hint**: imaginary number)"
   ]
  },
  {
   "cell_type": "markdown",
   "metadata": {
    "nbpresent": {
     "id": "639f17a1-06d8-475d-8d08-70080b6e2eab"
    }
   },
   "source": [
    "```python\n",
    "np.sqrt(-1) == np.emath.sqrt(-1)\n",
    "```"
   ]
  },
  {
   "cell_type": "code",
   "execution_count": 40,
   "metadata": {
    "nbpresent": {
     "id": "4267d811-2b7c-49d2-bc8f-c4fc11c2a6a3"
    }
   },
   "outputs": [
    {
     "name": "stdout",
     "output_type": "stream",
     "text": [
      "np.sqrt(-1): nan\n",
      "np.emath.sqrt(-1): 1j\n"
     ]
    },
    {
     "name": "stderr",
     "output_type": "stream",
     "text": [
      "/Users/rockroku/anaconda3/lib/python3.6/site-packages/ipykernel/__main__.py:1: RuntimeWarning: invalid value encountered in sqrt\n",
      "  if __name__ == '__main__':\n",
      "/Users/rockroku/anaconda3/lib/python3.6/site-packages/ipykernel/__main__.py:3: RuntimeWarning: invalid value encountered in sqrt\n",
      "  app.launch_new_instance()\n"
     ]
    },
    {
     "data": {
      "text/plain": [
       "False"
      ]
     },
     "execution_count": 40,
     "metadata": {},
     "output_type": "execute_result"
    }
   ],
   "source": [
    "print(\"np.sqrt(-1):\", np.sqrt(-1))\n",
    "print(\"np.emath.sqrt(-1):\", np.emath.sqrt(-1))\n",
    "np.sqrt(-1) == np.emath.sqrt(-1)"
   ]
  },
  {
   "cell_type": "markdown",
   "metadata": {
    "nbpresent": {
     "id": "281f4a98-26eb-44e4-8c8a-7c1301114d0d"
    }
   },
   "source": [
    "#### 33. How to get the dates of yesterday, today and tomorrow? (★☆☆) \n",
    "(**hint**: np.datetime64, np.timedelta64)"
   ]
  },
  {
   "cell_type": "code",
   "execution_count": 41,
   "metadata": {
    "nbpresent": {
     "id": "3cc950ee-793c-4aee-ba3d-e6666fc972ea"
    }
   },
   "outputs": [
    {
     "name": "stdout",
     "output_type": "stream",
     "text": [
      "today: 2018-09-21\n",
      "yesterday: 2018-09-20\n",
      "tomorrow: 2018-09-22\n"
     ]
    }
   ],
   "source": [
    "today     = np.datetime64('today', 'D')\n",
    "yesterday = today - np.timedelta64(1, 'D')\n",
    "tomorrow  = today + np.timedelta64(1, 'D')\n",
    "print(\"today:\", today)\n",
    "print(\"yesterday:\", yesterday)\n",
    "print(\"tomorrow:\", tomorrow)"
   ]
  },
  {
   "cell_type": "markdown",
   "metadata": {
    "nbpresent": {
     "id": "4df14a01-b2fa-48ce-b70c-cb87bf0e3264"
    }
   },
   "source": [
    "#### 34. How to get all the dates corresponding to the month of July 2016? (★★☆) \n",
    "(**hint**: np.arange(dtype=datetime64\\['D'\\]))"
   ]
  },
  {
   "cell_type": "code",
   "execution_count": 42,
   "metadata": {
    "nbpresent": {
     "id": "1c52581c-c057-414e-839a-9c7bd4157f55"
    }
   },
   "outputs": [
    {
     "data": {
      "text/plain": [
       "array(['2018-07-01', '2018-07-02', '2018-07-03', '2018-07-04',\n",
       "       '2018-07-05', '2018-07-06', '2018-07-07', '2018-07-08',\n",
       "       '2018-07-09', '2018-07-10', '2018-07-11', '2018-07-12',\n",
       "       '2018-07-13', '2018-07-14', '2018-07-15', '2018-07-16',\n",
       "       '2018-07-17', '2018-07-18', '2018-07-19', '2018-07-20',\n",
       "       '2018-07-21', '2018-07-22', '2018-07-23', '2018-07-24',\n",
       "       '2018-07-25', '2018-07-26', '2018-07-27', '2018-07-28',\n",
       "       '2018-07-29', '2018-07-30', '2018-07-31'], dtype='datetime64[D]')"
      ]
     },
     "execution_count": 42,
     "metadata": {},
     "output_type": "execute_result"
    }
   ],
   "source": [
    "np.arange(np.datetime64('2018-07-01', 'D'), np.datetime64('2018-08-01', 'D'))"
   ]
  },
  {
   "cell_type": "code",
   "execution_count": 43,
   "metadata": {
    "nbpresent": {
     "id": "61bfe310-c676-48d5-9877-bd506428be15"
    }
   },
   "outputs": [
    {
     "data": {
      "text/plain": [
       "array(['2018-07-01', '2018-07-02', '2018-07-03', '2018-07-04',\n",
       "       '2018-07-05', '2018-07-06', '2018-07-07', '2018-07-08',\n",
       "       '2018-07-09', '2018-07-10', '2018-07-11', '2018-07-12',\n",
       "       '2018-07-13', '2018-07-14', '2018-07-15', '2018-07-16',\n",
       "       '2018-07-17', '2018-07-18', '2018-07-19', '2018-07-20',\n",
       "       '2018-07-21', '2018-07-22', '2018-07-23', '2018-07-24',\n",
       "       '2018-07-25', '2018-07-26', '2018-07-27', '2018-07-28',\n",
       "       '2018-07-29', '2018-07-30', '2018-07-31'], dtype='datetime64[D]')"
      ]
     },
     "execution_count": 43,
     "metadata": {},
     "output_type": "execute_result"
    }
   ],
   "source": [
    "np.arange(np.datetime64('2018-07-01', 'D'), np.datetime64('2018-07-31', 'D') + 1)"
   ]
  },
  {
   "cell_type": "markdown",
   "metadata": {
    "nbpresent": {
     "id": "f98e7323-dbbd-4b58-b190-8b6b1ffeec5c"
    }
   },
   "source": [
    "#### 35. How to compute ((A+B)\\*(-A/2)) in place (without copy)? (★★☆) \n",
    "(**hint**: np.add(out=), np.negative(out=), np.multiply(out=), np.divide(out=))"
   ]
  },
  {
   "cell_type": "code",
   "execution_count": 44,
   "metadata": {
    "nbpresent": {
     "id": "95c071d3-d4cd-418f-88b1-1d40339f2ed7"
    }
   },
   "outputs": [
    {
     "data": {
      "text/plain": [
       "array([[-0.48267479, -0.20288188],\n",
       "       [-0.17519044, -0.16469027]])"
      ]
     },
     "execution_count": 44,
     "metadata": {},
     "output_type": "execute_result"
    }
   ],
   "source": [
    "A = np.random.rand(2, 2)\n",
    "B = np.random.rand(2, 2)\n",
    "np.add(A, B, out=B)\n",
    "np.divide(-A, 2, out=A)\n",
    "np.multiply(A, B)"
   ]
  },
  {
   "cell_type": "markdown",
   "metadata": {
    "nbpresent": {
     "id": "34695165-5e8b-4933-ac89-a8f61359ac26"
    }
   },
   "source": [
    "#### 36. Extract the integer part of a random array using 5 different methods (★★☆) \n",
    "(**hint**: %, np.floor, np.ceil, astype, np.trunc)"
   ]
  },
  {
   "cell_type": "code",
   "execution_count": 45,
   "metadata": {
    "nbpresent": {
     "id": "007e9d99-6619-48ed-8157-df271806babc"
    }
   },
   "outputs": [
    {
     "name": "stdout",
     "output_type": "stream",
     "text": [
      "temp_rand_36: [ 8.17063756  7.63933714  6.99437335]\n",
      "[ 8.  7.  6.]\n",
      "[ 9.  8.  7.]\n",
      "[8 7 6]\n",
      "[ 8.  7.  6.]\n",
      "[ 8.  7.  6.]\n"
     ]
    }
   ],
   "source": [
    "temp_rand_36 = np.random.rand(3) * 10\n",
    "print(\"temp_rand_36:\", temp_rand_36)\n",
    "print(np.floor(temp_rand_36))\n",
    "print(np.ceil(temp_rand_36))\n",
    "print(temp_rand_36.astype(np.int32))\n",
    "print(np.trunc(temp_rand_36))\n",
    "print(temp_rand_36 - temp_rand_36 % 1)"
   ]
  },
  {
   "cell_type": "markdown",
   "metadata": {
    "nbpresent": {
     "id": "8f9ba8fd-ae7d-4a35-a5a2-e01707e0c691"
    }
   },
   "source": [
    "#### 37. Create a 5x5 matrix with row values ranging from 0 to 4 (★★☆) \n",
    "(**hint**: np.arange)"
   ]
  },
  {
   "cell_type": "code",
   "execution_count": 46,
   "metadata": {
    "nbpresent": {
     "id": "b5e33cfe-2904-40a0-b6f4-6b9a5b4db2ab"
    }
   },
   "outputs": [
    {
     "data": {
      "text/plain": [
       "array([[ 0.,  1.,  2.,  3.,  4.],\n",
       "       [ 0.,  1.,  2.,  3.,  4.],\n",
       "       [ 0.,  1.,  2.,  3.,  4.],\n",
       "       [ 0.,  1.,  2.,  3.,  4.],\n",
       "       [ 0.,  1.,  2.,  3.,  4.]])"
      ]
     },
     "execution_count": 46,
     "metadata": {},
     "output_type": "execute_result"
    }
   ],
   "source": [
    "np.zeros((5, 5)) + np.arange(0, 5)"
   ]
  },
  {
   "cell_type": "markdown",
   "metadata": {
    "nbpresent": {
     "id": "6d500776-2992-4612-9d02-e5f04ee8355b"
    }
   },
   "source": [
    "#### 38. Consider a generator function that generates 10 integers and use it to build an array (★☆☆) \n",
    "(**hint**: np.fromiter)"
   ]
  },
  {
   "cell_type": "code",
   "execution_count": 47,
   "metadata": {
    "nbpresent": {
     "id": "0bcb7605-5369-46f3-9b63-02754a66d790"
    }
   },
   "outputs": [
    {
     "data": {
      "text/plain": [
       "array([0, 1, 2, 3, 4, 5, 6, 7, 8, 9])"
      ]
     },
     "execution_count": 47,
     "metadata": {},
     "output_type": "execute_result"
    }
   ],
   "source": [
    "def get_10_num():\n",
    "    for i in range(10):\n",
    "        yield i\n",
    "np.fromiter(get_10_num(), int)"
   ]
  },
  {
   "cell_type": "markdown",
   "metadata": {
    "nbpresent": {
     "id": "f534a85b-737b-45de-8666-cf2f64a6cbf2"
    }
   },
   "source": [
    "#### 39. Create a vector of size 10 with values ranging from 0 to 1, both excluded (★★☆) \n",
    "(**hint**: np.linspace)"
   ]
  },
  {
   "cell_type": "code",
   "execution_count": 48,
   "metadata": {
    "nbpresent": {
     "id": "a3a1c408-e85d-479a-8dd7-0626ec0cdb13"
    }
   },
   "outputs": [
    {
     "data": {
      "text/plain": [
       "array([ 0.09090909,  0.18181818,  0.27272727,  0.36363636,  0.45454545,\n",
       "        0.54545455,  0.63636364,  0.72727273,  0.81818182,  0.90909091])"
      ]
     },
     "execution_count": 48,
     "metadata": {},
     "output_type": "execute_result"
    }
   ],
   "source": [
    "np.linspace(0, 1, num=11, endpoint=False)[1:]"
   ]
  },
  {
   "cell_type": "markdown",
   "metadata": {
    "nbpresent": {
     "id": "bfdcdb5c-4d4e-4147-a7c1-9c9d4c419382"
    }
   },
   "source": [
    "#### 40. Create a random vector of size 10 and sort it (★★☆) \n",
    "(**hint**: sort)"
   ]
  },
  {
   "cell_type": "code",
   "execution_count": 49,
   "metadata": {
    "nbpresent": {
     "id": "de8c84a1-4cf2-4241-b793-63b0445c9cb5"
    }
   },
   "outputs": [
    {
     "name": "stdout",
     "output_type": "stream",
     "text": [
      "temp40: [ 0.21896128  0.17167364  0.68270635  0.4459741   0.16101487  0.81541639\n",
      "  0.40537251  0.21589629  0.91274852  0.8734105 ]\n",
      "temp40 sorted: [ 0.16101487  0.17167364  0.21589629  0.21896128  0.40537251  0.4459741\n",
      "  0.68270635  0.81541639  0.8734105   0.91274852]\n"
     ]
    }
   ],
   "source": [
    "temp40 = np.random.rand(10)\n",
    "print(\"temp40:\", temp40)\n",
    "print(\"temp40 sorted:\", np.sort(temp40))"
   ]
  },
  {
   "cell_type": "markdown",
   "metadata": {
    "nbpresent": {
     "id": "90292fd1-97da-4182-95de-1b874340fd37"
    }
   },
   "source": [
    "#### 41. How to sum a small array faster than np.sum? (★★☆) \n",
    "(**hint**: np.add.reduce)"
   ]
  },
  {
   "cell_type": "code",
   "execution_count": 50,
   "metadata": {
    "nbpresent": {
     "id": "32166404-08e2-409f-90d5-3d107a781b63"
    }
   },
   "outputs": [
    {
     "name": "stdout",
     "output_type": "stream",
     "text": [
      "CPU times: user 10 µs, sys: 5 µs, total: 15 µs\n",
      "Wall time: 59.1 µs\n",
      "temp41: [0 1 2 3 4 5 6 7 8 9]\n",
      "45\n"
     ]
    }
   ],
   "source": [
    "%time\n",
    "temp41 = np.arange(10)\n",
    "print(\"temp41:\", temp41)\n",
    "print(np.add.reduce(temp41))"
   ]
  },
  {
   "cell_type": "code",
   "execution_count": 51,
   "metadata": {
    "nbpresent": {
     "id": "7fb1cc8b-cef2-4279-91ce-89726de006dd"
    }
   },
   "outputs": [
    {
     "name": "stdout",
     "output_type": "stream",
     "text": [
      "CPU times: user 6 µs, sys: 1 µs, total: 7 µs\n",
      "Wall time: 13.1 µs\n",
      "temp41_2: [0 1 2 3 4 5 6 7 8 9]\n",
      "45\n"
     ]
    }
   ],
   "source": [
    "%time\n",
    "temp41_2 = np.arange(10)\n",
    "print(\"temp41_2:\", temp41_2)\n",
    "print(np.sum(temp41_2))"
   ]
  },
  {
   "cell_type": "code",
   "execution_count": 52,
   "metadata": {
    "nbpresent": {
     "id": "cb25bf1b-43b2-4349-b450-a2d6a791ac1c"
    }
   },
   "outputs": [
    {
     "name": "stdout",
     "output_type": "stream",
     "text": [
      "CPU times: user 5 µs, sys: 1e+03 ns, total: 6 µs\n",
      "Wall time: 11.2 µs\n",
      "temp41_2: [0 1 2 3 4 5 6 7 8 9]\n",
      "45\n"
     ]
    }
   ],
   "source": [
    "%time\n",
    "temp41_2 = np.arange(10)\n",
    "print(\"temp41_2:\", temp41_2)\n",
    "print(temp41_2.sum())"
   ]
  },
  {
   "cell_type": "markdown",
   "metadata": {
    "nbpresent": {
     "id": "aa8ec7a4-e447-47f4-915b-9e82c9241980"
    }
   },
   "source": [
    "#### 42. Consider two random array A and B, check if they are equal (★★☆) \n",
    "(**hint**: np.allclose, np.array\\_equal)"
   ]
  },
  {
   "cell_type": "code",
   "execution_count": 53,
   "metadata": {
    "nbpresent": {
     "id": "f0f8807c-4241-4a5a-a22c-5f93d87417d5"
    }
   },
   "outputs": [
    {
     "name": "stdout",
     "output_type": "stream",
     "text": [
      "True\n",
      "False\n"
     ]
    }
   ],
   "source": [
    "temp42_1 = [1.1, 2]\n",
    "temp42_2 = [1.10001, 2]\n",
    "print(np.allclose(temp42_1, temp42_2))\n",
    "print(np.array_equal(temp42_1, temp42_2))"
   ]
  },
  {
   "cell_type": "markdown",
   "metadata": {
    "nbpresent": {
     "id": "b842c08b-c258-473d-82d5-7a0f2e26d560"
    }
   },
   "source": [
    "#### 43. Make an array immutable (read-only) (★★☆) \n",
    "(**hint**: flags.writeable)"
   ]
  },
  {
   "cell_type": "code",
   "execution_count": 54,
   "metadata": {
    "nbpresent": {
     "id": "e270edd4-3ba9-4b7b-977a-66a13d8020c3"
    }
   },
   "outputs": [],
   "source": [
    "# temp43 = np.zeros(5)\n",
    "# temp43.flags.writeable = False\n",
    "# temp43[0] = 1"
   ]
  },
  {
   "cell_type": "markdown",
   "metadata": {
    "nbpresent": {
     "id": "7497f544-08c6-4b8c-844a-f20c5e0911bf"
    }
   },
   "source": [
    "#### 44. Consider a random 10x2 matrix representing cartesian coordinates, convert them to polar coordinates (★★☆) \n",
    "(**hint**: np.sqrt, np.arctan2)"
   ]
  },
  {
   "cell_type": "code",
   "execution_count": 55,
   "metadata": {
    "nbpresent": {
     "id": "f07ac209-56f6-421d-b6c3-147e37715250"
    }
   },
   "outputs": [
    {
     "name": "stdout",
     "output_type": "stream",
     "text": [
      "[ 0.16559029  1.06967462  0.87486942  0.68235525  0.80400111  0.18159785\n",
      "  0.86409644  0.55421473  0.83091473  1.23965363]\n",
      "[  5.20681330e-01   6.48925063e-01   1.42441259e+00   7.32677248e-04\n",
      "   1.22945433e+00   7.37185225e-01   6.81607922e-02   1.47329292e+00\n",
      "   1.35521287e+00   7.16884423e-01]\n"
     ]
    }
   ],
   "source": [
    "temp44 = np.random.rand(10, 2)\n",
    "x,y = temp44[:,0], temp44[:,1]\n",
    "r = np.sqrt(x**2 + y**2)\n",
    "theta = np.arctan2(x, y)\n",
    "print(r)\n",
    "print(theta)"
   ]
  },
  {
   "cell_type": "markdown",
   "metadata": {
    "nbpresent": {
     "id": "e5bb6679-4ff6-449a-839c-d8a007c94473"
    }
   },
   "source": [
    "#### 45. Create random vector of size 10 and replace the maximum value by 0 (★★☆) \n",
    "(**hint**: argmax)"
   ]
  },
  {
   "cell_type": "code",
   "execution_count": 56,
   "metadata": {
    "nbpresent": {
     "id": "0dc22f80-e0c9-4384-9272-c3e0aef14452"
    }
   },
   "outputs": [
    {
     "name": "stdout",
     "output_type": "stream",
     "text": [
      "[ 0.97980902  0.72115382  0.37147349  0.66413493  0.80821335  0.19751489\n",
      "  0.52038167  0.18714024  0.89324832  0.95736321]\n",
      "[ 0.          0.72115382  0.37147349  0.66413493  0.80821335  0.19751489\n",
      "  0.52038167  0.18714024  0.89324832  0.95736321]\n"
     ]
    }
   ],
   "source": [
    "temp45 = np.random.rand(10)\n",
    "print(temp45)\n",
    "max_idx = np.argmax(temp45)\n",
    "temp45[max_idx] = 0\n",
    "print(temp45)"
   ]
  },
  {
   "cell_type": "markdown",
   "metadata": {
    "nbpresent": {
     "id": "4c8fd58c-a85a-40e6-bdc9-7ea52e6ed0aa"
    }
   },
   "source": [
    "#### 46. Create a structured array with `x` and `y` coordinates covering the \\[0,1\\]x\\[0,1\\] area (★★☆) \n",
    "(**hint**: np.meshgrid)"
   ]
  },
  {
   "cell_type": "code",
   "execution_count": 57,
   "metadata": {
    "nbpresent": {
     "id": "b189d0ac-ee0e-497b-9f4c-08a372e532e9"
    }
   },
   "outputs": [
    {
     "data": {
      "text/plain": [
       "array([[( 0.  ,  0. ), ( 0.25,  0. ), ( 0.5 ,  0. ), ( 0.75,  0. ),\n",
       "        ( 1.  ,  0. )],\n",
       "       [( 0.  ,  0.5), ( 0.25,  0.5), ( 0.5 ,  0.5), ( 0.75,  0.5),\n",
       "        ( 1.  ,  0.5)],\n",
       "       [( 0.  ,  1. ), ( 0.25,  1. ), ( 0.5 ,  1. ), ( 0.75,  1. ),\n",
       "        ( 1.  ,  1. )],\n",
       "       [( 0.  ,  1.5), ( 0.25,  1.5), ( 0.5 ,  1.5), ( 0.75,  1.5),\n",
       "        ( 1.  ,  1.5)],\n",
       "       [( 0.  ,  2. ), ( 0.25,  2. ), ( 0.5 ,  2. ), ( 0.75,  2. ),\n",
       "        ( 1.  ,  2. )]],\n",
       "      dtype=[('xx', '<f8'), ('yy', '<f8')])"
      ]
     },
     "execution_count": 57,
     "metadata": {},
     "output_type": "execute_result"
    }
   ],
   "source": [
    "temp_46 = np.zeros((5,5), [('xx',float),('yy',float)])\n",
    "temp_46['xx'], temp_46['yy'] = np.meshgrid(np.linspace(0,1,5),\n",
    "                             np.linspace(0,2,5))\n",
    "temp_46"
   ]
  },
  {
   "cell_type": "markdown",
   "metadata": {
    "nbpresent": {
     "id": "67429bc1-f5fa-4611-98cb-22924a85168a"
    }
   },
   "source": [
    "####  47. Given two arrays, X and Y, construct the Cauchy matrix C (Cij =1/(xi - yj)) \n",
    "(**hint**: np.subtract.outer)"
   ]
  },
  {
   "cell_type": "code",
   "execution_count": 58,
   "metadata": {
    "nbpresent": {
     "id": "9b6f721a-29bb-4faa-8a07-61e14230ab33"
    }
   },
   "outputs": [
    {
     "data": {
      "text/plain": [
       "array([[-3., -4., -5.],\n",
       "       [-2., -3., -4.],\n",
       "       [-1., -2., -3.]])"
      ]
     },
     "execution_count": 58,
     "metadata": {},
     "output_type": "execute_result"
    }
   ],
   "source": [
    "X47 = np.array([1, 2, 3])\n",
    "Y47 = np.array([4, 5, 6])\n",
    "r47 = np.zeros((len(X47),len(Y47)))\n",
    "for i in range(len(X47)):\n",
    "    for j in range(len(Y47)):\n",
    "        r47[i,j] = np.subtract(X47[i], Y47[j])\n",
    "r47"
   ]
  },
  {
   "cell_type": "code",
   "execution_count": 59,
   "metadata": {
    "nbpresent": {
     "id": "b388ad3b-b75e-458d-8417-4c69e0f86a7a"
    }
   },
   "outputs": [
    {
     "data": {
      "text/plain": [
       "array([[-3, -4, -5],\n",
       "       [-2, -3, -4],\n",
       "       [-1, -2, -3]])"
      ]
     },
     "execution_count": 59,
     "metadata": {},
     "output_type": "execute_result"
    }
   ],
   "source": [
    " np.subtract.outer(X47, Y47)"
   ]
  },
  {
   "cell_type": "markdown",
   "metadata": {
    "nbpresent": {
     "id": "95229841-7cef-46da-9549-599e644231b2"
    }
   },
   "source": [
    "#### 48. Print the minimum and maximum representable value for each numpy scalar type (★★☆) \n",
    "(**hint**: np.iinfo, np.finfo, eps)"
   ]
  },
  {
   "cell_type": "code",
   "execution_count": 60,
   "metadata": {
    "nbpresent": {
     "id": "f5b59c4f-08d0-4ccc-8723-7972c1da6297"
    }
   },
   "outputs": [
    {
     "name": "stdout",
     "output_type": "stream",
     "text": [
      "Machine parameters for int8\n",
      "---------------------------------------------------------------\n",
      "min = -128\n",
      "max = 127\n",
      "---------------------------------------------------------------\n",
      "\n",
      "Machine parameters for int32\n",
      "---------------------------------------------------------------\n",
      "min = -2147483648\n",
      "max = 2147483647\n",
      "---------------------------------------------------------------\n",
      "\n",
      "Machine parameters for int64\n",
      "---------------------------------------------------------------\n",
      "min = -9223372036854775808\n",
      "max = 9223372036854775807\n",
      "---------------------------------------------------------------\n",
      "\n",
      "Machine parameters for float32\n",
      "---------------------------------------------------------------\n",
      "precision =   6   resolution = 1.0000000e-06\n",
      "machep =    -23   eps =        1.1920929e-07\n",
      "negep =     -24   epsneg =     5.9604645e-08\n",
      "minexp =   -126   tiny =       1.1754944e-38\n",
      "maxexp =    128   max =        3.4028235e+38\n",
      "nexp =        8   min =        -max\n",
      "---------------------------------------------------------------\n",
      "\n",
      "Machine parameters for float32\n",
      "---------------------------------------------------------------\n",
      "precision =   6   resolution = 1.0000000e-06\n",
      "machep =    -23   eps =        1.1920929e-07\n",
      "negep =     -24   epsneg =     5.9604645e-08\n",
      "minexp =   -126   tiny =       1.1754944e-38\n",
      "maxexp =    128   max =        3.4028235e+38\n",
      "nexp =        8   min =        -max\n",
      "---------------------------------------------------------------\n",
      "\n",
      "Machine parameters for float64\n",
      "---------------------------------------------------------------\n",
      "precision =  15   resolution = 1.0000000000000001e-15\n",
      "machep =    -52   eps =        2.2204460492503131e-16\n",
      "negep =     -53   epsneg =     1.1102230246251565e-16\n",
      "minexp =  -1022   tiny =       2.2250738585072014e-308\n",
      "maxexp =   1024   max =        1.7976931348623157e+308\n",
      "nexp =       11   min =        -max\n",
      "---------------------------------------------------------------\n",
      "\n",
      "Machine parameters for float64\n",
      "---------------------------------------------------------------\n",
      "precision =  15   resolution = 1.0000000000000001e-15\n",
      "machep =    -52   eps =        2.2204460492503131e-16\n",
      "negep =     -53   epsneg =     1.1102230246251565e-16\n",
      "minexp =  -1022   tiny =       2.2250738585072014e-308\n",
      "maxexp =   1024   max =        1.7976931348623157e+308\n",
      "nexp =       11   min =        -max\n",
      "---------------------------------------------------------------\n",
      "\n"
     ]
    }
   ],
   "source": [
    "for dtype in [np.int8, np.int32, np.int64]:\n",
    "    print(np.iinfo(dtype))\n",
    "\n",
    "for dtype in [np.float32, np.float64]:\n",
    "    print(np.finfo(dtype))\n",
    "    print(np.finfo(dtype))"
   ]
  },
  {
   "cell_type": "markdown",
   "metadata": {
    "nbpresent": {
     "id": "fedf9a97-b55a-4692-97ac-708899cfd914"
    }
   },
   "source": [
    "#### 49. How to print all the values of an array? (★★☆) \n",
    "(**hint**: np.set\\_printoptions)"
   ]
  },
  {
   "cell_type": "code",
   "execution_count": 61,
   "metadata": {
    "nbpresent": {
     "id": "c2b5ff93-6969-4b84-88f7-d8482f4e897b"
    }
   },
   "outputs": [
    {
     "name": "stdout",
     "output_type": "stream",
     "text": [
      "[[ 0.  0.  0. ...,  0.  0.  0.]\n",
      " [ 0.  0.  0. ...,  0.  0.  0.]\n",
      " [ 0.  0.  0. ...,  0.  0.  0.]\n",
      " ..., \n",
      " [ 0.  0.  0. ...,  0.  0.  0.]\n",
      " [ 0.  0.  0. ...,  0.  0.  0.]\n",
      " [ 0.  0.  0. ...,  0.  0.  0.]]\n",
      "[[ 0.  0.  0.  0.  0.  0.  0.  0.  0.  0.  0.  0.  0.  0.  0.  0.]\n",
      " [ 0.  0.  0.  0.  0.  0.  0.  0.  0.  0.  0.  0.  0.  0.  0.  0.]\n",
      " [ 0.  0.  0.  0.  0.  0.  0.  0.  0.  0.  0.  0.  0.  0.  0.  0.]\n",
      " [ 0.  0.  0.  0.  0.  0.  0.  0.  0.  0.  0.  0.  0.  0.  0.  0.]\n",
      " [ 0.  0.  0.  0.  0.  0.  0.  0.  0.  0.  0.  0.  0.  0.  0.  0.]\n",
      " [ 0.  0.  0.  0.  0.  0.  0.  0.  0.  0.  0.  0.  0.  0.  0.  0.]\n",
      " [ 0.  0.  0.  0.  0.  0.  0.  0.  0.  0.  0.  0.  0.  0.  0.  0.]\n",
      " [ 0.  0.  0.  0.  0.  0.  0.  0.  0.  0.  0.  0.  0.  0.  0.  0.]\n",
      " [ 0.  0.  0.  0.  0.  0.  0.  0.  0.  0.  0.  0.  0.  0.  0.  0.]\n",
      " [ 0.  0.  0.  0.  0.  0.  0.  0.  0.  0.  0.  0.  0.  0.  0.  0.]\n",
      " [ 0.  0.  0.  0.  0.  0.  0.  0.  0.  0.  0.  0.  0.  0.  0.  0.]\n",
      " [ 0.  0.  0.  0.  0.  0.  0.  0.  0.  0.  0.  0.  0.  0.  0.  0.]\n",
      " [ 0.  0.  0.  0.  0.  0.  0.  0.  0.  0.  0.  0.  0.  0.  0.  0.]\n",
      " [ 0.  0.  0.  0.  0.  0.  0.  0.  0.  0.  0.  0.  0.  0.  0.  0.]\n",
      " [ 0.  0.  0.  0.  0.  0.  0.  0.  0.  0.  0.  0.  0.  0.  0.  0.]\n",
      " [ 0.  0.  0.  0.  0.  0.  0.  0.  0.  0.  0.  0.  0.  0.  0.  0.]]\n"
     ]
    }
   ],
   "source": [
    "np.set_printoptions(threshold=5)\n",
    "Z = np.zeros((16,16))\n",
    "print(Z)\n",
    "np.set_printoptions(threshold=np.nan)\n",
    "print(Z)"
   ]
  },
  {
   "cell_type": "markdown",
   "metadata": {
    "nbpresent": {
     "id": "442ac35a-4ea2-4bc2-899f-fb4aacb051a4"
    }
   },
   "source": [
    "#### 50. How to find the closest value (to a given scalar) in a vector? (★★☆) \n",
    "(**hint**: argmin)"
   ]
  },
  {
   "cell_type": "code",
   "execution_count": 62,
   "metadata": {
    "nbpresent": {
     "id": "7af6c69d-ada0-4be3-b622-21407a0f0171"
    }
   },
   "outputs": [
    {
     "data": {
      "text/plain": [
       "3"
      ]
     },
     "execution_count": 62,
     "metadata": {},
     "output_type": "execute_result"
    }
   ],
   "source": [
    "temp50 = [5, 1, 2, 3, 4]\n",
    "val50 = 3\n",
    "temp50_2 = np.abs(np.subtract(temp50,val50))\n",
    "np.argmin(temp50_2)"
   ]
  },
  {
   "cell_type": "markdown",
   "metadata": {
    "nbpresent": {
     "id": "f3da0106-b1ab-45fc-ab42-6514ae98f93d"
    }
   },
   "source": [
    "#### 51. Create a structured array representing a position (x,y) and a color (r,g,b) (★★☆) \n",
    "(**hint**: dtype)"
   ]
  },
  {
   "cell_type": "code",
   "execution_count": 63,
   "metadata": {
    "nbpresent": {
     "id": "7f08176d-4d61-4f9c-afd8-edb519ce51d5"
    }
   },
   "outputs": [
    {
     "name": "stdout",
     "output_type": "stream",
     "text": [
      "[(( 0.,  0.), ( 0.,  0.,  0.)) (( 0.,  0.), ( 0.,  0.,  0.))\n",
      " (( 0.,  0.), ( 0.,  0.,  0.)) (( 0.,  0.), ( 0.,  0.,  0.))\n",
      " (( 0.,  0.), ( 0.,  0.,  0.)) (( 0.,  0.), ( 0.,  0.,  0.))\n",
      " (( 0.,  0.), ( 0.,  0.,  0.)) (( 0.,  0.), ( 0.,  0.,  0.))\n",
      " (( 0.,  0.), ( 0.,  0.,  0.)) (( 0.,  0.), ( 0.,  0.,  0.))]\n"
     ]
    }
   ],
   "source": [
    "temp51 = np.zeros(10, [ ('position', [ ('x', float, 1),\n",
    "                                  ('y', float, 1)]),\n",
    "                   ('color',    [ ('r', float, 1),\n",
    "                                  ('g', float, 1),\n",
    "                                  ('b', float, 1)])])\n",
    "print(temp51)"
   ]
  },
  {
   "cell_type": "markdown",
   "metadata": {
    "nbpresent": {
     "id": "3a639e05-4389-4a73-bdaf-a80fa48f7fe1"
    }
   },
   "source": [
    "#### 52. Consider a random vector with shape (100,2) representing coordinates, find point by point distances (★★☆) \n",
    "(**hint**: np.atleast\\_2d, T, np.sqrt)"
   ]
  },
  {
   "cell_type": "code",
   "execution_count": 64,
   "metadata": {
    "nbpresent": {
     "id": "30d6247c-b442-401a-9452-ecd9a9ef47c7"
    }
   },
   "outputs": [
    {
     "name": "stdout",
     "output_type": "stream",
     "text": [
      "[[ 0.          0.98088808  0.69347007  0.39833564  0.88069995  0.49436277\n",
      "   0.71259385  0.98069469  0.93015923  0.43640702]\n",
      " [ 0.98088808  0.          0.30419259  0.58256162  0.18893095  0.49536413\n",
      "   0.66475452  0.50032794  0.62661348  0.81344204]\n",
      " [ 0.69347007  0.30419259  0.          0.30131939  0.29539466  0.24853734\n",
      "   0.58986423  0.4326864   0.49303303  0.62177967]\n",
      " [ 0.39833564  0.58256162  0.30131939  0.          0.49369479  0.11413183\n",
      "   0.50099823  0.66241382  0.66246107  0.38892272]\n",
      " [ 0.88069995  0.18893095  0.29539466  0.49369479  0.          0.3871788\n",
      "   0.47755812  0.63511136  0.73866849  0.65095018]\n",
      " [ 0.49436277  0.49536413  0.24853734  0.11413183  0.3871788   0.\n",
      "   0.41829125  0.65884155  0.6847186   0.37743796]\n",
      " [ 0.71259385  0.66475452  0.58986423  0.50099823  0.47755812  0.41829125\n",
      "   0.          1.02109448  1.07778152  0.3011267 ]\n",
      " [ 0.98069469  0.50032794  0.4326864   0.66241382  0.63511136  0.65884155\n",
      "   1.02109448  0.          0.15203871  1.03497429]\n",
      " [ 0.93015923  0.62661348  0.49303303  0.66246107  0.73866849  0.6847186\n",
      "   1.07778152  0.15203871  0.          1.04911756]\n",
      " [ 0.43640702  0.81344204  0.62177967  0.38892272  0.65095018  0.37743796\n",
      "   0.3011267   1.03497429  1.04911756  0.        ]]\n",
      "====\n",
      "[[ 0.          0.60447212  0.51805686  0.4904529   0.52844861  0.32844518\n",
      "   0.58897165  0.72964569  0.72982728  0.5202057 ]\n",
      " [ 0.60447212  0.          0.3901268   0.45368786  0.07623826  0.3236754\n",
      "   0.25119297  0.24357984  0.52102681  0.37604438]\n",
      " [ 0.51805686  0.3901268   0.          0.6964539   0.36083232  0.22886411\n",
      "   0.58970626  0.31314304  0.85353813  0.65262589]\n",
      " [ 0.4904529   0.45368786  0.6964539   0.          0.40764103  0.48501079\n",
      "   0.23843251  0.69138103  0.24116398  0.08809981]\n",
      " [ 0.52844861  0.07623826  0.36083232  0.40764103  0.          0.25750172\n",
      "   0.23676362  0.28480406  0.508602    0.33774407]\n",
      " [ 0.32844518  0.3236754   0.22886411  0.48501079  0.25750172  0.\n",
      "   0.4319902   0.40248876  0.67104797  0.4557526 ]\n",
      " [ 0.58897165  0.25119297  0.58970626  0.23843251  0.23676362  0.4319902\n",
      "   0.          0.49412639  0.27253431  0.15049269]\n",
      " [ 0.72964569  0.24357984  0.31314304  0.69138103  0.28480406  0.40248876\n",
      "   0.49412639  0.          0.76101734  0.61743933]\n",
      " [ 0.72982728  0.52102681  0.85353813  0.24116398  0.508602    0.67104797\n",
      "   0.27253431  0.76101734  0.          0.22132745]\n",
      " [ 0.5202057   0.37604438  0.65262589  0.08809981  0.33774407  0.4557526\n",
      "   0.15049269  0.61743933  0.22132745  0.        ]]\n"
     ]
    }
   ],
   "source": [
    "Z = np.random.random((10,2))\n",
    "X,Y = np.atleast_2d(Z[:,0], Z[:,1])\n",
    "D = np.sqrt( (X-X.T)**2 + (Y-Y.T)**2)\n",
    "print(D)\n",
    "\n",
    "print(\"====\")\n",
    "# Much faster with scipy\n",
    "import scipy\n",
    "# Thanks Gavin Heverly-Coulson (#issue 1)\n",
    "import scipy.spatial\n",
    "\n",
    "Z = np.random.random((10,2))\n",
    "D = scipy.spatial.distance.cdist(Z,Z)\n",
    "print(D)"
   ]
  },
  {
   "cell_type": "markdown",
   "metadata": {
    "nbpresent": {
     "id": "2549943f-0f7f-4abd-81ec-4d1d20853429"
    }
   },
   "source": [
    "#### 53. How to convert a float (32 bits) array into an integer (32 bits) in place? \n",
    "(**hint**: astype(copy=False))"
   ]
  },
  {
   "cell_type": "code",
   "execution_count": 65,
   "metadata": {
    "nbpresent": {
     "id": "012b15b8-ad40-49a1-bd43-a80db19175c7"
    }
   },
   "outputs": [
    {
     "name": "stdout",
     "output_type": "stream",
     "text": [
      "[ 0.  1.  2.  3.  4.  5.  6.  7.  8.  9.]\n",
      "[0 1 2 3 4 5 6 7 8 9]\n"
     ]
    }
   ],
   "source": [
    "temp53 = np.arange(10, dtype=np.float32)\n",
    "print(temp53)\n",
    "temp53 = temp53.astype(np.int32, copy=False)\n",
    "print(temp53)"
   ]
  },
  {
   "cell_type": "markdown",
   "metadata": {
    "nbpresent": {
     "id": "bcbc8223-64bf-4b56-a4b0-2b3ddadee329"
    }
   },
   "source": [
    "#### 54. How to read the following file? (★★☆) \n",
    "(**hint**: np.genfromtxt)"
   ]
  },
  {
   "cell_type": "markdown",
   "metadata": {
    "nbpresent": {
     "id": "0c4c1b9d-5b66-4bf0-b239-354c580c4c78"
    }
   },
   "source": [
    "```\n",
    "1, 2, 3, 4, 5\n",
    "6,  ,  , 7, 8\n",
    " ,  , 9,10,11\n",
    "```"
   ]
  },
  {
   "cell_type": "code",
   "execution_count": 66,
   "metadata": {
    "nbpresent": {
     "id": "bf0d7f44-c1f8-4e7f-8aae-b438a3bfe19f"
    }
   },
   "outputs": [],
   "source": [
    "# from io import StringIO\n",
    "\n",
    "# # Fake file \n",
    "# s = StringIO(\"\"\"1, 2, 3, 4, 5\\n\n",
    "#                 6,  ,  , 7, 8\\n\n",
    "#                  ,  , 9,10,11\\n\"\"\")\n",
    "# print(type(s))\n",
    "# Z = np.genfromtxt(s, delimiter=\",\", dtype=np.int)\n",
    "# print(Z)"
   ]
  },
  {
   "cell_type": "markdown",
   "metadata": {
    "nbpresent": {
     "id": "f3d15fc1-7b37-4aa8-b5bb-ba4cdb2882c4"
    }
   },
   "source": [
    "#### 55. What is the equivalent of enumerate for numpy arrays? (★★☆) \n",
    "(**hint**: np.ndenumerate, np.ndindex)"
   ]
  },
  {
   "cell_type": "code",
   "execution_count": 67,
   "metadata": {
    "nbpresent": {
     "id": "a910bbf0-318e-4bd7-8977-b193f8813214"
    }
   },
   "outputs": [
    {
     "name": "stdout",
     "output_type": "stream",
     "text": [
      "[[0 1 2]\n",
      " [3 4 5]\n",
      " [6 7 8]]\n",
      "(0, 0) 0\n",
      "(0, 1) 1\n",
      "(0, 2) 2\n",
      "(1, 0) 3\n",
      "(1, 1) 4\n",
      "(1, 2) 5\n",
      "(2, 0) 6\n",
      "(2, 1) 7\n",
      "(2, 2) 8\n",
      "==\n",
      "(0, 0) 0\n",
      "(0, 1) 1\n",
      "(0, 2) 2\n",
      "(1, 0) 3\n",
      "(1, 1) 4\n",
      "(1, 2) 5\n",
      "(2, 0) 6\n",
      "(2, 1) 7\n",
      "(2, 2) 8\n"
     ]
    }
   ],
   "source": [
    "Z = np.arange(9).reshape(3,3)\n",
    "print(Z)\n",
    "for index, value in np.ndenumerate(Z):\n",
    "    print(index, value)\n",
    "print(\"==\")\n",
    "for index in np.ndindex(Z.shape):\n",
    "    print(index, Z[index])"
   ]
  },
  {
   "cell_type": "markdown",
   "metadata": {
    "nbpresent": {
     "id": "4cd04d79-87f6-489a-bb8a-72c28b19c079"
    }
   },
   "source": [
    "#### 56. Generate a generic 2D Gaussian-like array (★★☆) \n",
    "(**hint**: np.meshgrid, np.exp)"
   ]
  },
  {
   "cell_type": "code",
   "execution_count": null,
   "metadata": {
    "nbpresent": {
     "id": "b9229665-fcb9-4b25-be89-7ace2930895c"
    }
   },
   "outputs": [],
   "source": []
  },
  {
   "cell_type": "markdown",
   "metadata": {
    "nbpresent": {
     "id": "c5495c36-e1c5-4f4d-b125-baf3275a96c2"
    }
   },
   "source": [
    "#### 57. How to randomly place p elements in a 2D array? (★★☆) \n",
    "(**hint**: np.put, np.random.choice)"
   ]
  },
  {
   "cell_type": "code",
   "execution_count": 68,
   "metadata": {
    "nbpresent": {
     "id": "60fe7d61-e7ab-48f1-8ed7-f7c46f6242d8"
    }
   },
   "outputs": [
    {
     "name": "stdout",
     "output_type": "stream",
     "text": [
      "[54 92 96]\n",
      "[[ 0.  0.  0.  0.  0.  0.  0.  0.  0.  0.]\n",
      " [ 0.  0.  0.  0.  0.  0.  0.  0.  0.  0.]\n",
      " [ 0.  0.  0.  0.  0.  0.  0.  0.  0.  0.]\n",
      " [ 0.  0.  0.  0.  0.  0.  0.  0.  0.  0.]\n",
      " [ 0.  0.  0.  0.  0.  0.  0.  0.  0.  0.]\n",
      " [ 0.  0.  0.  0.  1.  0.  0.  0.  0.  0.]\n",
      " [ 0.  0.  0.  0.  0.  0.  0.  0.  0.  0.]\n",
      " [ 0.  0.  0.  0.  0.  0.  0.  0.  0.  0.]\n",
      " [ 0.  0.  0.  0.  0.  0.  0.  0.  0.  0.]\n",
      " [ 0.  0.  1.  0.  0.  0.  1.  0.  0.  0.]]\n"
     ]
    }
   ],
   "source": [
    "n = 10\n",
    "p = 3\n",
    "Z = np.zeros((n,n))\n",
    "rand_choice = np.random.choice(range(n*n), p, replace=False)\n",
    "print(rand_choice)\n",
    "np.put(Z, rand_choice,1)\n",
    "print(Z)"
   ]
  },
  {
   "cell_type": "markdown",
   "metadata": {
    "nbpresent": {
     "id": "c7c9ac40-c297-4150-b6be-1843de1463ee"
    }
   },
   "source": [
    "#### 58. Subtract the mean of each row of a matrix (★★☆) \n",
    "(**hint**: mean(axis=,keepdims=))"
   ]
  },
  {
   "cell_type": "code",
   "execution_count": 69,
   "metadata": {
    "nbpresent": {
     "id": "6d84c9d8-202c-4876-9e7d-7ed532cf4aa3"
    }
   },
   "outputs": [
    {
     "name": "stdout",
     "output_type": "stream",
     "text": [
      "[[ 3.66666667 -2.33333333 -1.33333333]\n",
      " [-2.33333333  0.66666667  1.66666667]]\n"
     ]
    }
   ],
   "source": [
    "temp58 = np.array([[8, 2, 3], [2, 5, 6]])\n",
    "temp58_row_mean = np.mean(temp58, axis=1, keepdims=True)\n",
    "print(temp58 - temp58_row_mean)"
   ]
  },
  {
   "cell_type": "markdown",
   "metadata": {
    "nbpresent": {
     "id": "9dc76395-99a0-4a15-a68c-8345707b05b2"
    }
   },
   "source": [
    "#### 59. How to sort an array by the nth column? (★★☆) \n",
    "(**hint**: argsort)"
   ]
  },
  {
   "cell_type": "code",
   "execution_count": 70,
   "metadata": {
    "nbpresent": {
     "id": "55e01981-f30a-4ecf-b0a3-b8f5ce6506cb"
    }
   },
   "outputs": [
    {
     "name": "stdout",
     "output_type": "stream",
     "text": [
      "[[3 3 7 0]\n",
      " [4 1 4 1]\n",
      " [8 2 2 8]\n",
      " [8 7 5 5]]\n",
      "\n",
      "\n",
      "[[4 1 4 1]\n",
      " [8 2 2 8]\n",
      " [3 3 7 0]\n",
      " [8 7 5 5]]\n"
     ]
    }
   ],
   "source": [
    "temp59 = np.random.randint(0,10,(4,4))\n",
    "print(temp59)\n",
    "print(\"\\n\")\n",
    "print(temp59[temp59[:,1].argsort()])"
   ]
  },
  {
   "cell_type": "markdown",
   "metadata": {
    "nbpresent": {
     "id": "e39c9e45-71c8-434f-95a1-99d21c924680"
    }
   },
   "source": [
    "#### 60. How to tell if a given 2D array has null columns? (★★☆) \n",
    "(**hint**: any, ~)"
   ]
  },
  {
   "cell_type": "code",
   "execution_count": 71,
   "metadata": {
    "nbpresent": {
     "id": "70c2cf68-162f-43bb-994d-2807f61fa40c"
    }
   },
   "outputs": [
    {
     "name": "stdout",
     "output_type": "stream",
     "text": [
      "[[ True False]\n",
      " [False False]]\n",
      "True\n"
     ]
    }
   ],
   "source": [
    "temp60 = np.zeros([2, 2])\n",
    "temp60[0][0] = np.NaN\n",
    "temp60 = np.isnan(temp60)\n",
    "print(temp60)\n",
    "print(temp60.any())"
   ]
  },
  {
   "cell_type": "markdown",
   "metadata": {
    "nbpresent": {
     "id": "19aa98b2-341d-49f6-9356-592d0401b8ba"
    }
   },
   "source": [
    "#### 61. Find the nearest value from a given value in an array (★★☆) \n",
    "(**hint**: np.abs, argmin, flat)"
   ]
  },
  {
   "cell_type": "code",
   "execution_count": 72,
   "metadata": {
    "nbpresent": {
     "id": "4aa972f2-6bae-46bc-ac46-7d4cf6bbe0d2"
    }
   },
   "outputs": [
    {
     "name": "stdout",
     "output_type": "stream",
     "text": [
      "[ 0.54087515  0.98446822  0.12201378  0.09610609  0.54177552  0.44498002\n",
      "  0.34889622  0.52649081  0.84725433  0.64869126]\n",
      "0.52649081125\n"
     ]
    }
   ],
   "source": [
    "temp61 = np.random.uniform(0,1,10)\n",
    "pick_temp61 = 0.5\n",
    "print(temp61)\n",
    "m = temp61.flat[np.abs(temp61 - pick_temp61).argmin()]\n",
    "print(m)"
   ]
  },
  {
   "cell_type": "markdown",
   "metadata": {
    "nbpresent": {
     "id": "ed19c41d-d987-44c5-bb07-dfa7f46b927d"
    }
   },
   "source": [
    "#### 62. Considering two arrays with shape (1,3) and (3,1), how to compute their sum using an iterator? (★★☆) \n",
    "(**hint**: np.nditer)"
   ]
  },
  {
   "cell_type": "code",
   "execution_count": 73,
   "metadata": {
    "nbpresent": {
     "id": "3a149aac-e3d9-41b4-9a19-3dc131d55479"
    }
   },
   "outputs": [
    {
     "name": "stdout",
     "output_type": "stream",
     "text": [
      "[[0]\n",
      " [1]\n",
      " [2]]\n",
      "[[0 1 2]]\n",
      "\n",
      "\n",
      "[[0 1 2]\n",
      " [1 2 3]\n",
      " [2 3 4]]\n"
     ]
    }
   ],
   "source": [
    "A = np.arange(3).reshape(3,1)\n",
    "B = np.arange(3).reshape(1,3)\n",
    "print(A)\n",
    "print(B)\n",
    "print(\"\\n\")\n",
    "it = np.nditer([A,B,None])\n",
    "for x,y,z in it:\n",
    "    z[...] = x + y\n",
    "\n",
    "print(it.operands[2])"
   ]
  },
  {
   "cell_type": "markdown",
   "metadata": {
    "nbpresent": {
     "id": "24d88589-a54a-48df-81c7-7949b68e297d"
    }
   },
   "source": [
    "#### 63. Create an array class that has a name attribute (★★☆) \n",
    "(**hint**: class method)"
   ]
  },
  {
   "cell_type": "code",
   "execution_count": 74,
   "metadata": {
    "nbpresent": {
     "id": "55ab958b-e32d-4a62-bc0d-bc6766ef2a06"
    }
   },
   "outputs": [
    {
     "name": "stdout",
     "output_type": "stream",
     "text": [
      "range_10\n"
     ]
    }
   ],
   "source": [
    "class NamedArray(np.ndarray):\n",
    "    def __new__(cls, array, name=\"no name\"):\n",
    "        obj = np.asarray(array).view(cls)\n",
    "        obj.name = name\n",
    "        return obj\n",
    "    \n",
    "    def __array_finalize__(self, obj):\n",
    "        if obj is None: return\n",
    "        self.info = getattr(obj, 'name', \"no name\")\n",
    "\n",
    "Z = NamedArray(np.arange(10), \"range_10\")\n",
    "print (Z.name)"
   ]
  },
  {
   "cell_type": "markdown",
   "metadata": {
    "nbpresent": {
     "id": "3b628d6a-0868-4067-b049-072340c4e499"
    }
   },
   "source": [
    "#### 64. Consider a given vector, how to add 1 to each element indexed by a second vector (be careful with repeated indices)? (★★★) \n",
    "(**hint**: np.bincount | np.add.at)"
   ]
  },
  {
   "cell_type": "code",
   "execution_count": 75,
   "metadata": {
    "nbpresent": {
     "id": "bb58b88d-8b3b-4c7a-ad55-f2d9c93d400e"
    }
   },
   "outputs": [
    {
     "name": "stdout",
     "output_type": "stream",
     "text": [
      "Z= [ 1.  1.  1.  1.  1.  1.  1.  1.  1.  1.]\n",
      "I= [4 8 9 2 9 4 1 9 5 6 2 4 8 2 6 0 0 9 0 9]\n",
      "bincount [3 1 3 0 3 1 2 0 2 5]\n",
      "Z + bincount= [ 4.  2.  4.  1.  4.  2.  3.  1.  3.  6.]\n",
      "[  7.   3.   7.   1.   7.   3.   5.   1.   5.  11.]\n"
     ]
    }
   ],
   "source": [
    "# Author: Brett Olsen\n",
    "\n",
    "Z = np.ones(10)\n",
    "print(\"Z=\",Z)\n",
    "I = np.random.randint(0,len(Z),20)\n",
    "print(\"I=\",I)\n",
    "print(\"bincount\", np.bincount(I, minlength=len(Z)))\n",
    "Z += np.bincount(I, minlength=len(Z))\n",
    "print(\"Z + bincount=\", Z)\n",
    "\n",
    "# Another solution\n",
    "# Author: Bartosz Telenczuk\n",
    "np.add.at(Z, I, 1)\n",
    "print(Z)"
   ]
  },
  {
   "cell_type": "markdown",
   "metadata": {
    "nbpresent": {
     "id": "52d904cf-0786-45d8-9dbb-ac3ca633faea"
    }
   },
   "source": [
    "#### 65. How to accumulate elements of a vector (X) to an array (F) based on an index list (I)? (★★★) \n",
    "(**hint**: np.bincount)"
   ]
  },
  {
   "cell_type": "code",
   "execution_count": 76,
   "metadata": {
    "nbpresent": {
     "id": "c65addec-2c8e-4b37-8d17-1be58bcaed08"
    }
   },
   "outputs": [
    {
     "name": "stdout",
     "output_type": "stream",
     "text": [
      "[0 2 0 2 1 0 0 0 0 1]\n",
      "[ 0.  7.  0.  6.  5.  0.  0.  0.  0.  3.]\n"
     ]
    }
   ],
   "source": [
    "\n",
    "# Author: Alan G Isaac# Autho \n",
    "\n",
    "X = [1,2,3,4,5,6]\n",
    "I = [1,3,9,3,4,1]\n",
    "print(np.bincount(I))\n",
    "F = np.bincount(I,X)\n",
    "print(F)"
   ]
  },
  {
   "cell_type": "markdown",
   "metadata": {
    "nbpresent": {
     "id": "b1da65e5-a7c6-4348-aef2-0f67fc17acfa"
    }
   },
   "source": [
    "#### 66. Considering a (w,h,3) image of (dtype=ubyte), compute the number of unique colors (★★★) \n",
    "(**hint**: np.unique)"
   ]
  },
  {
   "cell_type": "code",
   "execution_count": 77,
   "metadata": {
    "nbpresent": {
     "id": "0e689f6d-a9dc-4375-87b3-89891f2fb596"
    }
   },
   "outputs": [
    {
     "name": "stdout",
     "output_type": "stream",
     "text": [
      "8\n"
     ]
    }
   ],
   "source": [
    "w,h = 16,16\n",
    "I = np.random.randint(0,2,(h,w,3)).astype(np.ubyte)\n",
    "#Note that we should compute 256*256 first. \n",
    "#Otherwise numpy will only promote F.dtype to 'uint16' and overfolw will occur\n",
    "F = I[...,0]*(256*256) + I[...,1]*256 +I[...,2]\n",
    "n = len(np.unique(F))\n",
    "print(n)"
   ]
  },
  {
   "cell_type": "markdown",
   "metadata": {
    "nbpresent": {
     "id": "85263d1d-bd19-4600-a3a8-8f2eaa55e516"
    }
   },
   "source": [
    "#### 67. Considering a four dimensions array, how to get sum over the last two axis at once? (★★★) \n",
    "(**hint**: sum(axis=(-2,-1)))"
   ]
  },
  {
   "cell_type": "code",
   "execution_count": 78,
   "metadata": {
    "nbpresent": {
     "id": "12b60bf0-41a1-4eb8-b823-de51a7621117"
    }
   },
   "outputs": [
    {
     "name": "stdout",
     "output_type": "stream",
     "text": [
      "[[55 57 71 60]\n",
      " [45 63 33 57]\n",
      " [45 73 53 63]]\n",
      "[[55 57 71 60]\n",
      " [45 63 33 57]\n",
      " [45 73 53 63]]\n"
     ]
    }
   ],
   "source": [
    "A = np.random.randint(0,10,(3,4,3,4))\n",
    "# solution by passing a tuple of axes (introduced in numpy 1.7.0)\n",
    "sum = A.sum(axis=(-2,-1))\n",
    "print(sum)\n",
    "# solution by flattening the last two dimensions into one\n",
    "# (useful for functions that don't accept tuples for axis argument)\n",
    "sum = A.reshape(A.shape[:-2] + (-1,)).sum(axis=-1)\n",
    "print(sum)"
   ]
  },
  {
   "cell_type": "markdown",
   "metadata": {
    "nbpresent": {
     "id": "c434cc9a-c451-43a9-888d-f12a9ae258c1"
    }
   },
   "source": [
    "#### 68. Considering a one-dimensional vector D, how to compute means of subsets of D using a vector S of same size describing subset  indices? (★★★) \n",
    "(**hint**: np.bincount)"
   ]
  },
  {
   "cell_type": "code",
   "execution_count": 79,
   "metadata": {
    "nbpresent": {
     "id": "037081b9-dcb8-42d7-af1e-f787844e9f68"
    }
   },
   "outputs": [
    {
     "name": "stdout",
     "output_type": "stream",
     "text": [
      "S: [4 6 2 5 0 9 1 6 3 3 8 7 2 3 6 4 6 8 9 3 3 5 3 2 8 3 5 7 9 6 4 5 2 2 2 2 4\n",
      " 1 1 3 6 1 6 7 0 2 7 5 1 9 4 6 1 7 4 4 4 3 8 1 7 9 9 0 9 5 8 9 4 9 4 2 4 5\n",
      " 9 7 1 7 7 6 6 9 0 0 5 8 8 6 1 7 5 6 6 2 4 5 4 6 5 9]\n",
      "D_sums: [ 2.14538286  5.25062313  4.99132107  3.70422169  7.16177743  4.65133494\n",
      "  7.95743065  3.41977088  4.15556828  7.22081046]\n",
      "D_counts: [ 5  9 10  9 13 11 14 10  7 12]\n",
      "D_means: [ 0.42907657  0.58340257  0.49913211  0.41158019  0.55090596  0.42284863\n",
      "  0.5683879   0.34197709  0.59365261  0.6017342 ]\n",
      "0    0.429077\n",
      "1    0.583403\n",
      "2    0.499132\n",
      "3    0.411580\n",
      "4    0.550906\n",
      "5    0.422849\n",
      "6    0.568388\n",
      "7    0.341977\n",
      "8    0.593653\n",
      "9    0.601734\n",
      "dtype: float64\n"
     ]
    }
   ],
   "source": [
    "# Author: Jaime Fernández del Río\n",
    "\n",
    "D = np.random.uniform(0,1,100)\n",
    "S = np.random.randint(0,10,100)\n",
    "print(\"S:\", S)\n",
    "D_sums = np.bincount(S, weights=D)\n",
    "print(\"D_sums:\", D_sums)\n",
    "D_counts = np.bincount(S)\n",
    "print(\"D_counts:\", D_counts)\n",
    "D_means = D_sums / D_counts\n",
    "print(\"D_means:\", D_means)\n",
    "\n",
    "# Pandas solution as a reference due to more intuitive code\n",
    "import pandas as pd\n",
    "print(pd.Series(D).groupby(S).mean())"
   ]
  },
  {
   "cell_type": "markdown",
   "metadata": {
    "nbpresent": {
     "id": "3f1e59af-5e68-467f-971f-f8ed6cbb5a46"
    }
   },
   "source": [
    "#### 69. How to get the diagonal of a dot product? (★★★) \n",
    "(**hint**: np.diag)"
   ]
  },
  {
   "cell_type": "code",
   "execution_count": 80,
   "metadata": {
    "nbpresent": {
     "id": "5e394d32-b744-4455-8535-bcfa8415a27b"
    }
   },
   "outputs": [
    {
     "data": {
      "text/plain": [
       "array([ 0.94001572,  1.57921893,  0.87533287,  1.26494235,  0.91279542])"
      ]
     },
     "execution_count": 80,
     "metadata": {},
     "output_type": "execute_result"
    }
   ],
   "source": [
    "# Author: Mathieu Blondel\n",
    "\n",
    "A = np.random.uniform(0,1,(5,5))\n",
    "B = np.random.uniform(0,1,(5,5))\n",
    "\n",
    "# Slow version  \n",
    "np.diag(np.dot(A, B))\n",
    "\n",
    "# Fast version\n",
    "np.sum(A * B.T, axis=1)\n",
    "\n",
    "# Faster version\n",
    "np.einsum(\"ij,ji->i\", A, B)"
   ]
  },
  {
   "cell_type": "markdown",
   "metadata": {
    "nbpresent": {
     "id": "68c18ee0-4126-4f60-88e1-9a2a01138755"
    }
   },
   "source": [
    "#### 70. Consider the vector \\[1, 2, 3, 4, 5\\], how to build a new vector with 3 consecutive zeros interleaved between each value? (★★★) \n",
    "(**hint**: array\\[::4\\]"
   ]
  },
  {
   "cell_type": "code",
   "execution_count": 81,
   "metadata": {
    "nbpresent": {
     "id": "504755fc-706e-49df-8887-be2decb515cf"
    }
   },
   "outputs": [
    {
     "name": "stdout",
     "output_type": "stream",
     "text": [
      "[ 1.  0.  0.  0.  2.  0.  0.  0.  3.  0.  0.  0.  4.  0.  0.  0.  5.]\n"
     ]
    }
   ],
   "source": [
    "# Author: Warren Weckesser\n",
    "\n",
    "Z = np.array([1,2,3,4,5])\n",
    "nz = 3\n",
    "Z0 = np.zeros(len(Z) + (len(Z)-1)*(nz))\n",
    "Z0[::nz+1] = Z\n",
    "print(Z0)"
   ]
  },
  {
   "cell_type": "markdown",
   "metadata": {
    "nbpresent": {
     "id": "46e119e3-4f8f-4e7a-8128-90529d508f0e"
    }
   },
   "source": [
    "#### 71. Consider an array of dimension (5,5,3), how to mulitply it by an array with dimensions (5,5)? (★★★) \n",
    "(**hint**: array\\[:, :, None\\])"
   ]
  },
  {
   "cell_type": "code",
   "execution_count": 82,
   "metadata": {
    "nbpresent": {
     "id": "dfeefc39-b496-4ec2-a0af-b03ee5e94ef0"
    }
   },
   "outputs": [],
   "source": [
    "A = np.ones((5,5,3))\n",
    "B = 2*np.ones((5,5))\n",
    "sol1 = A * B.reshape(5,5,1)\n",
    "sol2 = A * B[:,:,None]"
   ]
  },
  {
   "cell_type": "markdown",
   "metadata": {
    "nbpresent": {
     "id": "c013f113-8073-4700-885a-0afa02446a2d"
    }
   },
   "source": [
    "#### 72. How to swap two rows of an array? (★★★) \n",
    "(**hint**: array\\[\\[\\]\\] = array\\[\\[\\]\\])"
   ]
  },
  {
   "cell_type": "code",
   "execution_count": 84,
   "metadata": {
    "nbpresent": {
     "id": "250f56ed-b7c8-499f-849f-9ae94fc15bbd"
    }
   },
   "outputs": [
    {
     "name": "stdout",
     "output_type": "stream",
     "text": [
      "[[ 0  1  2  3  4]\n",
      " [ 5  6  7  8  9]\n",
      " [10 11 12 13 14]\n",
      " [15 16 17 18 19]\n",
      " [20 21 22 23 24]]\n",
      "[[ 5  6  7  8  9]\n",
      " [ 0  1  2  3  4]\n",
      " [10 11 12 13 14]\n",
      " [15 16 17 18 19]\n",
      " [20 21 22 23 24]]\n"
     ]
    }
   ],
   "source": [
    "# Author: Eelco Hoogendoorn\n",
    "\n",
    "A = np.arange(25).reshape(5,5)\n",
    "print(A)\n",
    "A[[0,1]] = A[[1,0]]\n",
    "print(A)"
   ]
  },
  {
   "cell_type": "markdown",
   "metadata": {
    "nbpresent": {
     "id": "05d85655-636a-4e6f-bf30-737cf56d3918"
    }
   },
   "source": [
    "#### 73. Consider a set of 10 triplets describing 10 triangles (with shared vertices), find the set of unique line segments composing all the  triangles (★★★) \n",
    "(**hint**: repeat, np.roll, np.sort, view, np.unique)"
   ]
  },
  {
   "cell_type": "code",
   "execution_count": null,
   "metadata": {
    "nbpresent": {
     "id": "e2dad289-17e6-4573-a723-6888ae80e7cc"
    }
   },
   "outputs": [],
   "source": []
  },
  {
   "cell_type": "markdown",
   "metadata": {
    "nbpresent": {
     "id": "89d79c4a-e3d6-4c7e-b7d4-dc804034d69f"
    }
   },
   "source": [
    "#### 74. Given an array C that is a bincount, how to produce an array A such that np.bincount(A) == C? (★★★) \n",
    "(**hint**: np.repeat)"
   ]
  },
  {
   "cell_type": "code",
   "execution_count": null,
   "metadata": {
    "nbpresent": {
     "id": "89f9d79b-d9ea-440a-93e5-abc767e71751"
    }
   },
   "outputs": [],
   "source": []
  },
  {
   "cell_type": "markdown",
   "metadata": {
    "nbpresent": {
     "id": "df6b121a-3195-4a33-b8fb-b6b361256e29"
    }
   },
   "source": [
    "#### 75. How to compute averages using a sliding window over an array? (★★★) \n",
    "(**hint**: np.cumsum)"
   ]
  },
  {
   "cell_type": "code",
   "execution_count": null,
   "metadata": {
    "nbpresent": {
     "id": "f65ae653-6fb3-479e-a692-3f99fdf5f6f1"
    }
   },
   "outputs": [],
   "source": []
  },
  {
   "cell_type": "markdown",
   "metadata": {
    "nbpresent": {
     "id": "8de236dd-721e-4b19-bad3-b3fb4ed38d3e"
    }
   },
   "source": [
    "#### 76. Consider a one-dimensional array Z, build a two-dimensional array whose first row is (Z\\[0\\],Z\\[1\\],Z\\[2\\]) and each subsequent row is  shifted by 1 (last row should be (Z\\[-3\\],Z\\[-2\\],Z\\[-1\\]) (★★★) \n",
    "(**hint**: from numpy.lib import stride_tricks)"
   ]
  },
  {
   "cell_type": "code",
   "execution_count": null,
   "metadata": {
    "nbpresent": {
     "id": "3ca64196-f664-4541-9947-b7b9a0024cc2"
    }
   },
   "outputs": [],
   "source": []
  },
  {
   "cell_type": "markdown",
   "metadata": {
    "nbpresent": {
     "id": "f5262762-a680-44de-93fe-ec8e5216d614"
    }
   },
   "source": [
    "#### 77. How to negate a boolean, or to change the sign of a float inplace? (★★★) \n",
    "(**hint**: np.logical_not, np.negative)"
   ]
  },
  {
   "cell_type": "code",
   "execution_count": null,
   "metadata": {
    "nbpresent": {
     "id": "61aa94fe-8ce7-428d-a604-2d458aa5e309"
    }
   },
   "outputs": [],
   "source": []
  },
  {
   "cell_type": "markdown",
   "metadata": {
    "nbpresent": {
     "id": "8cb8fde1-2ec3-408a-8d6f-f8f24d0d246d"
    }
   },
   "source": [
    "#### 78. Consider 2 sets of points P0,P1 describing lines (2d) and a point p, how to compute distance from p to each line i  (P0\\[i\\],P1\\[i\\])? (★★★)"
   ]
  },
  {
   "cell_type": "code",
   "execution_count": null,
   "metadata": {
    "nbpresent": {
     "id": "8b7f5fd3-4044-434c-887e-52279eaaffd5"
    }
   },
   "outputs": [],
   "source": []
  },
  {
   "cell_type": "markdown",
   "metadata": {
    "nbpresent": {
     "id": "6fc62c04-c15c-4d74-906d-d6f3c14b7339"
    }
   },
   "source": [
    "#### 79. Consider 2 sets of points P0,P1 describing lines (2d) and a set of points P, how to compute distance from each point j (P\\[j\\]) to each line i (P0\\[i\\],P1\\[i\\])? (★★★)"
   ]
  },
  {
   "cell_type": "code",
   "execution_count": null,
   "metadata": {
    "nbpresent": {
     "id": "7c706106-d586-4efe-b524-302c532af40d"
    }
   },
   "outputs": [],
   "source": []
  },
  {
   "cell_type": "markdown",
   "metadata": {
    "nbpresent": {
     "id": "349a5223-ef94-48df-914a-0c30d749c6b2"
    }
   },
   "source": [
    "#### 80. Consider an arbitrary array, write a function that extract a subpart with a fixed shape and centered on a given element (pad with a `fill` value when necessary) (★★★) \n",
    "(**hint**: minimum, maximum)"
   ]
  },
  {
   "cell_type": "code",
   "execution_count": null,
   "metadata": {
    "nbpresent": {
     "id": "62dd3ce3-8206-4849-b054-e480a8175439"
    }
   },
   "outputs": [],
   "source": []
  },
  {
   "cell_type": "markdown",
   "metadata": {
    "nbpresent": {
     "id": "676f9ce8-77b3-4a22-8f5b-ba46c3f4a1de"
    }
   },
   "source": [
    "#### 81. Consider an array Z = \\[1,2,3,4,5,6,7,8,9,10,11,12,13,14\\], how to generate an array R = \\[\\[1,2,3,4\\], \\[2,3,4,5\\], \\[3,4,5,6\\], ..., \\[11,12,13,14\\]\\]? (★★★) \n",
    "(**hint**: stride\\_tricks.as\\_strided)"
   ]
  },
  {
   "cell_type": "code",
   "execution_count": null,
   "metadata": {
    "nbpresent": {
     "id": "236dd925-c4a1-4794-a685-a5d463473080"
    }
   },
   "outputs": [],
   "source": []
  },
  {
   "cell_type": "markdown",
   "metadata": {
    "nbpresent": {
     "id": "0b4fee71-2518-4702-91bc-23a1c53d20cc"
    }
   },
   "source": [
    "#### 82. Compute a matrix rank (★★★) \n",
    "(**hint**: np.linalg.svd) (suggestion: np.linalg.svd)"
   ]
  },
  {
   "cell_type": "code",
   "execution_count": null,
   "metadata": {
    "nbpresent": {
     "id": "390b8499-a084-4e69-8635-78b565858ff1"
    }
   },
   "outputs": [],
   "source": []
  },
  {
   "cell_type": "markdown",
   "metadata": {
    "nbpresent": {
     "id": "43ace6dc-2cca-472b-a8b1-29a12fb1ffac"
    }
   },
   "source": [
    "#### 83. How to find the most frequent value in an array? \n",
    "(**hint**: np.bincount, argmax)"
   ]
  },
  {
   "cell_type": "code",
   "execution_count": null,
   "metadata": {
    "nbpresent": {
     "id": "20f522c9-a0fc-4ac9-89df-5c537ba9f2c5"
    }
   },
   "outputs": [],
   "source": []
  },
  {
   "cell_type": "markdown",
   "metadata": {
    "nbpresent": {
     "id": "824f52c1-b61c-42f1-a7bb-f60296ba7fb9"
    }
   },
   "source": [
    "#### 84. Extract all the contiguous 3x3 blocks from a random 10x10 matrix (★★★) \n",
    "(**hint**: stride\\_tricks.as\\_strided)"
   ]
  },
  {
   "cell_type": "code",
   "execution_count": null,
   "metadata": {
    "nbpresent": {
     "id": "7d150685-50e7-4ec9-8655-7256a41e7b0b"
    }
   },
   "outputs": [],
   "source": []
  },
  {
   "cell_type": "markdown",
   "metadata": {
    "nbpresent": {
     "id": "d379ba51-dea6-40dc-8441-6ebf578885e8"
    }
   },
   "source": [
    "#### 85. Create a 2D array subclass such that Z\\[i,j\\] == Z\\[j,i\\] (★★★) \n",
    "(**hint**: class method)"
   ]
  },
  {
   "cell_type": "code",
   "execution_count": null,
   "metadata": {
    "nbpresent": {
     "id": "8e250bd6-9825-4fd7-9bf5-fce529c87152"
    }
   },
   "outputs": [],
   "source": []
  },
  {
   "cell_type": "markdown",
   "metadata": {
    "nbpresent": {
     "id": "977fe6b8-107a-470f-ba4a-8b0cebda818b"
    }
   },
   "source": [
    "#### 86. Consider a set of p matrices wich shape (n,n) and a set of p vectors with shape (n,1). How to compute the sum of of the p matrix products at once? (result has shape (n,1)) (★★★) \n",
    "(**hint**: np.tensordot)"
   ]
  },
  {
   "cell_type": "code",
   "execution_count": null,
   "metadata": {
    "nbpresent": {
     "id": "34f3535f-ea06-46a2-9060-fc34a8cc18e8"
    }
   },
   "outputs": [],
   "source": []
  },
  {
   "cell_type": "markdown",
   "metadata": {
    "nbpresent": {
     "id": "f7aeb88d-7cb4-45d4-b451-182c59583c50"
    }
   },
   "source": [
    "#### 87. Consider a 16x16 array, how to get the block-sum (block size is 4x4)? (★★★) \n",
    "(**hint**: np.add.reduceat)"
   ]
  },
  {
   "cell_type": "code",
   "execution_count": null,
   "metadata": {
    "nbpresent": {
     "id": "0e7f3dda-884d-4a80-b088-fd4c75306fdf"
    }
   },
   "outputs": [],
   "source": []
  },
  {
   "cell_type": "markdown",
   "metadata": {
    "nbpresent": {
     "id": "b026b3a8-573e-414f-8ffe-c5bf823ecf1d"
    }
   },
   "source": [
    "#### 88. How to implement the Game of Life using numpy arrays? (★★★)"
   ]
  },
  {
   "cell_type": "code",
   "execution_count": null,
   "metadata": {
    "nbpresent": {
     "id": "9483dd30-1045-4615-8f13-0c67480a7489"
    }
   },
   "outputs": [],
   "source": []
  },
  {
   "cell_type": "markdown",
   "metadata": {
    "nbpresent": {
     "id": "7424806e-5ab7-48d4-852e-f273d3833aec"
    }
   },
   "source": [
    "#### 89. How to get the n largest values of an array (★★★) \n",
    "(**hint**: np.argsort | np.argpartition)"
   ]
  },
  {
   "cell_type": "code",
   "execution_count": null,
   "metadata": {
    "nbpresent": {
     "id": "6b05d78b-9c50-40d9-b2e6-97440454922f"
    }
   },
   "outputs": [],
   "source": []
  },
  {
   "cell_type": "markdown",
   "metadata": {
    "nbpresent": {
     "id": "8d8c3de7-6b61-42f5-b781-369c15288a98"
    }
   },
   "source": [
    "#### 90. Given an arbitrary number of vectors, build the cartesian product (every combinations of every item) (★★★) \n",
    "(**hint**: np.indices)"
   ]
  },
  {
   "cell_type": "code",
   "execution_count": null,
   "metadata": {
    "nbpresent": {
     "id": "227a7e15-95d0-49f4-8993-9056303e19f2"
    },
    "scrolled": true
   },
   "outputs": [],
   "source": []
  },
  {
   "cell_type": "markdown",
   "metadata": {
    "nbpresent": {
     "id": "3b6f0757-62ab-43ab-898f-5d1c730091ec"
    }
   },
   "source": [
    "#### 91. How to create a record array from a regular array? (★★★) \n",
    "(**hint**: np.core.records.fromarrays)"
   ]
  },
  {
   "cell_type": "code",
   "execution_count": null,
   "metadata": {
    "nbpresent": {
     "id": "9fe5baa1-9f17-4d4a-9ca2-e20b248f7c39"
    }
   },
   "outputs": [],
   "source": []
  },
  {
   "cell_type": "markdown",
   "metadata": {
    "nbpresent": {
     "id": "a0cf4617-a37a-486c-865e-20e2b9ae1ee1"
    }
   },
   "source": [
    "#### 92. Consider a large vector Z, compute Z to the power of 3 using 3 different methods (★★★) \n",
    "(**hint**: np.power, \\*, np.einsum)"
   ]
  },
  {
   "cell_type": "code",
   "execution_count": null,
   "metadata": {
    "nbpresent": {
     "id": "43185379-8412-4afb-9942-8f93a1290531"
    }
   },
   "outputs": [],
   "source": []
  },
  {
   "cell_type": "markdown",
   "metadata": {
    "nbpresent": {
     "id": "d8a019f1-2637-4b0e-af4f-5a43c490c2dd"
    }
   },
   "source": [
    "#### 93. Consider two arrays A and B of shape (8,3) and (2,2). How to find rows of A that contain elements of each row of B regardless of the order of the elements in B? (★★★) \n",
    "(**hint**: np.where)"
   ]
  },
  {
   "cell_type": "code",
   "execution_count": null,
   "metadata": {
    "nbpresent": {
     "id": "0af00e88-aa9c-4a9a-be5c-f1f9ca11a8ec"
    }
   },
   "outputs": [],
   "source": []
  },
  {
   "cell_type": "markdown",
   "metadata": {
    "nbpresent": {
     "id": "ea54fe32-85c3-4364-be4a-c6f9ce1f401e"
    }
   },
   "source": [
    "#### 94. Considering a 10x3 matrix, extract rows with unequal values (e.g. \\[2,2,3\\]) (★★★)"
   ]
  },
  {
   "cell_type": "code",
   "execution_count": null,
   "metadata": {
    "nbpresent": {
     "id": "abe8f8d0-02b8-4bcd-a997-ea4ebe76f3a0"
    }
   },
   "outputs": [],
   "source": []
  },
  {
   "cell_type": "markdown",
   "metadata": {
    "nbpresent": {
     "id": "c929b006-8d68-4f06-acf1-02642e1f5496"
    }
   },
   "source": [
    "#### 95. Convert a vector of ints into a matrix binary representation (★★★) \n",
    "(**hint**: np.unpackbits)"
   ]
  },
  {
   "cell_type": "code",
   "execution_count": null,
   "metadata": {
    "nbpresent": {
     "id": "1ab13e41-895f-4b6c-b87d-ee2c1a00ac1a"
    }
   },
   "outputs": [],
   "source": []
  },
  {
   "cell_type": "markdown",
   "metadata": {
    "nbpresent": {
     "id": "90d36b94-498a-4489-bf58-a9a518f30978"
    }
   },
   "source": [
    "#### 96. Given a two dimensional array, how to extract unique rows? (★★★) \n",
    "(**hint**: np.ascontiguousarray)"
   ]
  },
  {
   "cell_type": "code",
   "execution_count": null,
   "metadata": {
    "nbpresent": {
     "id": "fc8e3f5b-3b82-4136-9ac9-1f9bfe021a5d"
    }
   },
   "outputs": [],
   "source": []
  },
  {
   "cell_type": "markdown",
   "metadata": {
    "nbpresent": {
     "id": "2ee7f2ef-00d1-417b-8f13-ec1cc32c205e"
    }
   },
   "source": [
    "#### 97. Considering 2 vectors A & B, write the einsum equivalent of inner, outer, sum, and mul function (★★★) \n",
    "(**hint**: np.einsum)"
   ]
  },
  {
   "cell_type": "code",
   "execution_count": null,
   "metadata": {
    "nbpresent": {
     "id": "e32e89be-b2b0-459b-bcad-18965a0c6f18"
    }
   },
   "outputs": [],
   "source": []
  },
  {
   "cell_type": "markdown",
   "metadata": {
    "nbpresent": {
     "id": "fe8e8e0d-1922-4577-9ae8-29ece9cae6ea"
    }
   },
   "source": [
    "#### 98. Considering a path described by two vectors (X,Y), how to sample it using equidistant samples (★★★)? \n",
    "(**hint**: np.cumsum, np.interp)"
   ]
  },
  {
   "cell_type": "code",
   "execution_count": null,
   "metadata": {
    "nbpresent": {
     "id": "1b940d0f-2e00-4fd2-938f-ae08f93803d3"
    }
   },
   "outputs": [],
   "source": []
  },
  {
   "cell_type": "markdown",
   "metadata": {
    "nbpresent": {
     "id": "ca5d7673-7f7c-451f-931a-6067a4e618d1"
    }
   },
   "source": [
    "#### 99. Given an integer n and a 2D array X, select from X the rows which can be interpreted as draws from a multinomial distribution with n degrees, i.e., the rows which only contain integers and which sum to n. (★★★) \n",
    "(**hint**: np.logical\\_and.reduce, np.mod)"
   ]
  },
  {
   "cell_type": "code",
   "execution_count": null,
   "metadata": {
    "nbpresent": {
     "id": "1bf91ef8-a1f4-4d2d-9122-85d5f8f3f68e"
    }
   },
   "outputs": [],
   "source": []
  },
  {
   "cell_type": "markdown",
   "metadata": {
    "nbpresent": {
     "id": "f0b07935-20ef-4e3a-9b7a-b373c61958dd"
    }
   },
   "source": [
    "#### 100. Compute bootstrapped 95% confidence intervals for the mean of a 1D array X (i.e., resample the elements of an array with replacement N times, compute the mean of each sample, and then compute percentiles over the means). (★★★) \n",
    "(**hint**: np.percentile)"
   ]
  },
  {
   "cell_type": "code",
   "execution_count": null,
   "metadata": {
    "nbpresent": {
     "id": "01e6681c-78ff-4a4c-b5c7-558bcd79a987"
    }
   },
   "outputs": [],
   "source": []
  }
 ],
 "metadata": {
  "anaconda-cloud": {},
  "kernelspec": {
   "display_name": "Python [default]",
   "language": "python",
   "name": "python3"
  },
  "language_info": {
   "codemirror_mode": {
    "name": "ipython",
    "version": 3
   },
   "file_extension": ".py",
   "mimetype": "text/x-python",
   "name": "python",
   "nbconvert_exporter": "python",
   "pygments_lexer": "ipython3",
   "version": "3.6.4"
  }
 },
 "nbformat": 4,
 "nbformat_minor": 1
}
