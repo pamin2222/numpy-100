{
 "cells": [
  {
   "cell_type": "markdown",
   "metadata": {
    "nbpresent": {
     "id": "630044c2-4deb-410c-b735-2d63d5d7cb4b"
    }
   },
   "source": [
    "# 100 numpy exercises with hint\n",
    "\n",
    "This is a collection of exercises that have been collected in the numpy mailing list, on stack overflow and in the numpy documentation. The goal of this collection is to offer a quick reference for both old and new users but also to provide a set of exercises for those who teach.\n",
    "\n",
    "\n",
    "If you find an error or think you've a better way to solve some of them, feel free to open an issue at <https://github.com/rougier/numpy-100>"
   ]
  },
  {
   "cell_type": "markdown",
   "metadata": {
    "nbpresent": {
     "id": "146d97c8-1c5f-449a-936b-3fe1c04c5a86"
    }
   },
   "source": [
    "#### 1. Import the numpy package under the name `np` (★☆☆) \n",
    "(**hint**: import … as …)"
   ]
  },
  {
   "cell_type": "code",
   "execution_count": 1,
   "metadata": {
    "nbpresent": {
     "id": "374088f8-5a15-45af-9f1c-6076565d98f8"
    }
   },
   "outputs": [],
   "source": [
    "import numpy as np"
   ]
  },
  {
   "cell_type": "markdown",
   "metadata": {
    "nbpresent": {
     "id": "7ef58cac-8434-433d-bd8e-0ccaa4d0db0e"
    }
   },
   "source": [
    "#### 2. Print the numpy version and the configuration (★☆☆) \n",
    "(**hint**: np.\\_\\_version\\_\\_, np.show\\_config)"
   ]
  },
  {
   "cell_type": "code",
   "execution_count": 2,
   "metadata": {
    "nbpresent": {
     "id": "fd51d9ac-fa53-4277-900c-41e6beb088fe"
    }
   },
   "outputs": [
    {
     "name": "stdout",
     "output_type": "stream",
     "text": [
      "1.13.3\n",
      "blas_mkl_info:\n",
      "  NOT AVAILABLE\n",
      "blis_info:\n",
      "  NOT AVAILABLE\n",
      "openblas_info:\n",
      "    libraries = ['openblas', 'openblas']\n",
      "    library_dirs = ['/Users/rockroku/anaconda3/lib']\n",
      "    language = c\n",
      "    define_macros = [('HAVE_CBLAS', None)]\n",
      "blas_opt_info:\n",
      "    libraries = ['openblas', 'openblas']\n",
      "    library_dirs = ['/Users/rockroku/anaconda3/lib']\n",
      "    language = c\n",
      "    define_macros = [('HAVE_CBLAS', None)]\n",
      "lapack_mkl_info:\n",
      "  NOT AVAILABLE\n",
      "openblas_lapack_info:\n",
      "    libraries = ['openblas', 'openblas']\n",
      "    library_dirs = ['/Users/rockroku/anaconda3/lib']\n",
      "    language = c\n",
      "    define_macros = [('HAVE_CBLAS', None)]\n",
      "lapack_opt_info:\n",
      "    libraries = ['openblas', 'openblas']\n",
      "    library_dirs = ['/Users/rockroku/anaconda3/lib']\n",
      "    language = c\n",
      "    define_macros = [('HAVE_CBLAS', None)]\n"
     ]
    }
   ],
   "source": [
    "print(np.__version__)\n",
    "np.show_config()"
   ]
  },
  {
   "cell_type": "markdown",
   "metadata": {
    "nbpresent": {
     "id": "4d9f93d4-7523-4b49-927c-59470f868659"
    }
   },
   "source": [
    "#### 3. Create a null vector of size 10 (★☆☆) \n",
    "(**hint**: np.zeros)"
   ]
  },
  {
   "cell_type": "code",
   "execution_count": 3,
   "metadata": {
    "nbpresent": {
     "id": "cee1d70d-388c-4c48-bcd2-a5f952891941"
    }
   },
   "outputs": [
    {
     "data": {
      "text/plain": [
       "array([ 0.,  0.,  0.,  0.,  0.,  0.,  0.,  0.,  0.,  0.])"
      ]
     },
     "execution_count": 3,
     "metadata": {},
     "output_type": "execute_result"
    }
   ],
   "source": [
    "zero_3 = np.zeros(10)\n",
    "zero_3"
   ]
  },
  {
   "cell_type": "markdown",
   "metadata": {
    "nbpresent": {
     "id": "81c664d3-c62b-4a13-a9bc-d6762c18371c"
    }
   },
   "source": [
    "#### 4.  How to find the memory size of any array (★☆☆) \n",
    "(**hint**: size, itemsize)"
   ]
  },
  {
   "cell_type": "code",
   "execution_count": 4,
   "metadata": {
    "nbpresent": {
     "id": "6fab47c5-6ca3-4d37-9675-caf8cf551881"
    }
   },
   "outputs": [
    {
     "name": "stdout",
     "output_type": "stream",
     "text": [
      "10\n",
      "8\n"
     ]
    }
   ],
   "source": [
    "print(zero_3.size)\n",
    "print(zero_3.itemsize)\n"
   ]
  },
  {
   "cell_type": "markdown",
   "metadata": {
    "nbpresent": {
     "id": "22336289-83bb-4b15-bbb7-1f25f8055b6c"
    }
   },
   "source": [
    "#### 5.  How to get the documentation of the numpy add function from the command line? (★☆☆) \n",
    "(**hint**: np.info)"
   ]
  },
  {
   "cell_type": "code",
   "execution_count": 5,
   "metadata": {
    "nbpresent": {
     "id": "f1b4be16-7382-4314-94b5-427ce445eb7f"
    }
   },
   "outputs": [
    {
     "name": "stdout",
     "output_type": "stream",
     "text": [
      "add(x1, x2, /, out=None, *, where=True, casting='same_kind', order='K', dtype=None, subok=True[, signature, extobj])\n",
      "\n",
      "Add arguments element-wise.\n",
      "\n",
      "Parameters\n",
      "----------\n",
      "x1, x2 : array_like\n",
      "    The arrays to be added.  If ``x1.shape != x2.shape``, they must be\n",
      "    broadcastable to a common shape (which may be the shape of one or\n",
      "    the other).\n",
      "out : ndarray, None, or tuple of ndarray and None, optional\n",
      "    A location into which the result is stored. If provided, it must have\n",
      "    a shape that the inputs broadcast to. If not provided or `None`,\n",
      "    a freshly-allocated array is returned. A tuple (possible only as a\n",
      "    keyword argument) must have length equal to the number of outputs.\n",
      "where : array_like, optional\n",
      "    Values of True indicate to calculate the ufunc at that position, values\n",
      "    of False indicate to leave the value in the output alone.\n",
      "**kwargs\n",
      "    For other keyword-only arguments, see the\n",
      "    :ref:`ufunc docs <ufuncs.kwargs>`.\n",
      "\n",
      "Returns\n",
      "-------\n",
      "add : ndarray or scalar\n",
      "    The sum of `x1` and `x2`, element-wise.  Returns a scalar if\n",
      "    both  `x1` and `x2` are scalars.\n",
      "\n",
      "Notes\n",
      "-----\n",
      "Equivalent to `x1` + `x2` in terms of array broadcasting.\n",
      "\n",
      "Examples\n",
      "--------\n",
      ">>> np.add(1.0, 4.0)\n",
      "5.0\n",
      ">>> x1 = np.arange(9.0).reshape((3, 3))\n",
      ">>> x2 = np.arange(3.0)\n",
      ">>> np.add(x1, x2)\n",
      "array([[  0.,   2.,   4.],\n",
      "       [  3.,   5.,   7.],\n",
      "       [  6.,   8.,  10.]])\n"
     ]
    }
   ],
   "source": [
    "np.info(np.add)"
   ]
  },
  {
   "cell_type": "markdown",
   "metadata": {
    "nbpresent": {
     "id": "33bdcc3b-1d75-4782-a5d6-b9d9aae4c330"
    }
   },
   "source": [
    "#### 6.  Create a null vector of size 10 but the fifth value which is 1 (★☆☆) \n",
    "(**hint**: array\\[4\\])"
   ]
  },
  {
   "cell_type": "code",
   "execution_count": 6,
   "metadata": {
    "nbpresent": {
     "id": "1476cd56-04a4-4504-9710-02f6f5426300"
    }
   },
   "outputs": [
    {
     "data": {
      "text/plain": [
       "array([ 0.,  0.,  0.,  0.,  1.,  0.,  0.,  0.,  0.,  0.])"
      ]
     },
     "execution_count": 6,
     "metadata": {},
     "output_type": "execute_result"
    }
   ],
   "source": [
    "temp6 = np.zeros(10)\n",
    "temp6[4] = 1\n",
    "temp6"
   ]
  },
  {
   "cell_type": "markdown",
   "metadata": {
    "nbpresent": {
     "id": "c851a2fa-dcdc-471a-a0aa-5bbe9794881e"
    }
   },
   "source": [
    "#### 7.  Create a vector with values ranging from 10 to 49 (★☆☆) \n",
    "(**hint**: np.arange)"
   ]
  },
  {
   "cell_type": "code",
   "execution_count": 7,
   "metadata": {
    "nbpresent": {
     "id": "3370e320-81e2-4f54-afb6-4a7b8e1afb47"
    }
   },
   "outputs": [],
   "source": [
    "temp7 = np.arange(10, 49)"
   ]
  },
  {
   "cell_type": "markdown",
   "metadata": {
    "nbpresent": {
     "id": "de748085-2b02-4028-82f3-ae9bbfdc66f3"
    }
   },
   "source": [
    "#### 8.  Reverse a vector (first element becomes last) (★☆☆) \n",
    "(**hint**: array\\[::-1\\])"
   ]
  },
  {
   "cell_type": "code",
   "execution_count": 8,
   "metadata": {
    "nbpresent": {
     "id": "058320b7-f7c3-462d-b1f2-55d864e92dad"
    }
   },
   "outputs": [
    {
     "data": {
      "text/plain": [
       "array([48, 47, 46, 45, 44, 43, 42, 41, 40, 39, 38, 37, 36, 35, 34, 33, 32,\n",
       "       31, 30, 29, 28, 27, 26, 25, 24, 23, 22, 21, 20, 19, 18, 17, 16, 15,\n",
       "       14, 13, 12, 11, 10])"
      ]
     },
     "execution_count": 8,
     "metadata": {},
     "output_type": "execute_result"
    }
   ],
   "source": [
    "temp7[::-1]"
   ]
  },
  {
   "cell_type": "markdown",
   "metadata": {
    "nbpresent": {
     "id": "1da2ca1e-fd94-4126-bcf8-ab650d3ec8ca"
    }
   },
   "source": [
    "#### 9.  Create a 3x3 matrix with values ranging from 0 to 8 (★☆☆) \n",
    "(**hint**: reshape)"
   ]
  },
  {
   "cell_type": "code",
   "execution_count": 9,
   "metadata": {
    "nbpresent": {
     "id": "c6c51dbc-16e1-4940-8e21-4c9152a23c51"
    }
   },
   "outputs": [
    {
     "data": {
      "text/plain": [
       "array([[0, 1, 2],\n",
       "       [3, 4, 5],\n",
       "       [6, 7, 8]])"
      ]
     },
     "execution_count": 9,
     "metadata": {},
     "output_type": "execute_result"
    }
   ],
   "source": [
    "temp9 = np.arange(0, 9)\n",
    "temp9.reshape(3, 3)"
   ]
  },
  {
   "cell_type": "markdown",
   "metadata": {
    "nbpresent": {
     "id": "63097ac5-b3b5-4830-a1a4-52a080991b4d"
    }
   },
   "source": [
    "#### 10. Find indices of non-zero elements from \\[1,2,0,0,4,0\\] (★☆☆) \n",
    "(**hint**: np.nonzero)"
   ]
  },
  {
   "cell_type": "code",
   "execution_count": 10,
   "metadata": {
    "nbpresent": {
     "id": "5489465f-0e47-4d5b-ad26-e3373cd9feb2"
    }
   },
   "outputs": [
    {
     "data": {
      "text/plain": [
       "(array([0, 1, 4]),)"
      ]
     },
     "execution_count": 10,
     "metadata": {},
     "output_type": "execute_result"
    }
   ],
   "source": [
    "temp10 = np.array([1,2,0,0,4,0])\n",
    "np.nonzero(temp10)"
   ]
  },
  {
   "cell_type": "markdown",
   "metadata": {
    "nbpresent": {
     "id": "c023062a-69b0-4d4d-a40b-6fff34a85d2d"
    }
   },
   "source": [
    "#### 11. Create a 3x3 identity matrix (★☆☆) \n",
    "(**hint**: np.eye)"
   ]
  },
  {
   "cell_type": "code",
   "execution_count": 11,
   "metadata": {
    "nbpresent": {
     "id": "5d5d2881-61a0-4c2c-8a46-e03efd6166d6"
    }
   },
   "outputs": [
    {
     "data": {
      "text/plain": [
       "array([[ 1.,  0.,  0.],\n",
       "       [ 0.,  1.,  0.],\n",
       "       [ 0.,  0.,  1.]])"
      ]
     },
     "execution_count": 11,
     "metadata": {},
     "output_type": "execute_result"
    }
   ],
   "source": [
    "np.eye(3,3)"
   ]
  },
  {
   "cell_type": "markdown",
   "metadata": {
    "nbpresent": {
     "id": "964f5663-f8ef-4425-a427-71908bb69793"
    }
   },
   "source": [
    "#### 12. Create a 3x3x3 array with random values (★☆☆) \n",
    "(**hint**: np.random.random)"
   ]
  },
  {
   "cell_type": "code",
   "execution_count": 12,
   "metadata": {
    "nbpresent": {
     "id": "5de83c45-59dd-4d3d-9565-71ddbaf92062"
    }
   },
   "outputs": [
    {
     "data": {
      "text/plain": [
       "array([[[ 0.97349026,  0.52962013,  0.70474308],\n",
       "        [ 0.63371578,  0.90098842,  0.39802017],\n",
       "        [ 0.07195107,  0.41234041,  0.04742721]],\n",
       "\n",
       "       [[ 0.83126386,  0.16023856,  0.80228196],\n",
       "        [ 0.71660188,  0.71597723,  0.51312368],\n",
       "        [ 0.72456989,  0.03453036,  0.0043272 ]],\n",
       "\n",
       "       [[ 0.671422  ,  0.48677818,  0.50884465],\n",
       "        [ 0.1367918 ,  0.11094982,  0.61534193],\n",
       "        [ 0.7928646 ,  0.40367464,  0.5825845 ]]])"
      ]
     },
     "execution_count": 12,
     "metadata": {},
     "output_type": "execute_result"
    }
   ],
   "source": [
    "np.random.random((3, 3, 3))"
   ]
  },
  {
   "cell_type": "markdown",
   "metadata": {
    "nbpresent": {
     "id": "70413773-791e-4995-b555-9a2e751688f4"
    }
   },
   "source": [
    "#### 13. Create a 10x10 array with random values and find the minimum and maximum values (★☆☆) \n",
    "(**hint**: min, max)"
   ]
  },
  {
   "cell_type": "code",
   "execution_count": 13,
   "metadata": {
    "nbpresent": {
     "id": "615a69df-31a5-42f2-8227-c2da355ab9ec"
    }
   },
   "outputs": [
    {
     "name": "stdout",
     "output_type": "stream",
     "text": [
      "[[ 0.08275295  0.04282658  0.13107127  0.3790396   0.33976648  0.85416842\n",
      "   0.62858162  0.091297    0.39343678  0.95300409]\n",
      " [ 0.59512028  0.45523136  0.10733093  0.97921883  0.46253495  0.81788541\n",
      "   0.37908762  0.93101783  0.93399721  0.44492699]\n",
      " [ 0.47542418  0.32711511  0.0773309   0.69366672  0.99262315  0.89094402\n",
      "   0.44598499  0.19913746  0.60223572  0.71983857]\n",
      " [ 0.39602586  0.2526413   0.75590717  0.05255363  0.15271838  0.44843555\n",
      "   0.32834392  0.28341129  0.93375284  0.71609848]\n",
      " [ 0.17327154  0.3914362   0.8568538   0.14995122  0.85305415  0.45161438\n",
      "   0.53592759  0.21151697  0.59193011  0.68599655]\n",
      " [ 0.91596023  0.3404594   0.59014159  0.21978154  0.45765148  0.04732116\n",
      "   0.65070451  0.77073172  0.36040533  0.06683626]\n",
      " [ 0.09023073  0.49962317  0.37229784  0.37624315  0.78077977  0.4867122\n",
      "   0.41110392  0.24503754  0.19557942  0.70214885]\n",
      " [ 0.6353833   0.41587204  0.18027381  0.00960444  0.94933805  0.73668572\n",
      "   0.51374975  0.38020494  0.84321141  0.80692057]\n",
      " [ 0.09988304  0.01160995  0.47497882  0.0904818   0.52099035  0.84104699\n",
      "   0.14491911  0.44202088  0.75310181  0.56127681]\n",
      " [ 0.4431493   0.46372917  0.02365089  0.40785407  0.58895497  0.51644502\n",
      "   0.62944793  0.05586759  0.49642038  0.66800186]]\n",
      "min: 0.00960443518771\n",
      "max: 0.99262314685\n"
     ]
    }
   ],
   "source": [
    "temp13 = np.random.random((10, 10))\n",
    "print(temp13)\n",
    "print(\"min:\", np.min(temp13))\n",
    "print(\"max:\", np.max(temp13))"
   ]
  },
  {
   "cell_type": "markdown",
   "metadata": {
    "nbpresent": {
     "id": "a0b7626b-2e7d-40f9-b89d-1f4e40552a99"
    }
   },
   "source": [
    "#### 14. Create a random vector of size 30 and find the mean value (★☆☆) \n",
    "(**hint**: mean)"
   ]
  },
  {
   "cell_type": "code",
   "execution_count": 14,
   "metadata": {
    "nbpresent": {
     "id": "0109ae6d-ad58-473c-a99e-201383b227ee"
    }
   },
   "outputs": [
    {
     "name": "stdout",
     "output_type": "stream",
     "text": [
      "[ 0.70617973  0.01893994  0.28901777  0.23352351  0.8919495   0.74248712\n",
      "  0.06507594  0.30253744  0.63502344  0.61596425  0.8065826   0.26478134\n",
      "  0.2152681   0.84647931  0.39465627  0.58417437  0.91369157  0.82242823\n",
      "  0.36253331  0.730335    0.6394106   0.28327641  0.53813548  0.07394807\n",
      "  0.64835261  0.33961361  0.55172403  0.44410957  0.38053866  0.84619324]\n",
      "mean: 0.506231033547\n"
     ]
    }
   ],
   "source": [
    "temp14 = np.random.random((30))\n",
    "print(temp14)\n",
    "print(\"mean:\", np.mean(temp14))"
   ]
  },
  {
   "cell_type": "markdown",
   "metadata": {
    "nbpresent": {
     "id": "db4c335f-d198-4bb0-8bd1-06c69acf4d84"
    }
   },
   "source": [
    "#### 15. Create a 2d array with 1 on the border and 0 inside (★☆☆) \n",
    "(**hint**: array\\[1:-1, 1:-1\\])"
   ]
  },
  {
   "cell_type": "code",
   "execution_count": 15,
   "metadata": {
    "nbpresent": {
     "id": "672c138a-875e-486c-ba6c-2bf05a2da511"
    }
   },
   "outputs": [
    {
     "data": {
      "text/plain": [
       "array([[ 1.,  1.,  1.,  1.,  1.],\n",
       "       [ 1.,  0.,  0.,  0.,  1.],\n",
       "       [ 1.,  0.,  0.,  0.,  1.],\n",
       "       [ 1.,  0.,  0.,  0.,  1.],\n",
       "       [ 1.,  1.,  1.,  1.,  1.]])"
      ]
     },
     "execution_count": 15,
     "metadata": {},
     "output_type": "execute_result"
    }
   ],
   "source": [
    "temp15 = np.ones((5, 5))\n",
    "temp15[1:-1, 1:-1] = 0\n",
    "temp15"
   ]
  },
  {
   "cell_type": "markdown",
   "metadata": {
    "nbpresent": {
     "id": "3bfcfbbf-5037-4cab-abd7-01280e000818"
    }
   },
   "source": [
    "#### 16. How to add a border (filled with 0's) around an existing array? (★☆☆) \n",
    "(**hint**: np.pad)"
   ]
  },
  {
   "cell_type": "code",
   "execution_count": 16,
   "metadata": {
    "nbpresent": {
     "id": "016e1d61-528e-4ed8-8f30-112d7999556e"
    }
   },
   "outputs": [
    {
     "name": "stdout",
     "output_type": "stream",
     "text": [
      "[[ 1.  1.  1.  1.  1.]\n",
      " [ 1.  1.  1.  1.  1.]\n",
      " [ 1.  1.  1.  1.  1.]\n",
      " [ 1.  1.  1.  1.  1.]\n",
      " [ 1.  1.  1.  1.  1.]]\n",
      "[[ 0.  0.  0.  0.  0.  0.  0.]\n",
      " [ 0.  1.  1.  1.  1.  1.  0.]\n",
      " [ 0.  1.  1.  1.  1.  1.  0.]\n",
      " [ 0.  1.  1.  1.  1.  1.  0.]\n",
      " [ 0.  1.  1.  1.  1.  1.  0.]\n",
      " [ 0.  1.  1.  1.  1.  1.  0.]\n",
      " [ 0.  0.  0.  0.  0.  0.  0.]]\n"
     ]
    }
   ],
   "source": [
    "temp16 = np.ones((5, 5))\n",
    "print(temp16)\n",
    "print(np.pad(temp16, 1, mode='constant'))"
   ]
  },
  {
   "cell_type": "markdown",
   "metadata": {
    "nbpresent": {
     "id": "def22c24-4f8c-4813-af5d-204529fd352d"
    }
   },
   "source": [
    "#### 17. What is the result of the following expression? (★☆☆) \n",
    "(**hint**: NaN = not a number, inf = infinity)"
   ]
  },
  {
   "cell_type": "markdown",
   "metadata": {
    "nbpresent": {
     "id": "98dc3808-fd6d-444c-a93d-6ffac1499eea"
    }
   },
   "source": [
    "```python\n",
    "0 * np.nan\n",
    "np.nan == np.nan\n",
    "np.inf > np.nan\n",
    "np.nan - np.nan\n",
    "0.3 == 3 * 0.1\n",
    "```"
   ]
  },
  {
   "cell_type": "code",
   "execution_count": 17,
   "metadata": {
    "nbpresent": {
     "id": "bdb29ed8-0b61-477d-aae1-a0a607a845c7"
    }
   },
   "outputs": [
    {
     "name": "stdout",
     "output_type": "stream",
     "text": [
      "nan\n",
      "False\n",
      "False\n",
      "False\n",
      "nan\n",
      "False\n"
     ]
    }
   ],
   "source": [
    "print(0 * np.nan)\n",
    "print(np.nan == np.nan)\n",
    "print(np.inf == np.nan)\n",
    "print(np.inf > np.nan)\n",
    "print(np.nan - np.nan)\n",
    "print(0.3 == 3 * 0.1)"
   ]
  },
  {
   "cell_type": "code",
   "execution_count": 18,
   "metadata": {
    "nbpresent": {
     "id": "cc43cb35-cc58-47cc-b155-47eb0008a431"
    }
   },
   "outputs": [
    {
     "data": {
      "text/plain": [
       "0.30000000000000004"
      ]
     },
     "execution_count": 18,
     "metadata": {},
     "output_type": "execute_result"
    }
   ],
   "source": [
    "3*0.1"
   ]
  },
  {
   "cell_type": "markdown",
   "metadata": {
    "nbpresent": {
     "id": "8901842d-2096-4f9e-8ad9-186371700e3a"
    }
   },
   "source": [
    "#### 18. Create a 5x5 matrix with values 1,2,3,4 just below the diagonal (★☆☆) \n",
    "(**hint**: np.diag)"
   ]
  },
  {
   "cell_type": "code",
   "execution_count": 19,
   "metadata": {
    "nbpresent": {
     "id": "4e10bad5-7d02-413a-b2d0-84944ae747f2"
    }
   },
   "outputs": [
    {
     "name": "stdout",
     "output_type": "stream",
     "text": [
      "[[0 0 0 0 0]\n",
      " [1 0 0 0 0]\n",
      " [0 2 0 0 0]\n",
      " [0 0 3 0 0]\n",
      " [0 0 0 4 0]]\n"
     ]
    }
   ],
   "source": [
    "temp18 = np.diag([1,2,3,4], k=-1)\n",
    "print(temp18)"
   ]
  },
  {
   "cell_type": "markdown",
   "metadata": {
    "nbpresent": {
     "id": "31d1b9ca-acff-46e6-9857-d3efda7e19ac"
    }
   },
   "source": [
    "#### 19. Create a 8x8 matrix and fill it with a checkerboard pattern (★☆☆) \n",
    "(**hint**: array\\[::2\\])"
   ]
  },
  {
   "cell_type": "code",
   "execution_count": 20,
   "metadata": {
    "nbpresent": {
     "id": "8c47d675-f920-46a2-91a0-30a0a3dc9b8b"
    }
   },
   "outputs": [
    {
     "name": "stdout",
     "output_type": "stream",
     "text": [
      "[[ 0.  0.  0.  0.  0.  0.  0.  0.]\n",
      " [ 0.  0.  0.  0.  0.  0.  0.  0.]\n",
      " [ 0.  0.  0.  0.  0.  0.  0.  0.]\n",
      " [ 0.  0.  0.  0.  0.  0.  0.  0.]\n",
      " [ 0.  0.  0.  0.  0.  0.  0.  0.]\n",
      " [ 0.  0.  0.  0.  0.  0.  0.  0.]\n",
      " [ 0.  0.  0.  0.  0.  0.  0.  0.]\n",
      " [ 0.  0.  0.  0.  0.  0.  0.  0.]]\n",
      "\n",
      "[[ 0.  0.  0.  0.  0.  0.  0.  0.]\n",
      " [ 1.  0.  1.  0.  1.  0.  1.  0.]\n",
      " [ 0.  0.  0.  0.  0.  0.  0.  0.]\n",
      " [ 1.  0.  1.  0.  1.  0.  1.  0.]\n",
      " [ 0.  0.  0.  0.  0.  0.  0.  0.]\n",
      " [ 1.  0.  1.  0.  1.  0.  1.  0.]\n",
      " [ 0.  0.  0.  0.  0.  0.  0.  0.]\n",
      " [ 1.  0.  1.  0.  1.  0.  1.  0.]]\n",
      "\n",
      "[[ 0.  1.  0.  1.  0.  1.  0.  1.]\n",
      " [ 1.  0.  1.  0.  1.  0.  1.  0.]\n",
      " [ 0.  1.  0.  1.  0.  1.  0.  1.]\n",
      " [ 1.  0.  1.  0.  1.  0.  1.  0.]\n",
      " [ 0.  1.  0.  1.  0.  1.  0.  1.]\n",
      " [ 1.  0.  1.  0.  1.  0.  1.  0.]\n",
      " [ 0.  1.  0.  1.  0.  1.  0.  1.]\n",
      " [ 1.  0.  1.  0.  1.  0.  1.  0.]]\n"
     ]
    }
   ],
   "source": [
    "temp19 = np.zeros((8,8))\n",
    "print(temp19, end=\"\\n\\n\")\n",
    "temp19[1::2,::2] = 1\n",
    "print(temp19, end=\"\\n\\n\")\n",
    "temp19[::2,1::2] = 1\n",
    "print(temp19)"
   ]
  },
  {
   "cell_type": "markdown",
   "metadata": {
    "nbpresent": {
     "id": "1b3b009b-8175-4b60-947f-ef41b59661c2"
    }
   },
   "source": [
    "#### 20. Consider a (6,7,8) shape array, what is the index (x,y,z) of the 100th element? \n",
    "(**hint**: np.unravel_index)"
   ]
  },
  {
   "cell_type": "code",
   "execution_count": 21,
   "metadata": {
    "nbpresent": {
     "id": "c2727cf5-49f7-4382-90b8-de1006037b1a"
    }
   },
   "outputs": [
    {
     "data": {
      "text/plain": [
       "(1, 5, 4)"
      ]
     },
     "execution_count": 21,
     "metadata": {},
     "output_type": "execute_result"
    }
   ],
   "source": [
    "np.unravel_index(100,(6,7,8))"
   ]
  },
  {
   "cell_type": "markdown",
   "metadata": {
    "nbpresent": {
     "id": "7b9f7d3c-0734-47fb-bb8a-cbc37c0d36d8"
    }
   },
   "source": [
    "#### 21. Create a checkerboard 8x8 matrix using the tile function (★☆☆) \n",
    "(**hint**: np.tile)"
   ]
  },
  {
   "cell_type": "code",
   "execution_count": 22,
   "metadata": {
    "nbpresent": {
     "id": "c2c6cfcb-27be-4219-87f5-edf045a1d941"
    }
   },
   "outputs": [
    {
     "data": {
      "text/plain": [
       "array([[0, 1, 0, 1, 0, 1, 0, 1],\n",
       "       [1, 0, 1, 0, 1, 0, 1, 0],\n",
       "       [0, 1, 0, 1, 0, 1, 0, 1],\n",
       "       [1, 0, 1, 0, 1, 0, 1, 0],\n",
       "       [0, 1, 0, 1, 0, 1, 0, 1],\n",
       "       [1, 0, 1, 0, 1, 0, 1, 0],\n",
       "       [0, 1, 0, 1, 0, 1, 0, 1],\n",
       "       [1, 0, 1, 0, 1, 0, 1, 0]])"
      ]
     },
     "execution_count": 22,
     "metadata": {},
     "output_type": "execute_result"
    }
   ],
   "source": [
    "np.tile(np.array([[0,1],[1,0]]), (4,4))"
   ]
  },
  {
   "cell_type": "markdown",
   "metadata": {
    "nbpresent": {
     "id": "f5b42f00-c100-4796-b50f-2f35075ffcda"
    }
   },
   "source": [
    "#### 22. Normalize a 5x5 random matrix (★☆☆) \n",
    "(**hint**: (x - min) / (max - min))"
   ]
  },
  {
   "cell_type": "code",
   "execution_count": 23,
   "metadata": {
    "nbpresent": {
     "id": "156c4723-747a-474d-939b-80467e41a013"
    }
   },
   "outputs": [
    {
     "name": "stdout",
     "output_type": "stream",
     "text": [
      "[[  9.1950936    1.46860735  67.99319871  86.23661923  19.01071732]\n",
      " [ 82.32502722  14.5171705   85.91392288  59.05847299  34.37172914]\n",
      " [ 74.95776123  65.7705762   67.81890083  12.62027761  45.80654765]\n",
      " [ 47.04180472  28.55239565   6.44599266  64.03027242  61.74691379]\n",
      " [ 86.09809544  77.67314052  19.23758734  13.07565033  45.69358703]]\n"
     ]
    },
    {
     "data": {
      "text/plain": [
       "array([[ 0.09114861,  0.        ,  0.78478414,  1.        ,  0.20694257],\n",
       "       [ 0.95385533,  0.15393263,  0.99619318,  0.67938205,  0.38815493],\n",
       "       [ 0.86694441,  0.75856408,  0.78272797,  0.13155517,  0.52305037],\n",
       "       [ 0.53762258,  0.31950482,  0.05871773,  0.73803388,  0.71109732],\n",
       "       [ 0.99836585,  0.89897747,  0.20961893,  0.13692716,  0.52171779]])"
      ]
     },
     "execution_count": 23,
     "metadata": {},
     "output_type": "execute_result"
    }
   ],
   "source": [
    "temp22 = np.random.random((5,5)) * 100\n",
    "print(temp22)\n",
    "temp22_min = temp22.min()\n",
    "temp22_max = temp22.max()\n",
    "temp22_normal = (temp22-temp22_min) / (temp22_max-temp22_min)\n",
    "temp22_normal"
   ]
  },
  {
   "cell_type": "markdown",
   "metadata": {
    "nbpresent": {
     "id": "49ecc87c-b82d-4ede-a8c2-8c562a2e0d1a"
    }
   },
   "source": [
    "#### 23. Create a custom dtype that describes a color as four unsigned bytes (RGBA) (★☆☆) \n",
    "(**hint**: np.dtype)"
   ]
  },
  {
   "cell_type": "code",
   "execution_count": 24,
   "metadata": {
    "nbpresent": {
     "id": "6d26fd48-42e3-4c80-ad25-47c9f7f66b2d"
    }
   },
   "outputs": [
    {
     "data": {
      "text/plain": [
       "dtype([('r', 'u1'), ('g', 'u1'), ('b', 'u1'), ('a', 'u1')])"
      ]
     },
     "execution_count": 24,
     "metadata": {},
     "output_type": "execute_result"
    }
   ],
   "source": [
    "color = np.dtype([(\"r\", np.ubyte, 1),\n",
    "                  (\"g\", np.ubyte, 1),\n",
    "                  (\"b\", np.ubyte, 1),\n",
    "                  (\"a\", np.ubyte, 1)])\n",
    "color"
   ]
  },
  {
   "cell_type": "markdown",
   "metadata": {
    "nbpresent": {
     "id": "53d9d927-e4c5-4f14-9e1f-fd81f1a24d44"
    }
   },
   "source": [
    "#### 24. Multiply a 5x3 matrix by a 3x2 matrix (real matrix product) (★☆☆) \n",
    "(**hint**: np.dot | @)"
   ]
  },
  {
   "cell_type": "code",
   "execution_count": 25,
   "metadata": {
    "nbpresent": {
     "id": "1edf4d34-63d5-46b7-9559-bab032d61958"
    }
   },
   "outputs": [
    {
     "name": "stdout",
     "output_type": "stream",
     "text": [
      "[[ 1.98645725  2.85138989  4.76230366]\n",
      " [ 1.82956941  7.05140163  7.46702223]\n",
      " [ 5.49632033  5.77951532  2.51115163]\n",
      " [ 8.90952718  8.82923788  5.66192683]\n",
      " [ 8.82674038  6.13289313  7.93353783]]\n",
      "\n",
      "[[ 7.59720802  0.04350452]\n",
      " [ 7.70014523  9.09060335]\n",
      " [ 0.89802893  6.36719144]]\n",
      "\n",
      "[[  41.32433169   56.32977344]\n",
      " [  74.902038    111.72504986]\n",
      " [  88.51488302   68.76737929]\n",
      " [ 140.7585194   116.70127617]\n",
      " [ 121.40729708  106.6500561 ]]\n",
      "\n"
     ]
    }
   ],
   "source": [
    "temp24_1 = np.random.random((5, 3)) * 10\n",
    "print(temp24_1, end=\"\\n\\n\")\n",
    "temp24_2 = np.random.random((3, 2)) * 10\n",
    "print(temp24_2, end=\"\\n\\n\")\n",
    "temp24_3 = np.dot(temp24_1, temp24_2)\n",
    "print(temp24_3, end=\"\\n\\n\")\n"
   ]
  },
  {
   "cell_type": "markdown",
   "metadata": {
    "nbpresent": {
     "id": "cf26d135-2ef3-4388-9e69-5c0e3e5b3715"
    }
   },
   "source": [
    "#### 25. Given a 1D array, negate all elements which are between 3 and 8, in place. (★☆☆) \n",
    "(**hint**: >, <=)"
   ]
  },
  {
   "cell_type": "code",
   "execution_count": 26,
   "metadata": {
    "nbpresent": {
     "id": "d17d6f6a-0727-45ef-a8d6-813d9f0cec72"
    }
   },
   "outputs": [
    {
     "data": {
      "text/plain": [
       "array([ 3, -4, -5, -6, -7, -8])"
      ]
     },
     "execution_count": 26,
     "metadata": {},
     "output_type": "execute_result"
    }
   ],
   "source": [
    "temp25 = np.arange(3, 9)\n",
    "temp25[(3 < temp25) & (temp25 <= 8)] *= -1\n",
    "temp25"
   ]
  },
  {
   "cell_type": "markdown",
   "metadata": {
    "nbpresent": {
     "id": "89d2b7cc-2efb-4fd6-aafe-190fe809b5d1"
    }
   },
   "source": [
    "#### 26. What is the output of the following script? (★☆☆) \n",
    "(**hint**: np.sum)"
   ]
  },
  {
   "cell_type": "markdown",
   "metadata": {
    "nbpresent": {
     "id": "d9abd3d3-f34b-44af-b83d-8f610f562939"
    }
   },
   "source": [
    "```python\n",
    "# Author: Jake VanderPlas\n",
    "\n",
    "print(sum(range(5),-1))\n",
    "from numpy import *\n",
    "print(sum(range(5),-1))\n",
    "```"
   ]
  },
  {
   "cell_type": "code",
   "execution_count": 27,
   "metadata": {
    "nbpresent": {
     "id": "ba5600f5-8106-4cc5-88f3-8fc039f198e3"
    }
   },
   "outputs": [
    {
     "name": "stdout",
     "output_type": "stream",
     "text": [
      "9\n",
      "10\n"
     ]
    }
   ],
   "source": [
    "print(sum(range(5), -1))\n",
    "from numpy import *\n",
    "print(sum(range(5), -1))"
   ]
  },
  {
   "cell_type": "markdown",
   "metadata": {
    "nbpresent": {
     "id": "f685c500-ea13-4337-a355-5117c518f354"
    }
   },
   "source": [
    "#### 27. Consider an integer vector Z, which of these expressions are legal? (★☆☆)"
   ]
  },
  {
   "cell_type": "markdown",
   "metadata": {
    "nbpresent": {
     "id": "a7bba9bd-9e0a-4eb7-9149-029ddd890573"
    }
   },
   "source": [
    "```python\n",
    "Z**Z\n",
    "2 << Z >> 2\n",
    "Z <- Z\n",
    "1j*Z\n",
    "Z/1/1\n",
    "Z<Z>Z\n",
    "```"
   ]
  },
  {
   "cell_type": "code",
   "execution_count": 28,
   "metadata": {
    "nbpresent": {
     "id": "494b5430-8d80-4ec2-b828-88c5dbd3335c"
    }
   },
   "outputs": [
    {
     "data": {
      "text/plain": [
       "array([ 0.,  1.,  2.,  3.,  4.,  5.,  6.,  7.])"
      ]
     },
     "execution_count": 28,
     "metadata": {},
     "output_type": "execute_result"
    }
   ],
   "source": [
    "Z = arange(8)\n",
    "Z**Z\n",
    "2 << Z >> 2\n",
    "Z <- Z\n",
    "1j*Z\n",
    "Z/1/1\n",
    "#Z<Z>Z"
   ]
  },
  {
   "cell_type": "markdown",
   "metadata": {
    "nbpresent": {
     "id": "b7149f10-d28c-46c9-8cb6-6f362737219b"
    }
   },
   "source": [
    "#### 28. What are the result of the following expressions?"
   ]
  },
  {
   "cell_type": "markdown",
   "metadata": {
    "nbpresent": {
     "id": "9c78fd00-7dc3-413b-8074-feb84b09f9e5"
    }
   },
   "source": [
    "```python\n",
    "np.array(0) / np.array(0)\n",
    "np.array(0) // np.array(0)\n",
    "np.array([np.nan]).astype(int).astype(float)\n",
    "```"
   ]
  },
  {
   "cell_type": "code",
   "execution_count": 29,
   "metadata": {
    "nbpresent": {
     "id": "a0b7e29d-c75e-4ed1-b6fb-0a9950a3bbc2"
    }
   },
   "outputs": [
    {
     "name": "stdout",
     "output_type": "stream",
     "text": [
      "nan\n",
      "0\n",
      "[-9223372036854775808]\n",
      "[ -9.22337204e+18]\n"
     ]
    },
    {
     "name": "stderr",
     "output_type": "stream",
     "text": [
      "/Users/rockroku/anaconda3/lib/python3.6/site-packages/ipykernel/__main__.py:1: RuntimeWarning: invalid value encountered in true_divide\n",
      "  if __name__ == '__main__':\n",
      "/Users/rockroku/anaconda3/lib/python3.6/site-packages/ipykernel/__main__.py:2: RuntimeWarning: divide by zero encountered in floor_divide\n",
      "  from ipykernel import kernelapp as app\n"
     ]
    }
   ],
   "source": [
    "print(np.array(0) / np.array(0))\n",
    "print(np.array(0) // np.array(0))\n",
    "print(np.array([np.nan]).astype(int))\n",
    "print(np.array([np.nan]).astype(int).astype(float))"
   ]
  },
  {
   "cell_type": "markdown",
   "metadata": {
    "nbpresent": {
     "id": "63b537c1-7813-44e0-9036-03c88bd1bc01"
    }
   },
   "source": [
    "#### 29. How to round away from zero a float array ? (★☆☆) \n",
    "(**hint**: np.uniform, np.copysign, np.ceil, np.abs)"
   ]
  },
  {
   "cell_type": "code",
   "execution_count": 30,
   "metadata": {
    "nbpresent": {
     "id": "14e9cd41-d3c7-4081-bd52-1d164e6cfa03"
    }
   },
   "outputs": [
    {
     "name": "stdout",
     "output_type": "stream",
     "text": [
      "[-2.9200098   6.45859588  1.68303827  5.52166185 -7.73750846  2.35477826\n",
      "  2.71544354  6.26514905 -1.49285587 -1.4636398 ]\n",
      "\n",
      "[-2.  6.  1.  5. -7.  2.  2.  6. -1. -1.]\n"
     ]
    }
   ],
   "source": [
    "temp29 = np.random.uniform(-10,+10,10)\n",
    "print(temp29, end=\"\\n\\n\")\n",
    "temp29 = np.copysign(np.floor(np.abs(temp29)), temp29)\n",
    "print(temp29)"
   ]
  },
  {
   "cell_type": "markdown",
   "metadata": {
    "nbpresent": {
     "id": "02b6f578-7bb4-4aa0-8803-a58d6708fd39"
    }
   },
   "source": [
    "#### 30. How to find common values between two arrays? (★☆☆) \n",
    "(**hint**: np.intersect1d)"
   ]
  },
  {
   "cell_type": "code",
   "execution_count": 31,
   "metadata": {
    "nbpresent": {
     "id": "6c2645d0-f639-4325-9238-dc003e39d8a5"
    }
   },
   "outputs": [],
   "source": [
    "temp30_1 = np.arange(1, 5)\n",
    "temp30_2 = np.arange(3, 6)"
   ]
  },
  {
   "cell_type": "code",
   "execution_count": 32,
   "metadata": {
    "nbpresent": {
     "id": "115f6b92-b3e6-4d10-bbfb-00ece75db759"
    }
   },
   "outputs": [
    {
     "name": "stdout",
     "output_type": "stream",
     "text": [
      "CPU times: user 4 µs, sys: 1 µs, total: 5 µs\n",
      "Wall time: 29.8 µs\n",
      "[3 4]\n"
     ]
    }
   ],
   "source": [
    "%time\n",
    "print(np.intersect1d(temp30_1, temp30_2))"
   ]
  },
  {
   "cell_type": "code",
   "execution_count": 33,
   "metadata": {
    "nbpresent": {
     "id": "5d6cd059-393e-46db-af6f-ce7e9cdd5d2c"
    }
   },
   "outputs": [
    {
     "name": "stdout",
     "output_type": "stream",
     "text": [
      "CPU times: user 3 µs, sys: 1 µs, total: 4 µs\n",
      "Wall time: 10.3 µs\n",
      "{3, 4}\n"
     ]
    }
   ],
   "source": [
    "%time\n",
    "print(set(temp30_1) & set(temp30_2))"
   ]
  },
  {
   "cell_type": "markdown",
   "metadata": {
    "nbpresent": {
     "id": "59a33462-7b5e-4a4c-8403-2f78253389fb"
    }
   },
   "source": [
    "#### 31. How to ignore all numpy warnings (not recommended)? (★☆☆) \n",
    "(**hint**: np.seterr, np.errstate)"
   ]
  },
  {
   "cell_type": "code",
   "execution_count": 34,
   "metadata": {
    "nbpresent": {
     "id": "03d3b51e-5f1f-4ffb-abb0-fcc2200b027e"
    }
   },
   "outputs": [
    {
     "name": "stderr",
     "output_type": "stream",
     "text": [
      "/Users/rockroku/anaconda3/lib/python3.6/site-packages/ipykernel/__main__.py:1: RuntimeWarning: overflow encountered in short_scalars\n",
      "  if __name__ == '__main__':\n"
     ]
    },
    {
     "data": {
      "text/plain": [
       "30464"
      ]
     },
     "execution_count": 34,
     "metadata": {},
     "output_type": "execute_result"
    }
   ],
   "source": [
    "np.int16(32000) * np.int16(3)"
   ]
  },
  {
   "cell_type": "code",
   "execution_count": 35,
   "metadata": {
    "nbpresent": {
     "id": "1479f9ed-7573-426d-aea0-1bd1880374d5"
    }
   },
   "outputs": [
    {
     "data": {
      "text/plain": [
       "{'divide': 'warn', 'invalid': 'warn', 'over': 'warn', 'under': 'ignore'}"
      ]
     },
     "execution_count": 35,
     "metadata": {},
     "output_type": "execute_result"
    }
   ],
   "source": [
    "default_setting = np.seterr()\n",
    "default_setting"
   ]
  },
  {
   "cell_type": "code",
   "execution_count": 36,
   "metadata": {
    "nbpresent": {
     "id": "2d42769c-8cfb-4c75-85fc-2fbfea2863f1"
    }
   },
   "outputs": [
    {
     "data": {
      "text/plain": [
       "{'divide': 'warn', 'invalid': 'warn', 'over': 'warn', 'under': 'ignore'}"
      ]
     },
     "execution_count": 36,
     "metadata": {},
     "output_type": "execute_result"
    }
   ],
   "source": [
    "old_settings = np.seterr(all='ignore')\n",
    "old_settings"
   ]
  },
  {
   "cell_type": "code",
   "execution_count": 37,
   "metadata": {
    "nbpresent": {
     "id": "98dc1224-4fcb-4879-9ebd-12ef86048016"
    }
   },
   "outputs": [
    {
     "data": {
      "text/plain": [
       "30464"
      ]
     },
     "execution_count": 37,
     "metadata": {},
     "output_type": "execute_result"
    }
   ],
   "source": [
    "np.int16(32000) * np.int16(3)"
   ]
  },
  {
   "cell_type": "code",
   "execution_count": 38,
   "metadata": {
    "nbpresent": {
     "id": "7ee1d783-1bce-4ebb-b6a6-af9e10342dad"
    }
   },
   "outputs": [
    {
     "name": "stderr",
     "output_type": "stream",
     "text": [
      "/Users/rockroku/anaconda3/lib/python3.6/site-packages/ipykernel/__main__.py:2: RuntimeWarning: overflow encountered in short_scalars\n",
      "  from ipykernel import kernelapp as app\n"
     ]
    },
    {
     "data": {
      "text/plain": [
       "30464"
      ]
     },
     "execution_count": 38,
     "metadata": {},
     "output_type": "execute_result"
    }
   ],
   "source": [
    "old_settings = np.seterr(**default_setting)  #seterr to known value\n",
    "np.int16(32000) * np.int16(3)"
   ]
  },
  {
   "cell_type": "code",
   "execution_count": 39,
   "metadata": {
    "nbpresent": {
     "id": "fb4fdd11-894d-48d9-bc66-800ba83fd799"
    }
   },
   "outputs": [],
   "source": [
    "with np.errstate(over='ignore'):\n",
    "    np.int16(32000) * np.int16(3)"
   ]
  },
  {
   "cell_type": "markdown",
   "metadata": {
    "nbpresent": {
     "id": "9f7e510a-9812-4f48-b67a-3d11053141f8"
    }
   },
   "source": [
    "#### 32. Is the following expressions true? (★☆☆) \n",
    "(**hint**: imaginary number)"
   ]
  },
  {
   "cell_type": "markdown",
   "metadata": {
    "nbpresent": {
     "id": "639f17a1-06d8-475d-8d08-70080b6e2eab"
    }
   },
   "source": [
    "```python\n",
    "np.sqrt(-1) == np.emath.sqrt(-1)\n",
    "```"
   ]
  },
  {
   "cell_type": "code",
   "execution_count": 40,
   "metadata": {
    "nbpresent": {
     "id": "4267d811-2b7c-49d2-bc8f-c4fc11c2a6a3"
    }
   },
   "outputs": [
    {
     "name": "stdout",
     "output_type": "stream",
     "text": [
      "np.sqrt(-1): nan\n",
      "np.emath.sqrt(-1): 1j\n"
     ]
    },
    {
     "name": "stderr",
     "output_type": "stream",
     "text": [
      "/Users/rockroku/anaconda3/lib/python3.6/site-packages/ipykernel/__main__.py:1: RuntimeWarning: invalid value encountered in sqrt\n",
      "  if __name__ == '__main__':\n",
      "/Users/rockroku/anaconda3/lib/python3.6/site-packages/ipykernel/__main__.py:3: RuntimeWarning: invalid value encountered in sqrt\n",
      "  app.launch_new_instance()\n"
     ]
    },
    {
     "data": {
      "text/plain": [
       "False"
      ]
     },
     "execution_count": 40,
     "metadata": {},
     "output_type": "execute_result"
    }
   ],
   "source": [
    "print(\"np.sqrt(-1):\", np.sqrt(-1))\n",
    "print(\"np.emath.sqrt(-1):\", np.emath.sqrt(-1))\n",
    "np.sqrt(-1) == np.emath.sqrt(-1)"
   ]
  },
  {
   "cell_type": "markdown",
   "metadata": {
    "nbpresent": {
     "id": "281f4a98-26eb-44e4-8c8a-7c1301114d0d"
    }
   },
   "source": [
    "#### 33. How to get the dates of yesterday, today and tomorrow? (★☆☆) \n",
    "(**hint**: np.datetime64, np.timedelta64)"
   ]
  },
  {
   "cell_type": "code",
   "execution_count": 41,
   "metadata": {
    "nbpresent": {
     "id": "3cc950ee-793c-4aee-ba3d-e6666fc972ea"
    }
   },
   "outputs": [
    {
     "name": "stdout",
     "output_type": "stream",
     "text": [
      "today: 2018-08-01\n",
      "yesterday: 2018-07-31\n",
      "tomorrow: 2018-08-02\n"
     ]
    }
   ],
   "source": [
    "today     = np.datetime64('today', 'D')\n",
    "yesterday = today - np.timedelta64(1, 'D')\n",
    "tomorrow  = today + np.timedelta64(1, 'D')\n",
    "print(\"today:\", today)\n",
    "print(\"yesterday:\", yesterday)\n",
    "print(\"tomorrow:\", tomorrow)"
   ]
  },
  {
   "cell_type": "markdown",
   "metadata": {
    "nbpresent": {
     "id": "4df14a01-b2fa-48ce-b70c-cb87bf0e3264"
    }
   },
   "source": [
    "#### 34. How to get all the dates corresponding to the month of July 2016? (★★☆) \n",
    "(**hint**: np.arange(dtype=datetime64\\['D'\\]))"
   ]
  },
  {
   "cell_type": "code",
   "execution_count": 42,
   "metadata": {
    "nbpresent": {
     "id": "1c52581c-c057-414e-839a-9c7bd4157f55"
    }
   },
   "outputs": [
    {
     "data": {
      "text/plain": [
       "array(['2018-07-01', '2018-07-02', '2018-07-03', '2018-07-04',\n",
       "       '2018-07-05', '2018-07-06', '2018-07-07', '2018-07-08',\n",
       "       '2018-07-09', '2018-07-10', '2018-07-11', '2018-07-12',\n",
       "       '2018-07-13', '2018-07-14', '2018-07-15', '2018-07-16',\n",
       "       '2018-07-17', '2018-07-18', '2018-07-19', '2018-07-20',\n",
       "       '2018-07-21', '2018-07-22', '2018-07-23', '2018-07-24',\n",
       "       '2018-07-25', '2018-07-26', '2018-07-27', '2018-07-28',\n",
       "       '2018-07-29', '2018-07-30', '2018-07-31'], dtype='datetime64[D]')"
      ]
     },
     "execution_count": 42,
     "metadata": {},
     "output_type": "execute_result"
    }
   ],
   "source": [
    "np.arange(np.datetime64('2018-07-01', 'D'), np.datetime64('2018-08-01', 'D'))"
   ]
  },
  {
   "cell_type": "code",
   "execution_count": 43,
   "metadata": {
    "nbpresent": {
     "id": "61bfe310-c676-48d5-9877-bd506428be15"
    }
   },
   "outputs": [
    {
     "data": {
      "text/plain": [
       "array(['2018-07-01', '2018-07-02', '2018-07-03', '2018-07-04',\n",
       "       '2018-07-05', '2018-07-06', '2018-07-07', '2018-07-08',\n",
       "       '2018-07-09', '2018-07-10', '2018-07-11', '2018-07-12',\n",
       "       '2018-07-13', '2018-07-14', '2018-07-15', '2018-07-16',\n",
       "       '2018-07-17', '2018-07-18', '2018-07-19', '2018-07-20',\n",
       "       '2018-07-21', '2018-07-22', '2018-07-23', '2018-07-24',\n",
       "       '2018-07-25', '2018-07-26', '2018-07-27', '2018-07-28',\n",
       "       '2018-07-29', '2018-07-30', '2018-07-31'], dtype='datetime64[D]')"
      ]
     },
     "execution_count": 43,
     "metadata": {},
     "output_type": "execute_result"
    }
   ],
   "source": [
    "np.arange(np.datetime64('2018-07-01', 'D'), np.datetime64('2018-07-31', 'D') + 1)"
   ]
  },
  {
   "cell_type": "markdown",
   "metadata": {
    "nbpresent": {
     "id": "f98e7323-dbbd-4b58-b190-8b6b1ffeec5c"
    }
   },
   "source": [
    "#### 35. How to compute ((A+B)\\*(-A/2)) in place (without copy)? (★★☆) \n",
    "(**hint**: np.add(out=), np.negative(out=), np.multiply(out=), np.divide(out=))"
   ]
  },
  {
   "cell_type": "code",
   "execution_count": 44,
   "metadata": {
    "nbpresent": {
     "id": "95c071d3-d4cd-418f-88b1-1d40339f2ed7"
    }
   },
   "outputs": [
    {
     "data": {
      "text/plain": [
       "array([[-0.22536971, -0.24312117],\n",
       "       [-0.28393784, -0.30679759]])"
      ]
     },
     "execution_count": 44,
     "metadata": {},
     "output_type": "execute_result"
    }
   ],
   "source": [
    "A = np.random.rand(2, 2)\n",
    "B = np.random.rand(2, 2)\n",
    "np.add(A, B, out=B)\n",
    "np.divide(-A, 2, out=A)\n",
    "np.multiply(A, B)"
   ]
  },
  {
   "cell_type": "markdown",
   "metadata": {
    "nbpresent": {
     "id": "34695165-5e8b-4933-ac89-a8f61359ac26"
    }
   },
   "source": [
    "#### 36. Extract the integer part of a random array using 5 different methods (★★☆) \n",
    "(**hint**: %, np.floor, np.ceil, astype, np.trunc)"
   ]
  },
  {
   "cell_type": "code",
   "execution_count": 45,
   "metadata": {
    "nbpresent": {
     "id": "007e9d99-6619-48ed-8157-df271806babc"
    }
   },
   "outputs": [
    {
     "name": "stdout",
     "output_type": "stream",
     "text": [
      "temp_rand_36: [ 4.68217057  8.36040146  7.47930351]\n",
      "[ 4.  8.  7.]\n",
      "[ 5.  9.  8.]\n",
      "[4 8 7]\n",
      "[ 4.  8.  7.]\n",
      "[ 4.  8.  7.]\n"
     ]
    }
   ],
   "source": [
    "temp_rand_36 = np.random.rand(3) * 10\n",
    "print(\"temp_rand_36:\", temp_rand_36)\n",
    "print(np.floor(temp_rand_36))\n",
    "print(np.ceil(temp_rand_36))\n",
    "print(temp_rand_36.astype(np.int32))\n",
    "print(np.trunc(temp_rand_36))\n",
    "print(temp_rand_36 - temp_rand_36 % 1)"
   ]
  },
  {
   "cell_type": "markdown",
   "metadata": {
    "nbpresent": {
     "id": "8f9ba8fd-ae7d-4a35-a5a2-e01707e0c691"
    }
   },
   "source": [
    "#### 37. Create a 5x5 matrix with row values ranging from 0 to 4 (★★☆) \n",
    "(**hint**: np.arange)"
   ]
  },
  {
   "cell_type": "code",
   "execution_count": 46,
   "metadata": {
    "nbpresent": {
     "id": "b5e33cfe-2904-40a0-b6f4-6b9a5b4db2ab"
    }
   },
   "outputs": [
    {
     "data": {
      "text/plain": [
       "array([[ 0.,  1.,  2.,  3.,  4.],\n",
       "       [ 0.,  1.,  2.,  3.,  4.],\n",
       "       [ 0.,  1.,  2.,  3.,  4.],\n",
       "       [ 0.,  1.,  2.,  3.,  4.],\n",
       "       [ 0.,  1.,  2.,  3.,  4.]])"
      ]
     },
     "execution_count": 46,
     "metadata": {},
     "output_type": "execute_result"
    }
   ],
   "source": [
    "np.zeros((5, 5)) + np.arange(0, 5)"
   ]
  },
  {
   "cell_type": "markdown",
   "metadata": {
    "nbpresent": {
     "id": "6d500776-2992-4612-9d02-e5f04ee8355b"
    }
   },
   "source": [
    "#### 38. Consider a generator function that generates 10 integers and use it to build an array (★☆☆) \n",
    "(**hint**: np.fromiter)"
   ]
  },
  {
   "cell_type": "code",
   "execution_count": 47,
   "metadata": {
    "nbpresent": {
     "id": "0bcb7605-5369-46f3-9b63-02754a66d790"
    }
   },
   "outputs": [
    {
     "data": {
      "text/plain": [
       "array([0, 1, 2, 3, 4, 5, 6, 7, 8, 9])"
      ]
     },
     "execution_count": 47,
     "metadata": {},
     "output_type": "execute_result"
    }
   ],
   "source": [
    "def get_10_num():\n",
    "    for i in range(10):\n",
    "        yield i\n",
    "np.fromiter(get_10_num(), int)"
   ]
  },
  {
   "cell_type": "markdown",
   "metadata": {
    "nbpresent": {
     "id": "f534a85b-737b-45de-8666-cf2f64a6cbf2"
    }
   },
   "source": [
    "#### 39. Create a vector of size 10 with values ranging from 0 to 1, both excluded (★★☆) \n",
    "(**hint**: np.linspace)"
   ]
  },
  {
   "cell_type": "code",
   "execution_count": 48,
   "metadata": {
    "nbpresent": {
     "id": "a3a1c408-e85d-479a-8dd7-0626ec0cdb13"
    }
   },
   "outputs": [
    {
     "data": {
      "text/plain": [
       "array([ 0.09090909,  0.18181818,  0.27272727,  0.36363636,  0.45454545,\n",
       "        0.54545455,  0.63636364,  0.72727273,  0.81818182,  0.90909091])"
      ]
     },
     "execution_count": 48,
     "metadata": {},
     "output_type": "execute_result"
    }
   ],
   "source": [
    "np.linspace(0, 1, num=11, endpoint=False)[1:]"
   ]
  },
  {
   "cell_type": "markdown",
   "metadata": {
    "nbpresent": {
     "id": "bfdcdb5c-4d4e-4147-a7c1-9c9d4c419382"
    }
   },
   "source": [
    "#### 40. Create a random vector of size 10 and sort it (★★☆) \n",
    "(**hint**: sort)"
   ]
  },
  {
   "cell_type": "code",
   "execution_count": 49,
   "metadata": {
    "nbpresent": {
     "id": "de8c84a1-4cf2-4241-b793-63b0445c9cb5"
    }
   },
   "outputs": [
    {
     "name": "stdout",
     "output_type": "stream",
     "text": [
      "temp40: [ 0.23246661  0.78588203  0.35283436  0.72973406  0.95816337  0.0125116\n",
      "  0.59221407  0.75887373  0.110962    0.40791287]\n",
      "temp40 sorted: [ 0.0125116   0.110962    0.23246661  0.35283436  0.40791287  0.59221407\n",
      "  0.72973406  0.75887373  0.78588203  0.95816337]\n"
     ]
    }
   ],
   "source": [
    "temp40 = np.random.rand(10)\n",
    "print(\"temp40:\", temp40)\n",
    "print(\"temp40 sorted:\", np.sort(temp40))"
   ]
  },
  {
   "cell_type": "markdown",
   "metadata": {
    "nbpresent": {
     "id": "90292fd1-97da-4182-95de-1b874340fd37"
    }
   },
   "source": [
    "#### 41. How to sum a small array faster than np.sum? (★★☆) \n",
    "(**hint**: np.add.reduce)"
   ]
  },
  {
   "cell_type": "code",
   "execution_count": 50,
   "metadata": {
    "nbpresent": {
     "id": "32166404-08e2-409f-90d5-3d107a781b63"
    }
   },
   "outputs": [
    {
     "name": "stdout",
     "output_type": "stream",
     "text": [
      "CPU times: user 5 µs, sys: 1 µs, total: 6 µs\n",
      "Wall time: 10 µs\n",
      "temp41: [0 1 2 3 4 5 6 7 8 9]\n",
      "45\n"
     ]
    }
   ],
   "source": [
    "%time\n",
    "temp41 = np.arange(10)\n",
    "print(\"temp41:\", temp41)\n",
    "print(np.add.reduce(temp41))"
   ]
  },
  {
   "cell_type": "code",
   "execution_count": 51,
   "metadata": {
    "nbpresent": {
     "id": "7fb1cc8b-cef2-4279-91ce-89726de006dd"
    }
   },
   "outputs": [
    {
     "name": "stdout",
     "output_type": "stream",
     "text": [
      "CPU times: user 11 µs, sys: 4 µs, total: 15 µs\n",
      "Wall time: 27.9 µs\n",
      "temp41_2: [0 1 2 3 4 5 6 7 8 9]\n",
      "45\n"
     ]
    }
   ],
   "source": [
    "%time\n",
    "temp41_2 = np.arange(10)\n",
    "print(\"temp41_2:\", temp41_2)\n",
    "print(np.sum(temp41_2))"
   ]
  },
  {
   "cell_type": "code",
   "execution_count": 52,
   "metadata": {
    "nbpresent": {
     "id": "cb25bf1b-43b2-4349-b450-a2d6a791ac1c"
    }
   },
   "outputs": [
    {
     "name": "stdout",
     "output_type": "stream",
     "text": [
      "CPU times: user 28 µs, sys: 9 µs, total: 37 µs\n",
      "Wall time: 54.8 µs\n",
      "temp41_2: [0 1 2 3 4 5 6 7 8 9]\n",
      "45\n"
     ]
    }
   ],
   "source": [
    "%time\n",
    "temp41_2 = np.arange(10)\n",
    "print(\"temp41_2:\", temp41_2)\n",
    "print(temp41_2.sum())"
   ]
  },
  {
   "cell_type": "markdown",
   "metadata": {
    "nbpresent": {
     "id": "aa8ec7a4-e447-47f4-915b-9e82c9241980"
    }
   },
   "source": [
    "#### 42. Consider two random array A and B, check if they are equal (★★☆) \n",
    "(**hint**: np.allclose, np.array\\_equal)"
   ]
  },
  {
   "cell_type": "code",
   "execution_count": 53,
   "metadata": {
    "nbpresent": {
     "id": "f0f8807c-4241-4a5a-a22c-5f93d87417d5"
    }
   },
   "outputs": [
    {
     "name": "stdout",
     "output_type": "stream",
     "text": [
      "True\n",
      "False\n"
     ]
    }
   ],
   "source": [
    "temp42_1 = [1.1, 2]\n",
    "temp42_2 = [1.10001, 2]\n",
    "print(np.allclose(temp42_1, temp42_2))\n",
    "print(np.array_equal(temp42_1, temp42_2))"
   ]
  },
  {
   "cell_type": "markdown",
   "metadata": {
    "nbpresent": {
     "id": "b842c08b-c258-473d-82d5-7a0f2e26d560"
    }
   },
   "source": [
    "#### 43. Make an array immutable (read-only) (★★☆) \n",
    "(**hint**: flags.writeable)"
   ]
  },
  {
   "cell_type": "code",
   "execution_count": 54,
   "metadata": {
    "nbpresent": {
     "id": "e270edd4-3ba9-4b7b-977a-66a13d8020c3"
    }
   },
   "outputs": [],
   "source": [
    "# temp43 = np.zeros(5)\n",
    "# temp43.flags.writeable = False\n",
    "# temp43[0] = 1"
   ]
  },
  {
   "cell_type": "markdown",
   "metadata": {
    "nbpresent": {
     "id": "7497f544-08c6-4b8c-844a-f20c5e0911bf"
    }
   },
   "source": [
    "#### 44. Consider a random 10x2 matrix representing cartesian coordinates, convert them to polar coordinates (★★☆) \n",
    "(**hint**: np.sqrt, np.arctan2)"
   ]
  },
  {
   "cell_type": "code",
   "execution_count": 55,
   "metadata": {
    "nbpresent": {
     "id": "f07ac209-56f6-421d-b6c3-147e37715250"
    }
   },
   "outputs": [
    {
     "name": "stdout",
     "output_type": "stream",
     "text": [
      "[ 0.5141381   0.53071626  0.74053286  0.74125374  0.10621389  0.96247362\n",
      "  0.55937311  0.90823945  0.6700838   1.08083774]\n",
      "[ 0.7121947   1.19617868  0.43647859  1.26719239  0.77061004  1.38770917\n",
      "  0.19071328  1.0900161   0.06882283  0.80779226]\n"
     ]
    }
   ],
   "source": [
    "temp44 = np.random.rand(10, 2)\n",
    "x,y = temp44[:,0], temp44[:,1]\n",
    "r = np.sqrt(x**2 + y**2)\n",
    "theta = np.arctan2(x, y)\n",
    "print(r)\n",
    "print(theta)"
   ]
  },
  {
   "cell_type": "markdown",
   "metadata": {
    "nbpresent": {
     "id": "e5bb6679-4ff6-449a-839c-d8a007c94473"
    }
   },
   "source": [
    "#### 45. Create random vector of size 10 and replace the maximum value by 0 (★★☆) \n",
    "(**hint**: argmax)"
   ]
  },
  {
   "cell_type": "code",
   "execution_count": 56,
   "metadata": {
    "nbpresent": {
     "id": "0dc22f80-e0c9-4384-9272-c3e0aef14452"
    }
   },
   "outputs": [
    {
     "name": "stdout",
     "output_type": "stream",
     "text": [
      "[ 0.63201898  0.37022875  0.89531692  0.05525854  0.69580738  0.10282992\n",
      "  0.00954408  0.23752826  0.42432701  0.16059138]\n",
      "[ 0.63201898  0.37022875  0.          0.05525854  0.69580738  0.10282992\n",
      "  0.00954408  0.23752826  0.42432701  0.16059138]\n"
     ]
    }
   ],
   "source": [
    "temp45 = np.random.rand(10)\n",
    "print(temp45)\n",
    "max_idx = np.argmax(temp45)\n",
    "temp45[max_idx] = 0\n",
    "print(temp45)"
   ]
  },
  {
   "cell_type": "markdown",
   "metadata": {
    "nbpresent": {
     "id": "4c8fd58c-a85a-40e6-bdc9-7ea52e6ed0aa"
    }
   },
   "source": [
    "#### 46. Create a structured array with `x` and `y` coordinates covering the \\[0,1\\]x\\[0,1\\] area (★★☆) \n",
    "(**hint**: np.meshgrid)"
   ]
  },
  {
   "cell_type": "code",
   "execution_count": 57,
   "metadata": {
    "nbpresent": {
     "id": "b189d0ac-ee0e-497b-9f4c-08a372e532e9"
    }
   },
   "outputs": [
    {
     "data": {
      "text/plain": [
       "array([[( 0.  ,  0. ), ( 0.25,  0. ), ( 0.5 ,  0. ), ( 0.75,  0. ),\n",
       "        ( 1.  ,  0. )],\n",
       "       [( 0.  ,  0.5), ( 0.25,  0.5), ( 0.5 ,  0.5), ( 0.75,  0.5),\n",
       "        ( 1.  ,  0.5)],\n",
       "       [( 0.  ,  1. ), ( 0.25,  1. ), ( 0.5 ,  1. ), ( 0.75,  1. ),\n",
       "        ( 1.  ,  1. )],\n",
       "       [( 0.  ,  1.5), ( 0.25,  1.5), ( 0.5 ,  1.5), ( 0.75,  1.5),\n",
       "        ( 1.  ,  1.5)],\n",
       "       [( 0.  ,  2. ), ( 0.25,  2. ), ( 0.5 ,  2. ), ( 0.75,  2. ),\n",
       "        ( 1.  ,  2. )]],\n",
       "      dtype=[('xx', '<f8'), ('yy', '<f8')])"
      ]
     },
     "execution_count": 57,
     "metadata": {},
     "output_type": "execute_result"
    }
   ],
   "source": [
    "temp_46 = np.zeros((5,5), [('xx',float),('yy',float)])\n",
    "temp_46['xx'], temp_46['yy'] = np.meshgrid(np.linspace(0,1,5),\n",
    "                             np.linspace(0,2,5))\n",
    "temp_46"
   ]
  },
  {
   "cell_type": "markdown",
   "metadata": {
    "nbpresent": {
     "id": "67429bc1-f5fa-4611-98cb-22924a85168a"
    }
   },
   "source": [
    "####  47. Given two arrays, X and Y, construct the Cauchy matrix C (Cij =1/(xi - yj)) \n",
    "(**hint**: np.subtract.outer)"
   ]
  },
  {
   "cell_type": "code",
   "execution_count": 58,
   "metadata": {
    "nbpresent": {
     "id": "9b6f721a-29bb-4faa-8a07-61e14230ab33"
    }
   },
   "outputs": [
    {
     "data": {
      "text/plain": [
       "array([[-3., -4., -5.],\n",
       "       [-2., -3., -4.],\n",
       "       [-1., -2., -3.]])"
      ]
     },
     "execution_count": 58,
     "metadata": {},
     "output_type": "execute_result"
    }
   ],
   "source": [
    "X47 = np.array([1, 2, 3])\n",
    "Y47 = np.array([4, 5, 6])\n",
    "r47 = np.zeros((len(X47),len(Y47)))\n",
    "for i in range(len(X47)):\n",
    "    for j in range(len(Y47)):\n",
    "        r47[i,j] = np.subtract(X47[i], Y47[j])\n",
    "r47"
   ]
  },
  {
   "cell_type": "code",
   "execution_count": 59,
   "metadata": {
    "nbpresent": {
     "id": "b388ad3b-b75e-458d-8417-4c69e0f86a7a"
    }
   },
   "outputs": [
    {
     "data": {
      "text/plain": [
       "array([[-3, -4, -5],\n",
       "       [-2, -3, -4],\n",
       "       [-1, -2, -3]])"
      ]
     },
     "execution_count": 59,
     "metadata": {},
     "output_type": "execute_result"
    }
   ],
   "source": [
    " np.subtract.outer(X47, Y47)"
   ]
  },
  {
   "cell_type": "markdown",
   "metadata": {
    "nbpresent": {
     "id": "95229841-7cef-46da-9549-599e644231b2"
    }
   },
   "source": [
    "#### 48. Print the minimum and maximum representable value for each numpy scalar type (★★☆) \n",
    "(**hint**: np.iinfo, np.finfo, eps)"
   ]
  },
  {
   "cell_type": "code",
   "execution_count": 60,
   "metadata": {
    "nbpresent": {
     "id": "f5b59c4f-08d0-4ccc-8723-7972c1da6297"
    }
   },
   "outputs": [
    {
     "name": "stdout",
     "output_type": "stream",
     "text": [
      "Machine parameters for int8\n",
      "---------------------------------------------------------------\n",
      "min = -128\n",
      "max = 127\n",
      "---------------------------------------------------------------\n",
      "\n",
      "Machine parameters for int32\n",
      "---------------------------------------------------------------\n",
      "min = -2147483648\n",
      "max = 2147483647\n",
      "---------------------------------------------------------------\n",
      "\n",
      "Machine parameters for int64\n",
      "---------------------------------------------------------------\n",
      "min = -9223372036854775808\n",
      "max = 9223372036854775807\n",
      "---------------------------------------------------------------\n",
      "\n",
      "Machine parameters for float32\n",
      "---------------------------------------------------------------\n",
      "precision =   6   resolution = 1.0000000e-06\n",
      "machep =    -23   eps =        1.1920929e-07\n",
      "negep =     -24   epsneg =     5.9604645e-08\n",
      "minexp =   -126   tiny =       1.1754944e-38\n",
      "maxexp =    128   max =        3.4028235e+38\n",
      "nexp =        8   min =        -max\n",
      "---------------------------------------------------------------\n",
      "\n",
      "Machine parameters for float32\n",
      "---------------------------------------------------------------\n",
      "precision =   6   resolution = 1.0000000e-06\n",
      "machep =    -23   eps =        1.1920929e-07\n",
      "negep =     -24   epsneg =     5.9604645e-08\n",
      "minexp =   -126   tiny =       1.1754944e-38\n",
      "maxexp =    128   max =        3.4028235e+38\n",
      "nexp =        8   min =        -max\n",
      "---------------------------------------------------------------\n",
      "\n",
      "Machine parameters for float64\n",
      "---------------------------------------------------------------\n",
      "precision =  15   resolution = 1.0000000000000001e-15\n",
      "machep =    -52   eps =        2.2204460492503131e-16\n",
      "negep =     -53   epsneg =     1.1102230246251565e-16\n",
      "minexp =  -1022   tiny =       2.2250738585072014e-308\n",
      "maxexp =   1024   max =        1.7976931348623157e+308\n",
      "nexp =       11   min =        -max\n",
      "---------------------------------------------------------------\n",
      "\n",
      "Machine parameters for float64\n",
      "---------------------------------------------------------------\n",
      "precision =  15   resolution = 1.0000000000000001e-15\n",
      "machep =    -52   eps =        2.2204460492503131e-16\n",
      "negep =     -53   epsneg =     1.1102230246251565e-16\n",
      "minexp =  -1022   tiny =       2.2250738585072014e-308\n",
      "maxexp =   1024   max =        1.7976931348623157e+308\n",
      "nexp =       11   min =        -max\n",
      "---------------------------------------------------------------\n",
      "\n"
     ]
    }
   ],
   "source": [
    "for dtype in [np.int8, np.int32, np.int64]:\n",
    "    print(np.iinfo(dtype))\n",
    "\n",
    "for dtype in [np.float32, np.float64]:\n",
    "    print(np.finfo(dtype))\n",
    "    print(np.finfo(dtype))"
   ]
  },
  {
   "cell_type": "markdown",
   "metadata": {
    "nbpresent": {
     "id": "fedf9a97-b55a-4692-97ac-708899cfd914"
    }
   },
   "source": [
    "#### 49. How to print all the values of an array? (★★☆) \n",
    "(**hint**: np.set\\_printoptions)"
   ]
  },
  {
   "cell_type": "code",
   "execution_count": 61,
   "metadata": {
    "nbpresent": {
     "id": "c2b5ff93-6969-4b84-88f7-d8482f4e897b"
    }
   },
   "outputs": [
    {
     "name": "stdout",
     "output_type": "stream",
     "text": [
      "[[ 0.  0.  0. ...,  0.  0.  0.]\n",
      " [ 0.  0.  0. ...,  0.  0.  0.]\n",
      " [ 0.  0.  0. ...,  0.  0.  0.]\n",
      " ..., \n",
      " [ 0.  0.  0. ...,  0.  0.  0.]\n",
      " [ 0.  0.  0. ...,  0.  0.  0.]\n",
      " [ 0.  0.  0. ...,  0.  0.  0.]]\n",
      "[[ 0.  0.  0.  0.  0.  0.  0.  0.  0.  0.  0.  0.  0.  0.  0.  0.]\n",
      " [ 0.  0.  0.  0.  0.  0.  0.  0.  0.  0.  0.  0.  0.  0.  0.  0.]\n",
      " [ 0.  0.  0.  0.  0.  0.  0.  0.  0.  0.  0.  0.  0.  0.  0.  0.]\n",
      " [ 0.  0.  0.  0.  0.  0.  0.  0.  0.  0.  0.  0.  0.  0.  0.  0.]\n",
      " [ 0.  0.  0.  0.  0.  0.  0.  0.  0.  0.  0.  0.  0.  0.  0.  0.]\n",
      " [ 0.  0.  0.  0.  0.  0.  0.  0.  0.  0.  0.  0.  0.  0.  0.  0.]\n",
      " [ 0.  0.  0.  0.  0.  0.  0.  0.  0.  0.  0.  0.  0.  0.  0.  0.]\n",
      " [ 0.  0.  0.  0.  0.  0.  0.  0.  0.  0.  0.  0.  0.  0.  0.  0.]\n",
      " [ 0.  0.  0.  0.  0.  0.  0.  0.  0.  0.  0.  0.  0.  0.  0.  0.]\n",
      " [ 0.  0.  0.  0.  0.  0.  0.  0.  0.  0.  0.  0.  0.  0.  0.  0.]\n",
      " [ 0.  0.  0.  0.  0.  0.  0.  0.  0.  0.  0.  0.  0.  0.  0.  0.]\n",
      " [ 0.  0.  0.  0.  0.  0.  0.  0.  0.  0.  0.  0.  0.  0.  0.  0.]\n",
      " [ 0.  0.  0.  0.  0.  0.  0.  0.  0.  0.  0.  0.  0.  0.  0.  0.]\n",
      " [ 0.  0.  0.  0.  0.  0.  0.  0.  0.  0.  0.  0.  0.  0.  0.  0.]\n",
      " [ 0.  0.  0.  0.  0.  0.  0.  0.  0.  0.  0.  0.  0.  0.  0.  0.]\n",
      " [ 0.  0.  0.  0.  0.  0.  0.  0.  0.  0.  0.  0.  0.  0.  0.  0.]]\n"
     ]
    }
   ],
   "source": [
    "np.set_printoptions(threshold=5)\n",
    "Z = np.zeros((16,16))\n",
    "print(Z)\n",
    "np.set_printoptions(threshold=np.nan)\n",
    "print(Z)"
   ]
  },
  {
   "cell_type": "markdown",
   "metadata": {
    "nbpresent": {
     "id": "442ac35a-4ea2-4bc2-899f-fb4aacb051a4"
    }
   },
   "source": [
    "#### 50. How to find the closest value (to a given scalar) in a vector? (★★☆) \n",
    "(**hint**: argmin)"
   ]
  },
  {
   "cell_type": "code",
   "execution_count": 62,
   "metadata": {
    "nbpresent": {
     "id": "7af6c69d-ada0-4be3-b622-21407a0f0171"
    }
   },
   "outputs": [
    {
     "data": {
      "text/plain": [
       "3"
      ]
     },
     "execution_count": 62,
     "metadata": {},
     "output_type": "execute_result"
    }
   ],
   "source": [
    "temp50 = [5, 1, 2, 3, 4]\n",
    "val50 = 3\n",
    "temp50_2 = np.abs(np.subtract(temp50,val50))\n",
    "np.argmin(temp50_2)"
   ]
  },
  {
   "cell_type": "markdown",
   "metadata": {
    "nbpresent": {
     "id": "f3da0106-b1ab-45fc-ab42-6514ae98f93d"
    }
   },
   "source": [
    "#### 51. Create a structured array representing a position (x,y) and a color (r,g,b) (★★☆) \n",
    "(**hint**: dtype)"
   ]
  },
  {
   "cell_type": "code",
   "execution_count": 63,
   "metadata": {
    "nbpresent": {
     "id": "7f08176d-4d61-4f9c-afd8-edb519ce51d5"
    }
   },
   "outputs": [
    {
     "name": "stdout",
     "output_type": "stream",
     "text": [
      "[(( 0.,  0.), ( 0.,  0.,  0.)) (( 0.,  0.), ( 0.,  0.,  0.))\n",
      " (( 0.,  0.), ( 0.,  0.,  0.)) (( 0.,  0.), ( 0.,  0.,  0.))\n",
      " (( 0.,  0.), ( 0.,  0.,  0.)) (( 0.,  0.), ( 0.,  0.,  0.))\n",
      " (( 0.,  0.), ( 0.,  0.,  0.)) (( 0.,  0.), ( 0.,  0.,  0.))\n",
      " (( 0.,  0.), ( 0.,  0.,  0.)) (( 0.,  0.), ( 0.,  0.,  0.))]\n"
     ]
    }
   ],
   "source": [
    "temp51 = np.zeros(10, [ ('position', [ ('x', float, 1),\n",
    "                                  ('y', float, 1)]),\n",
    "                   ('color',    [ ('r', float, 1),\n",
    "                                  ('g', float, 1),\n",
    "                                  ('b', float, 1)])])\n",
    "print(temp51)"
   ]
  },
  {
   "cell_type": "markdown",
   "metadata": {
    "nbpresent": {
     "id": "3a639e05-4389-4a73-bdaf-a80fa48f7fe1"
    }
   },
   "source": [
    "#### 52. Consider a random vector with shape (100,2) representing coordinates, find point by point distances (★★☆) \n",
    "(**hint**: np.atleast\\_2d, T, np.sqrt)"
   ]
  },
  {
   "cell_type": "code",
   "execution_count": 64,
   "metadata": {
    "nbpresent": {
     "id": "30d6247c-b442-401a-9452-ecd9a9ef47c7"
    }
   },
   "outputs": [
    {
     "name": "stdout",
     "output_type": "stream",
     "text": [
      "[[ 0.          0.58272035  0.77613023  0.59091248  0.46159272  0.38535641\n",
      "   0.54135756  0.10754673  0.63157717  0.73359934]\n",
      " [ 0.58272035  0.          0.28985881  0.8029732   0.60413863  0.26609105\n",
      "   0.29163212  0.50477046  0.61847263  0.61934045]\n",
      " [ 0.77613023  0.28985881  0.          0.77842802  0.88948028  0.3919915\n",
      "   0.26727583  0.72531768  0.52886809  0.47100384]\n",
      " [ 0.59091248  0.8029732   0.77842802  0.          1.0297137   0.55004402\n",
      "   0.53818171  0.66003803  0.27021333  0.38637285]\n",
      " [ 0.46159272  0.60413863  0.88948028  1.0297137   0.          0.6079471\n",
      "   0.76648     0.37214165  0.99594642  1.06426449]\n",
      " [ 0.38535641  0.26609105  0.3919915   0.55004402  0.6079471   0.\n",
      "   0.16873958  0.34711645  0.41364259  0.46086692]\n",
      " [ 0.54135756  0.29163212  0.26727583  0.53818171  0.76648     0.16873958\n",
      "   0.          0.51377008  0.32809593  0.33292542]\n",
      " [ 0.10754673  0.50477046  0.72531768  0.66003803  0.37214165  0.34711645\n",
      "   0.51377008  0.          0.66032793  0.74967578]\n",
      " [ 0.63157717  0.61847263  0.52886809  0.27021333  0.99594642  0.41364259\n",
      "   0.32809593  0.66032793  0.          0.12713566]\n",
      " [ 0.73359934  0.61934045  0.47100384  0.38637285  1.06426449  0.46086692\n",
      "   0.33292542  0.74967578  0.12713566  0.        ]]\n",
      "====\n",
      "[[ 0.          0.56600919  0.44892299  0.13366133  0.79565902  0.92931044\n",
      "   0.90606705  0.87627316  0.56263634  0.87417962]\n",
      " [ 0.56600919  0.          0.15343701  0.43427315  0.76598088  0.3638187\n",
      "   0.3403574   0.59215974  0.21777999  0.51219751]\n",
      " [ 0.44892299  0.15343701  0.          0.32632693  0.64933855  0.50157631\n",
      "   0.47755196  0.54103592  0.14880207  0.49062033]\n",
      " [ 0.13366133  0.43427315  0.32632693  0.          0.77075701  0.7968067\n",
      "   0.77370152  0.79791217  0.45297414  0.78057221]\n",
      " [ 0.79565902  0.76598088  0.64933855  0.77075701  0.          0.96484988\n",
      "   0.94518037  0.35657207  0.55011023  0.46865068]\n",
      " [ 0.92931044  0.3638187   0.50157631  0.7968067   0.96484988  0.\n",
      "   0.02406879  0.67085281  0.47247888  0.55001143]\n",
      " [ 0.90606705  0.3403574   0.47755196  0.77370152  0.94518037  0.02406879\n",
      "   0.          0.65537433  0.44914606  0.53552662]\n",
      " [ 0.87627316  0.59215974  0.54103592  0.79791217  0.35657207  0.67085281\n",
      "   0.65537433  0.          0.39519746  0.12445135]\n",
      " [ 0.56263634  0.21777999  0.14880207  0.45297414  0.55011023  0.47247888\n",
      "   0.44914606  0.39519746  0.          0.34209407]\n",
      " [ 0.87417962  0.51219751  0.49062033  0.78057221  0.46865068  0.55001143\n",
      "   0.53552662  0.12445135  0.34209407  0.        ]]\n"
     ]
    }
   ],
   "source": [
    "Z = np.random.random((10,2))\n",
    "X,Y = np.atleast_2d(Z[:,0], Z[:,1])\n",
    "D = np.sqrt( (X-X.T)**2 + (Y-Y.T)**2)\n",
    "print(D)\n",
    "\n",
    "print(\"====\")\n",
    "# Much faster with scipy\n",
    "import scipy\n",
    "# Thanks Gavin Heverly-Coulson (#issue 1)\n",
    "import scipy.spatial\n",
    "\n",
    "Z = np.random.random((10,2))\n",
    "D = scipy.spatial.distance.cdist(Z,Z)\n",
    "print(D)"
   ]
  },
  {
   "cell_type": "markdown",
   "metadata": {
    "nbpresent": {
     "id": "2549943f-0f7f-4abd-81ec-4d1d20853429"
    }
   },
   "source": [
    "#### 53. How to convert a float (32 bits) array into an integer (32 bits) in place? \n",
    "(**hint**: astype(copy=False))"
   ]
  },
  {
   "cell_type": "code",
   "execution_count": 65,
   "metadata": {
    "nbpresent": {
     "id": "012b15b8-ad40-49a1-bd43-a80db19175c7"
    }
   },
   "outputs": [
    {
     "name": "stdout",
     "output_type": "stream",
     "text": [
      "[ 0.  1.  2.  3.  4.  5.  6.  7.  8.  9.]\n",
      "[0 1 2 3 4 5 6 7 8 9]\n"
     ]
    }
   ],
   "source": [
    "temp53 = np.arange(10, dtype=np.float32)\n",
    "print(temp53)\n",
    "temp53 = temp53.astype(np.int32, copy=False)\n",
    "print(temp53)"
   ]
  },
  {
   "cell_type": "markdown",
   "metadata": {
    "nbpresent": {
     "id": "bcbc8223-64bf-4b56-a4b0-2b3ddadee329"
    }
   },
   "source": [
    "#### 54. How to read the following file? (★★☆) \n",
    "(**hint**: np.genfromtxt)"
   ]
  },
  {
   "cell_type": "markdown",
   "metadata": {
    "nbpresent": {
     "id": "0c4c1b9d-5b66-4bf0-b239-354c580c4c78"
    }
   },
   "source": [
    "```\n",
    "1, 2, 3, 4, 5\n",
    "6,  ,  , 7, 8\n",
    " ,  , 9,10,11\n",
    "```"
   ]
  },
  {
   "cell_type": "code",
   "execution_count": 66,
   "metadata": {
    "nbpresent": {
     "id": "bf0d7f44-c1f8-4e7f-8aae-b438a3bfe19f"
    }
   },
   "outputs": [],
   "source": [
    "# from io import StringIO\n",
    "\n",
    "# # Fake file \n",
    "# s = StringIO(\"\"\"1, 2, 3, 4, 5\\n\n",
    "#                 6,  ,  , 7, 8\\n\n",
    "#                  ,  , 9,10,11\\n\"\"\")\n",
    "# print(type(s))\n",
    "# Z = np.genfromtxt(s, delimiter=\",\", dtype=np.int)\n",
    "# print(Z)"
   ]
  },
  {
   "cell_type": "markdown",
   "metadata": {
    "nbpresent": {
     "id": "f3d15fc1-7b37-4aa8-b5bb-ba4cdb2882c4"
    }
   },
   "source": [
    "#### 55. What is the equivalent of enumerate for numpy arrays? (★★☆) \n",
    "(**hint**: np.ndenumerate, np.ndindex)"
   ]
  },
  {
   "cell_type": "code",
   "execution_count": 67,
   "metadata": {
    "nbpresent": {
     "id": "a910bbf0-318e-4bd7-8977-b193f8813214"
    }
   },
   "outputs": [
    {
     "name": "stdout",
     "output_type": "stream",
     "text": [
      "[[0 1 2]\n",
      " [3 4 5]\n",
      " [6 7 8]]\n",
      "(0, 0) 0\n",
      "(0, 1) 1\n",
      "(0, 2) 2\n",
      "(1, 0) 3\n",
      "(1, 1) 4\n",
      "(1, 2) 5\n",
      "(2, 0) 6\n",
      "(2, 1) 7\n",
      "(2, 2) 8\n",
      "==\n",
      "(0, 0) 0\n",
      "(0, 1) 1\n",
      "(0, 2) 2\n",
      "(1, 0) 3\n",
      "(1, 1) 4\n",
      "(1, 2) 5\n",
      "(2, 0) 6\n",
      "(2, 1) 7\n",
      "(2, 2) 8\n"
     ]
    }
   ],
   "source": [
    "Z = np.arange(9).reshape(3,3)\n",
    "print(Z)\n",
    "for index, value in np.ndenumerate(Z):\n",
    "    print(index, value)\n",
    "print(\"==\")\n",
    "for index in np.ndindex(Z.shape):\n",
    "    print(index, Z[index])"
   ]
  },
  {
   "cell_type": "markdown",
   "metadata": {
    "nbpresent": {
     "id": "4cd04d79-87f6-489a-bb8a-72c28b19c079"
    }
   },
   "source": [
    "#### 56. Generate a generic 2D Gaussian-like array (★★☆) \n",
    "(**hint**: np.meshgrid, np.exp)"
   ]
  },
  {
   "cell_type": "code",
   "execution_count": null,
   "metadata": {
    "nbpresent": {
     "id": "b9229665-fcb9-4b25-be89-7ace2930895c"
    }
   },
   "outputs": [],
   "source": []
  },
  {
   "cell_type": "markdown",
   "metadata": {
    "nbpresent": {
     "id": "c5495c36-e1c5-4f4d-b125-baf3275a96c2"
    }
   },
   "source": [
    "#### 57. How to randomly place p elements in a 2D array? (★★☆) \n",
    "(**hint**: np.put, np.random.choice)"
   ]
  },
  {
   "cell_type": "code",
   "execution_count": 68,
   "metadata": {
    "nbpresent": {
     "id": "60fe7d61-e7ab-48f1-8ed7-f7c46f6242d8"
    }
   },
   "outputs": [
    {
     "name": "stdout",
     "output_type": "stream",
     "text": [
      "[95 27 71]\n",
      "[[ 0.  0.  0.  0.  0.  0.  0.  0.  0.  0.]\n",
      " [ 0.  0.  0.  0.  0.  0.  0.  0.  0.  0.]\n",
      " [ 0.  0.  0.  0.  0.  0.  0.  1.  0.  0.]\n",
      " [ 0.  0.  0.  0.  0.  0.  0.  0.  0.  0.]\n",
      " [ 0.  0.  0.  0.  0.  0.  0.  0.  0.  0.]\n",
      " [ 0.  0.  0.  0.  0.  0.  0.  0.  0.  0.]\n",
      " [ 0.  0.  0.  0.  0.  0.  0.  0.  0.  0.]\n",
      " [ 0.  1.  0.  0.  0.  0.  0.  0.  0.  0.]\n",
      " [ 0.  0.  0.  0.  0.  0.  0.  0.  0.  0.]\n",
      " [ 0.  0.  0.  0.  0.  1.  0.  0.  0.  0.]]\n"
     ]
    }
   ],
   "source": [
    "n = 10\n",
    "p = 3\n",
    "Z = np.zeros((n,n))\n",
    "rand_choice = np.random.choice(range(n*n), p, replace=False)\n",
    "print(rand_choice)\n",
    "np.put(Z, rand_choice,1)\n",
    "print(Z)"
   ]
  },
  {
   "cell_type": "markdown",
   "metadata": {
    "nbpresent": {
     "id": "c7c9ac40-c297-4150-b6be-1843de1463ee"
    }
   },
   "source": [
    "#### 58. Subtract the mean of each row of a matrix (★★☆) \n",
    "(**hint**: mean(axis=,keepdims=))"
   ]
  },
  {
   "cell_type": "code",
   "execution_count": 69,
   "metadata": {
    "nbpresent": {
     "id": "6d84c9d8-202c-4876-9e7d-7ed532cf4aa3"
    }
   },
   "outputs": [
    {
     "name": "stdout",
     "output_type": "stream",
     "text": [
      "[[ 3.66666667 -2.33333333 -1.33333333]\n",
      " [-2.33333333  0.66666667  1.66666667]]\n"
     ]
    }
   ],
   "source": [
    "temp58 = np.array([[8, 2, 3], [2, 5, 6]])\n",
    "temp58_row_mean = np.mean(temp58, axis=1, keepdims=True)\n",
    "print(temp58 - temp58_row_mean)"
   ]
  },
  {
   "cell_type": "markdown",
   "metadata": {
    "nbpresent": {
     "id": "9dc76395-99a0-4a15-a68c-8345707b05b2"
    }
   },
   "source": [
    "#### 59. How to sort an array by the nth column? (★★☆) \n",
    "(**hint**: argsort)"
   ]
  },
  {
   "cell_type": "code",
   "execution_count": 70,
   "metadata": {
    "nbpresent": {
     "id": "55e01981-f30a-4ecf-b0a3-b8f5ce6506cb"
    }
   },
   "outputs": [
    {
     "name": "stdout",
     "output_type": "stream",
     "text": [
      "[[9 9 1 0]\n",
      " [0 6 0 5]\n",
      " [3 5 1 6]\n",
      " [1 1 8 9]]\n",
      "\n",
      "\n",
      "[[1 1 8 9]\n",
      " [3 5 1 6]\n",
      " [0 6 0 5]\n",
      " [9 9 1 0]]\n"
     ]
    }
   ],
   "source": [
    "temp59 = np.random.randint(0,10,(4,4))\n",
    "print(temp59)\n",
    "print(\"\\n\")\n",
    "print(temp59[temp59[:,1].argsort()])"
   ]
  },
  {
   "cell_type": "markdown",
   "metadata": {
    "nbpresent": {
     "id": "e39c9e45-71c8-434f-95a1-99d21c924680"
    }
   },
   "source": [
    "#### 60. How to tell if a given 2D array has null columns? (★★☆) \n",
    "(**hint**: any, ~)"
   ]
  },
  {
   "cell_type": "code",
   "execution_count": 71,
   "metadata": {
    "nbpresent": {
     "id": "70c2cf68-162f-43bb-994d-2807f61fa40c"
    }
   },
   "outputs": [
    {
     "name": "stdout",
     "output_type": "stream",
     "text": [
      "[[ True False]\n",
      " [False False]]\n",
      "True\n"
     ]
    }
   ],
   "source": [
    "temp60 = np.zeros([2, 2])\n",
    "temp60[0][0] = np.NaN\n",
    "temp60 = np.isnan(temp60)\n",
    "print(temp60)\n",
    "print(temp60.any())"
   ]
  },
  {
   "cell_type": "markdown",
   "metadata": {
    "nbpresent": {
     "id": "19aa98b2-341d-49f6-9356-592d0401b8ba"
    }
   },
   "source": [
    "#### 61. Find the nearest value from a given value in an array (★★☆) \n",
    "(**hint**: np.abs, argmin, flat)"
   ]
  },
  {
   "cell_type": "code",
   "execution_count": 72,
   "metadata": {
    "nbpresent": {
     "id": "4aa972f2-6bae-46bc-ac46-7d4cf6bbe0d2"
    }
   },
   "outputs": [
    {
     "name": "stdout",
     "output_type": "stream",
     "text": [
      "[ 0.65382584  0.85053917  0.3854276   0.7304907   0.74747473  0.90996388\n",
      "  0.40459337  0.55264663  0.31192789  0.19242793]\n",
      "0.552646634749\n"
     ]
    }
   ],
   "source": [
    "temp61 = np.random.uniform(0,1,10)\n",
    "pick_temp61 = 0.5\n",
    "print(temp61)\n",
    "m = temp61.flat[np.abs(temp61 - pick_temp61).argmin()]\n",
    "print(m)"
   ]
  },
  {
   "cell_type": "markdown",
   "metadata": {
    "nbpresent": {
     "id": "ed19c41d-d987-44c5-bb07-dfa7f46b927d"
    }
   },
   "source": [
    "#### 62. Considering two arrays with shape (1,3) and (3,1), how to compute their sum using an iterator? (★★☆) \n",
    "(**hint**: np.nditer)"
   ]
  },
  {
   "cell_type": "code",
   "execution_count": 73,
   "metadata": {
    "nbpresent": {
     "id": "3a149aac-e3d9-41b4-9a19-3dc131d55479"
    }
   },
   "outputs": [
    {
     "name": "stdout",
     "output_type": "stream",
     "text": [
      "[[0]\n",
      " [1]\n",
      " [2]]\n",
      "[[0 1 2]]\n",
      "\n",
      "\n",
      "[[0 1 2]\n",
      " [1 2 3]\n",
      " [2 3 4]]\n"
     ]
    }
   ],
   "source": [
    "A = np.arange(3).reshape(3,1)\n",
    "B = np.arange(3).reshape(1,3)\n",
    "print(A)\n",
    "print(B)\n",
    "print(\"\\n\")\n",
    "it = np.nditer([A,B,None])\n",
    "for x,y,z in it:\n",
    "    z[...] = x + y\n",
    "\n",
    "print(it.operands[2])"
   ]
  },
  {
   "cell_type": "markdown",
   "metadata": {
    "nbpresent": {
     "id": "24d88589-a54a-48df-81c7-7949b68e297d"
    }
   },
   "source": [
    "#### 63. Create an array class that has a name attribute (★★☆) \n",
    "(**hint**: class method)"
   ]
  },
  {
   "cell_type": "code",
   "execution_count": 74,
   "metadata": {
    "nbpresent": {
     "id": "55ab958b-e32d-4a62-bc0d-bc6766ef2a06"
    }
   },
   "outputs": [
    {
     "name": "stdout",
     "output_type": "stream",
     "text": [
      "range_10\n"
     ]
    }
   ],
   "source": [
    "class NamedArray(np.ndarray):\n",
    "    def __new__(cls, array, name=\"no name\"):\n",
    "        obj = np.asarray(array).view(cls)\n",
    "        obj.name = name\n",
    "        return obj\n",
    "    \n",
    "    def __array_finalize__(self, obj):\n",
    "        if obj is None: return\n",
    "        self.info = getattr(obj, 'name', \"no name\")\n",
    "\n",
    "Z = NamedArray(np.arange(10), \"range_10\")\n",
    "print (Z.name)"
   ]
  },
  {
   "cell_type": "markdown",
   "metadata": {
    "nbpresent": {
     "id": "3b628d6a-0868-4067-b049-072340c4e499"
    }
   },
   "source": [
    "#### 64. Consider a given vector, how to add 1 to each element indexed by a second vector (be careful with repeated indices)? (★★★) \n",
    "(**hint**: np.bincount | np.add.at)"
   ]
  },
  {
   "cell_type": "code",
   "execution_count": 75,
   "metadata": {
    "nbpresent": {
     "id": "bb58b88d-8b3b-4c7a-ad55-f2d9c93d400e"
    }
   },
   "outputs": [
    {
     "name": "stdout",
     "output_type": "stream",
     "text": [
      "Z= [ 1.  1.  1.  1.  1.  1.  1.  1.  1.  1.]\n",
      "I= [7 7 8 8 5 3 2 9 3 0 5 1 4 5 1 1 1 5 5 1]\n",
      "bincount [1 5 1 2 1 5 0 2 2 1]\n",
      "Z + bincount= [ 2.  6.  2.  3.  2.  6.  1.  3.  3.  2.]\n",
      "[  3.  11.   3.   5.   3.  11.   1.   5.   5.   3.]\n"
     ]
    }
   ],
   "source": [
    "# Author: Brett Olsen\n",
    "\n",
    "Z = np.ones(10)\n",
    "print(\"Z=\",Z)\n",
    "I = np.random.randint(0,len(Z),20)\n",
    "print(\"I=\",I)\n",
    "print(\"bincount\", np.bincount(I, minlength=len(Z)))\n",
    "Z += np.bincount(I, minlength=len(Z))\n",
    "print(\"Z + bincount=\", Z)\n",
    "\n",
    "# Another solution\n",
    "# Author: Bartosz Telenczuk\n",
    "np.add.at(Z, I, 1)\n",
    "print(Z)"
   ]
  },
  {
   "cell_type": "markdown",
   "metadata": {
    "nbpresent": {
     "id": "52d904cf-0786-45d8-9dbb-ac3ca633faea"
    }
   },
   "source": [
    "#### 65. How to accumulate elements of a vector (X) to an array (F) based on an index list (I)? (★★★) \n",
    "(**hint**: np.bincount)"
   ]
  },
  {
   "cell_type": "code",
   "execution_count": 76,
   "metadata": {
    "nbpresent": {
     "id": "c65addec-2c8e-4b37-8d17-1be58bcaed08"
    }
   },
   "outputs": [
    {
     "name": "stdout",
     "output_type": "stream",
     "text": [
      "[0 2 0 2 1 0 0 0 0 1]\n",
      "[ 0.  7.  0.  6.  5.  0.  0.  0.  0.  3.]\n"
     ]
    }
   ],
   "source": [
    "\n",
    "# Author: Alan G Isaac# Autho \n",
    "\n",
    "X = [1,2,3,4,5,6]\n",
    "I = [1,3,9,3,4,1]\n",
    "print(np.bincount(I))\n",
    "F = np.bincount(I,X)\n",
    "print(F)"
   ]
  },
  {
   "cell_type": "markdown",
   "metadata": {
    "nbpresent": {
     "id": "b1da65e5-a7c6-4348-aef2-0f67fc17acfa"
    }
   },
   "source": [
    "#### 66. Considering a (w,h,3) image of (dtype=ubyte), compute the number of unique colors (★★★) \n",
    "(**hint**: np.unique)"
   ]
  },
  {
   "cell_type": "code",
   "execution_count": 86,
   "metadata": {
    "nbpresent": {
     "id": "0e689f6d-a9dc-4375-87b3-89891f2fb596"
    }
   },
   "outputs": [
    {
     "name": "stdout",
     "output_type": "stream",
     "text": [
      "8\n"
     ]
    }
   ],
   "source": [
    "w,h = 16,16\n",
    "I = np.random.randint(0,2,(h,w,3)).astype(np.ubyte)\n",
    "#Note that we should compute 256*256 first. \n",
    "#Otherwise numpy will only promote F.dtype to 'uint16' and overfolw will occur\n",
    "F = I[...,0]*(256*256) + I[...,1]*256 +I[...,2]\n",
    "n = len(np.unique(F))\n",
    "print(n)"
   ]
  },
  {
   "cell_type": "markdown",
   "metadata": {
    "nbpresent": {
     "id": "85263d1d-bd19-4600-a3a8-8f2eaa55e516"
    }
   },
   "source": [
    "#### 67. Considering a four dimensions array, how to get sum over the last two axis at once? (★★★) \n",
    "(**hint**: sum(axis=(-2,-1)))"
   ]
  },
  {
   "cell_type": "code",
   "execution_count": 84,
   "metadata": {
    "nbpresent": {
     "id": "12b60bf0-41a1-4eb8-b823-de51a7621117"
    }
   },
   "outputs": [
    {
     "name": "stdout",
     "output_type": "stream",
     "text": [
      "[[57 61 59 71]\n",
      " [54 56 56 79]\n",
      " [50 53 62 62]]\n",
      "[[57 61 59 71]\n",
      " [54 56 56 79]\n",
      " [50 53 62 62]]\n"
     ]
    }
   ],
   "source": [
    "A = np.random.randint(0,10,(3,4,3,4))\n",
    "# solution by passing a tuple of axes (introduced in numpy 1.7.0)\n",
    "sum = A.sum(axis=(-2,-1))\n",
    "print(sum)\n",
    "# solution by flattening the last two dimensions into one\n",
    "# (useful for functions that don't accept tuples for axis argument)\n",
    "sum = A.reshape(A.shape[:-2] + (-1,)).sum(axis=-1)\n",
    "print(sum)"
   ]
  },
  {
   "cell_type": "markdown",
   "metadata": {
    "nbpresent": {
     "id": "c434cc9a-c451-43a9-888d-f12a9ae258c1"
    }
   },
   "source": [
    "#### 68. Considering a one-dimensional vector D, how to compute means of subsets of D using a vector S of same size describing subset  indices? (★★★) \n",
    "(**hint**: np.bincount)"
   ]
  },
  {
   "cell_type": "code",
   "execution_count": null,
   "metadata": {
    "nbpresent": {
     "id": "037081b9-dcb8-42d7-af1e-f787844e9f68"
    }
   },
   "outputs": [],
   "source": []
  },
  {
   "cell_type": "markdown",
   "metadata": {
    "nbpresent": {
     "id": "3f1e59af-5e68-467f-971f-f8ed6cbb5a46"
    }
   },
   "source": [
    "#### 69. How to get the diagonal of a dot product? (★★★) \n",
    "(**hint**: np.diag)"
   ]
  },
  {
   "cell_type": "code",
   "execution_count": null,
   "metadata": {
    "nbpresent": {
     "id": "5e394d32-b744-4455-8535-bcfa8415a27b"
    }
   },
   "outputs": [],
   "source": []
  },
  {
   "cell_type": "markdown",
   "metadata": {
    "nbpresent": {
     "id": "68c18ee0-4126-4f60-88e1-9a2a01138755"
    }
   },
   "source": [
    "#### 70. Consider the vector \\[1, 2, 3, 4, 5\\], how to build a new vector with 3 consecutive zeros interleaved between each value? (★★★) \n",
    "(**hint**: array\\[::4\\])"
   ]
  },
  {
   "cell_type": "code",
   "execution_count": null,
   "metadata": {
    "nbpresent": {
     "id": "504755fc-706e-49df-8887-be2decb515cf"
    }
   },
   "outputs": [],
   "source": []
  },
  {
   "cell_type": "markdown",
   "metadata": {
    "nbpresent": {
     "id": "46e119e3-4f8f-4e7a-8128-90529d508f0e"
    }
   },
   "source": [
    "#### 71. Consider an array of dimension (5,5,3), how to mulitply it by an array with dimensions (5,5)? (★★★) \n",
    "(**hint**: array\\[:, :, None\\])"
   ]
  },
  {
   "cell_type": "code",
   "execution_count": null,
   "metadata": {
    "nbpresent": {
     "id": "dfeefc39-b496-4ec2-a0af-b03ee5e94ef0"
    }
   },
   "outputs": [],
   "source": []
  },
  {
   "cell_type": "markdown",
   "metadata": {
    "nbpresent": {
     "id": "c013f113-8073-4700-885a-0afa02446a2d"
    }
   },
   "source": [
    "#### 72. How to swap two rows of an array? (★★★) \n",
    "(**hint**: array\\[\\[\\]\\] = array\\[\\[\\]\\])"
   ]
  },
  {
   "cell_type": "code",
   "execution_count": null,
   "metadata": {
    "nbpresent": {
     "id": "250f56ed-b7c8-499f-849f-9ae94fc15bbd"
    }
   },
   "outputs": [],
   "source": []
  },
  {
   "cell_type": "markdown",
   "metadata": {
    "nbpresent": {
     "id": "05d85655-636a-4e6f-bf30-737cf56d3918"
    }
   },
   "source": [
    "#### 73. Consider a set of 10 triplets describing 10 triangles (with shared vertices), find the set of unique line segments composing all the  triangles (★★★) \n",
    "(**hint**: repeat, np.roll, np.sort, view, np.unique)"
   ]
  },
  {
   "cell_type": "code",
   "execution_count": null,
   "metadata": {
    "nbpresent": {
     "id": "e2dad289-17e6-4573-a723-6888ae80e7cc"
    }
   },
   "outputs": [],
   "source": []
  },
  {
   "cell_type": "markdown",
   "metadata": {
    "nbpresent": {
     "id": "89d79c4a-e3d6-4c7e-b7d4-dc804034d69f"
    }
   },
   "source": [
    "#### 74. Given an array C that is a bincount, how to produce an array A such that np.bincount(A) == C? (★★★) \n",
    "(**hint**: np.repeat)"
   ]
  },
  {
   "cell_type": "code",
   "execution_count": null,
   "metadata": {
    "nbpresent": {
     "id": "89f9d79b-d9ea-440a-93e5-abc767e71751"
    }
   },
   "outputs": [],
   "source": []
  },
  {
   "cell_type": "markdown",
   "metadata": {
    "nbpresent": {
     "id": "df6b121a-3195-4a33-b8fb-b6b361256e29"
    }
   },
   "source": [
    "#### 75. How to compute averages using a sliding window over an array? (★★★) \n",
    "(**hint**: np.cumsum)"
   ]
  },
  {
   "cell_type": "code",
   "execution_count": null,
   "metadata": {
    "nbpresent": {
     "id": "f65ae653-6fb3-479e-a692-3f99fdf5f6f1"
    }
   },
   "outputs": [],
   "source": []
  },
  {
   "cell_type": "markdown",
   "metadata": {
    "nbpresent": {
     "id": "8de236dd-721e-4b19-bad3-b3fb4ed38d3e"
    }
   },
   "source": [
    "#### 76. Consider a one-dimensional array Z, build a two-dimensional array whose first row is (Z\\[0\\],Z\\[1\\],Z\\[2\\]) and each subsequent row is  shifted by 1 (last row should be (Z\\[-3\\],Z\\[-2\\],Z\\[-1\\]) (★★★) \n",
    "(**hint**: from numpy.lib import stride_tricks)"
   ]
  },
  {
   "cell_type": "code",
   "execution_count": null,
   "metadata": {
    "nbpresent": {
     "id": "3ca64196-f664-4541-9947-b7b9a0024cc2"
    }
   },
   "outputs": [],
   "source": []
  },
  {
   "cell_type": "markdown",
   "metadata": {
    "nbpresent": {
     "id": "f5262762-a680-44de-93fe-ec8e5216d614"
    }
   },
   "source": [
    "#### 77. How to negate a boolean, or to change the sign of a float inplace? (★★★) \n",
    "(**hint**: np.logical_not, np.negative)"
   ]
  },
  {
   "cell_type": "code",
   "execution_count": null,
   "metadata": {
    "nbpresent": {
     "id": "61aa94fe-8ce7-428d-a604-2d458aa5e309"
    }
   },
   "outputs": [],
   "source": []
  },
  {
   "cell_type": "markdown",
   "metadata": {
    "nbpresent": {
     "id": "8cb8fde1-2ec3-408a-8d6f-f8f24d0d246d"
    }
   },
   "source": [
    "#### 78. Consider 2 sets of points P0,P1 describing lines (2d) and a point p, how to compute distance from p to each line i  (P0\\[i\\],P1\\[i\\])? (★★★)"
   ]
  },
  {
   "cell_type": "code",
   "execution_count": null,
   "metadata": {
    "nbpresent": {
     "id": "8b7f5fd3-4044-434c-887e-52279eaaffd5"
    }
   },
   "outputs": [],
   "source": []
  },
  {
   "cell_type": "markdown",
   "metadata": {
    "nbpresent": {
     "id": "6fc62c04-c15c-4d74-906d-d6f3c14b7339"
    }
   },
   "source": [
    "#### 79. Consider 2 sets of points P0,P1 describing lines (2d) and a set of points P, how to compute distance from each point j (P\\[j\\]) to each line i (P0\\[i\\],P1\\[i\\])? (★★★)"
   ]
  },
  {
   "cell_type": "code",
   "execution_count": null,
   "metadata": {
    "nbpresent": {
     "id": "7c706106-d586-4efe-b524-302c532af40d"
    }
   },
   "outputs": [],
   "source": []
  },
  {
   "cell_type": "markdown",
   "metadata": {
    "nbpresent": {
     "id": "349a5223-ef94-48df-914a-0c30d749c6b2"
    }
   },
   "source": [
    "#### 80. Consider an arbitrary array, write a function that extract a subpart with a fixed shape and centered on a given element (pad with a `fill` value when necessary) (★★★) \n",
    "(**hint**: minimum, maximum)"
   ]
  },
  {
   "cell_type": "code",
   "execution_count": null,
   "metadata": {
    "nbpresent": {
     "id": "62dd3ce3-8206-4849-b054-e480a8175439"
    }
   },
   "outputs": [],
   "source": []
  },
  {
   "cell_type": "markdown",
   "metadata": {
    "nbpresent": {
     "id": "676f9ce8-77b3-4a22-8f5b-ba46c3f4a1de"
    }
   },
   "source": [
    "#### 81. Consider an array Z = \\[1,2,3,4,5,6,7,8,9,10,11,12,13,14\\], how to generate an array R = \\[\\[1,2,3,4\\], \\[2,3,4,5\\], \\[3,4,5,6\\], ..., \\[11,12,13,14\\]\\]? (★★★) \n",
    "(**hint**: stride\\_tricks.as\\_strided)"
   ]
  },
  {
   "cell_type": "code",
   "execution_count": null,
   "metadata": {
    "nbpresent": {
     "id": "236dd925-c4a1-4794-a685-a5d463473080"
    }
   },
   "outputs": [],
   "source": []
  },
  {
   "cell_type": "markdown",
   "metadata": {
    "nbpresent": {
     "id": "0b4fee71-2518-4702-91bc-23a1c53d20cc"
    }
   },
   "source": [
    "#### 82. Compute a matrix rank (★★★) \n",
    "(**hint**: np.linalg.svd) (suggestion: np.linalg.svd)"
   ]
  },
  {
   "cell_type": "code",
   "execution_count": null,
   "metadata": {
    "nbpresent": {
     "id": "390b8499-a084-4e69-8635-78b565858ff1"
    }
   },
   "outputs": [],
   "source": []
  },
  {
   "cell_type": "markdown",
   "metadata": {
    "nbpresent": {
     "id": "43ace6dc-2cca-472b-a8b1-29a12fb1ffac"
    }
   },
   "source": [
    "#### 83. How to find the most frequent value in an array? \n",
    "(**hint**: np.bincount, argmax)"
   ]
  },
  {
   "cell_type": "code",
   "execution_count": null,
   "metadata": {
    "nbpresent": {
     "id": "20f522c9-a0fc-4ac9-89df-5c537ba9f2c5"
    }
   },
   "outputs": [],
   "source": []
  },
  {
   "cell_type": "markdown",
   "metadata": {
    "nbpresent": {
     "id": "824f52c1-b61c-42f1-a7bb-f60296ba7fb9"
    }
   },
   "source": [
    "#### 84. Extract all the contiguous 3x3 blocks from a random 10x10 matrix (★★★) \n",
    "(**hint**: stride\\_tricks.as\\_strided)"
   ]
  },
  {
   "cell_type": "code",
   "execution_count": null,
   "metadata": {
    "nbpresent": {
     "id": "7d150685-50e7-4ec9-8655-7256a41e7b0b"
    }
   },
   "outputs": [],
   "source": []
  },
  {
   "cell_type": "markdown",
   "metadata": {
    "nbpresent": {
     "id": "d379ba51-dea6-40dc-8441-6ebf578885e8"
    }
   },
   "source": [
    "#### 85. Create a 2D array subclass such that Z\\[i,j\\] == Z\\[j,i\\] (★★★) \n",
    "(**hint**: class method)"
   ]
  },
  {
   "cell_type": "code",
   "execution_count": null,
   "metadata": {
    "nbpresent": {
     "id": "8e250bd6-9825-4fd7-9bf5-fce529c87152"
    }
   },
   "outputs": [],
   "source": []
  },
  {
   "cell_type": "markdown",
   "metadata": {
    "nbpresent": {
     "id": "977fe6b8-107a-470f-ba4a-8b0cebda818b"
    }
   },
   "source": [
    "#### 86. Consider a set of p matrices wich shape (n,n) and a set of p vectors with shape (n,1). How to compute the sum of of the p matrix products at once? (result has shape (n,1)) (★★★) \n",
    "(**hint**: np.tensordot)"
   ]
  },
  {
   "cell_type": "code",
   "execution_count": null,
   "metadata": {
    "nbpresent": {
     "id": "34f3535f-ea06-46a2-9060-fc34a8cc18e8"
    }
   },
   "outputs": [],
   "source": []
  },
  {
   "cell_type": "markdown",
   "metadata": {
    "nbpresent": {
     "id": "f7aeb88d-7cb4-45d4-b451-182c59583c50"
    }
   },
   "source": [
    "#### 87. Consider a 16x16 array, how to get the block-sum (block size is 4x4)? (★★★) \n",
    "(**hint**: np.add.reduceat)"
   ]
  },
  {
   "cell_type": "code",
   "execution_count": null,
   "metadata": {
    "nbpresent": {
     "id": "0e7f3dda-884d-4a80-b088-fd4c75306fdf"
    }
   },
   "outputs": [],
   "source": []
  },
  {
   "cell_type": "markdown",
   "metadata": {
    "nbpresent": {
     "id": "b026b3a8-573e-414f-8ffe-c5bf823ecf1d"
    }
   },
   "source": [
    "#### 88. How to implement the Game of Life using numpy arrays? (★★★)"
   ]
  },
  {
   "cell_type": "code",
   "execution_count": null,
   "metadata": {
    "nbpresent": {
     "id": "9483dd30-1045-4615-8f13-0c67480a7489"
    }
   },
   "outputs": [],
   "source": []
  },
  {
   "cell_type": "markdown",
   "metadata": {
    "nbpresent": {
     "id": "7424806e-5ab7-48d4-852e-f273d3833aec"
    }
   },
   "source": [
    "#### 89. How to get the n largest values of an array (★★★) \n",
    "(**hint**: np.argsort | np.argpartition)"
   ]
  },
  {
   "cell_type": "code",
   "execution_count": null,
   "metadata": {
    "nbpresent": {
     "id": "6b05d78b-9c50-40d9-b2e6-97440454922f"
    }
   },
   "outputs": [],
   "source": []
  },
  {
   "cell_type": "markdown",
   "metadata": {
    "nbpresent": {
     "id": "8d8c3de7-6b61-42f5-b781-369c15288a98"
    }
   },
   "source": [
    "#### 90. Given an arbitrary number of vectors, build the cartesian product (every combinations of every item) (★★★) \n",
    "(**hint**: np.indices)"
   ]
  },
  {
   "cell_type": "code",
   "execution_count": null,
   "metadata": {
    "nbpresent": {
     "id": "227a7e15-95d0-49f4-8993-9056303e19f2"
    },
    "scrolled": true
   },
   "outputs": [],
   "source": []
  },
  {
   "cell_type": "markdown",
   "metadata": {
    "nbpresent": {
     "id": "3b6f0757-62ab-43ab-898f-5d1c730091ec"
    }
   },
   "source": [
    "#### 91. How to create a record array from a regular array? (★★★) \n",
    "(**hint**: np.core.records.fromarrays)"
   ]
  },
  {
   "cell_type": "code",
   "execution_count": null,
   "metadata": {
    "nbpresent": {
     "id": "9fe5baa1-9f17-4d4a-9ca2-e20b248f7c39"
    }
   },
   "outputs": [],
   "source": []
  },
  {
   "cell_type": "markdown",
   "metadata": {
    "nbpresent": {
     "id": "a0cf4617-a37a-486c-865e-20e2b9ae1ee1"
    }
   },
   "source": [
    "#### 92. Consider a large vector Z, compute Z to the power of 3 using 3 different methods (★★★) \n",
    "(**hint**: np.power, \\*, np.einsum)"
   ]
  },
  {
   "cell_type": "code",
   "execution_count": null,
   "metadata": {
    "nbpresent": {
     "id": "43185379-8412-4afb-9942-8f93a1290531"
    }
   },
   "outputs": [],
   "source": []
  },
  {
   "cell_type": "markdown",
   "metadata": {
    "nbpresent": {
     "id": "d8a019f1-2637-4b0e-af4f-5a43c490c2dd"
    }
   },
   "source": [
    "#### 93. Consider two arrays A and B of shape (8,3) and (2,2). How to find rows of A that contain elements of each row of B regardless of the order of the elements in B? (★★★) \n",
    "(**hint**: np.where)"
   ]
  },
  {
   "cell_type": "code",
   "execution_count": null,
   "metadata": {
    "nbpresent": {
     "id": "0af00e88-aa9c-4a9a-be5c-f1f9ca11a8ec"
    }
   },
   "outputs": [],
   "source": []
  },
  {
   "cell_type": "markdown",
   "metadata": {
    "nbpresent": {
     "id": "ea54fe32-85c3-4364-be4a-c6f9ce1f401e"
    }
   },
   "source": [
    "#### 94. Considering a 10x3 matrix, extract rows with unequal values (e.g. \\[2,2,3\\]) (★★★)"
   ]
  },
  {
   "cell_type": "code",
   "execution_count": null,
   "metadata": {
    "nbpresent": {
     "id": "abe8f8d0-02b8-4bcd-a997-ea4ebe76f3a0"
    }
   },
   "outputs": [],
   "source": []
  },
  {
   "cell_type": "markdown",
   "metadata": {
    "nbpresent": {
     "id": "c929b006-8d68-4f06-acf1-02642e1f5496"
    }
   },
   "source": [
    "#### 95. Convert a vector of ints into a matrix binary representation (★★★) \n",
    "(**hint**: np.unpackbits)"
   ]
  },
  {
   "cell_type": "code",
   "execution_count": null,
   "metadata": {
    "nbpresent": {
     "id": "1ab13e41-895f-4b6c-b87d-ee2c1a00ac1a"
    }
   },
   "outputs": [],
   "source": []
  },
  {
   "cell_type": "markdown",
   "metadata": {
    "nbpresent": {
     "id": "90d36b94-498a-4489-bf58-a9a518f30978"
    }
   },
   "source": [
    "#### 96. Given a two dimensional array, how to extract unique rows? (★★★) \n",
    "(**hint**: np.ascontiguousarray)"
   ]
  },
  {
   "cell_type": "code",
   "execution_count": null,
   "metadata": {
    "nbpresent": {
     "id": "fc8e3f5b-3b82-4136-9ac9-1f9bfe021a5d"
    }
   },
   "outputs": [],
   "source": []
  },
  {
   "cell_type": "markdown",
   "metadata": {
    "nbpresent": {
     "id": "2ee7f2ef-00d1-417b-8f13-ec1cc32c205e"
    }
   },
   "source": [
    "#### 97. Considering 2 vectors A & B, write the einsum equivalent of inner, outer, sum, and mul function (★★★) \n",
    "(**hint**: np.einsum)"
   ]
  },
  {
   "cell_type": "code",
   "execution_count": null,
   "metadata": {
    "nbpresent": {
     "id": "e32e89be-b2b0-459b-bcad-18965a0c6f18"
    }
   },
   "outputs": [],
   "source": []
  },
  {
   "cell_type": "markdown",
   "metadata": {
    "nbpresent": {
     "id": "fe8e8e0d-1922-4577-9ae8-29ece9cae6ea"
    }
   },
   "source": [
    "#### 98. Considering a path described by two vectors (X,Y), how to sample it using equidistant samples (★★★)? \n",
    "(**hint**: np.cumsum, np.interp)"
   ]
  },
  {
   "cell_type": "code",
   "execution_count": null,
   "metadata": {
    "nbpresent": {
     "id": "1b940d0f-2e00-4fd2-938f-ae08f93803d3"
    }
   },
   "outputs": [],
   "source": []
  },
  {
   "cell_type": "markdown",
   "metadata": {
    "nbpresent": {
     "id": "ca5d7673-7f7c-451f-931a-6067a4e618d1"
    }
   },
   "source": [
    "#### 99. Given an integer n and a 2D array X, select from X the rows which can be interpreted as draws from a multinomial distribution with n degrees, i.e., the rows which only contain integers and which sum to n. (★★★) \n",
    "(**hint**: np.logical\\_and.reduce, np.mod)"
   ]
  },
  {
   "cell_type": "code",
   "execution_count": null,
   "metadata": {
    "nbpresent": {
     "id": "1bf91ef8-a1f4-4d2d-9122-85d5f8f3f68e"
    }
   },
   "outputs": [],
   "source": []
  },
  {
   "cell_type": "markdown",
   "metadata": {
    "nbpresent": {
     "id": "f0b07935-20ef-4e3a-9b7a-b373c61958dd"
    }
   },
   "source": [
    "#### 100. Compute bootstrapped 95% confidence intervals for the mean of a 1D array X (i.e., resample the elements of an array with replacement N times, compute the mean of each sample, and then compute percentiles over the means). (★★★) \n",
    "(**hint**: np.percentile)"
   ]
  },
  {
   "cell_type": "code",
   "execution_count": null,
   "metadata": {
    "nbpresent": {
     "id": "01e6681c-78ff-4a4c-b5c7-558bcd79a987"
    }
   },
   "outputs": [],
   "source": []
  }
 ],
 "metadata": {
  "anaconda-cloud": {},
  "kernelspec": {
   "display_name": "Python [default]",
   "language": "python",
   "name": "python3"
  },
  "language_info": {
   "codemirror_mode": {
    "name": "ipython",
    "version": 3
   },
   "file_extension": ".py",
   "mimetype": "text/x-python",
   "name": "python",
   "nbconvert_exporter": "python",
   "pygments_lexer": "ipython3",
   "version": "3.6.4"
  }
 },
 "nbformat": 4,
 "nbformat_minor": 1
}
